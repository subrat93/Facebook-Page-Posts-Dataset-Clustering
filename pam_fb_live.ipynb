{
 "cells": [
  {
   "cell_type": "code",
   "execution_count": 55,
   "metadata": {},
   "outputs": [],
   "source": [
    "import random \n",
    "import numpy as np \n",
    "import pandas as pd\n",
    "from numpy import mean\n",
    "from numpy import std\n",
    "import matplotlib.pyplot as plt \n",
    "from sklearn.preprocessing import StandardScaler\n",
    "from IPython.display import display\n",
    "from sklearn.cluster import KMeans \n",
    "from sklearn.decomposition import PCA\n",
    "from mpl_toolkits.mplot3d import Axes3D\n",
    "from sklearn.metrics import homogeneity_score, completeness_score, \\\n",
    "v_measure_score, adjusted_rand_score, adjusted_mutual_info_score, silhouette_score\n",
    "%matplotlib inline\n",
    "\n",
    "#plotly imports\n",
    "import plotly as py\n",
    "import plotly.graph_objs as go\n",
    "from plotly.offline import download_plotlyjs, init_notebook_mode, plot, iplot\n",
    "\n",
    "np.random.seed(123)"
   ]
  },
  {
   "cell_type": "code",
   "execution_count": 56,
   "metadata": {},
   "outputs": [
    {
     "data": {
      "text/html": [
       "<div>\n",
       "<style scoped>\n",
       "    .dataframe tbody tr th:only-of-type {\n",
       "        vertical-align: middle;\n",
       "    }\n",
       "\n",
       "    .dataframe tbody tr th {\n",
       "        vertical-align: top;\n",
       "    }\n",
       "\n",
       "    .dataframe thead th {\n",
       "        text-align: right;\n",
       "    }\n",
       "</style>\n",
       "<table border=\"1\" class=\"dataframe\">\n",
       "  <thead>\n",
       "    <tr style=\"text-align: right;\">\n",
       "      <th></th>\n",
       "      <th>status_id</th>\n",
       "      <th>status_type</th>\n",
       "      <th>status_published</th>\n",
       "      <th>num_reactions</th>\n",
       "      <th>num_comments</th>\n",
       "      <th>num_shares</th>\n",
       "      <th>num_likes</th>\n",
       "      <th>num_loves</th>\n",
       "      <th>num_wows</th>\n",
       "      <th>num_hahas</th>\n",
       "      <th>num_sads</th>\n",
       "      <th>num_angrys</th>\n",
       "      <th>Column1</th>\n",
       "      <th>Column2</th>\n",
       "      <th>Column3</th>\n",
       "      <th>Column4</th>\n",
       "    </tr>\n",
       "  </thead>\n",
       "  <tbody>\n",
       "    <tr>\n",
       "      <th>0</th>\n",
       "      <td>246675545449582_1649696485147474</td>\n",
       "      <td>video</td>\n",
       "      <td>4/22/2018 6:00</td>\n",
       "      <td>529</td>\n",
       "      <td>512</td>\n",
       "      <td>262</td>\n",
       "      <td>432</td>\n",
       "      <td>92</td>\n",
       "      <td>3</td>\n",
       "      <td>1</td>\n",
       "      <td>1</td>\n",
       "      <td>0</td>\n",
       "      <td>NaN</td>\n",
       "      <td>NaN</td>\n",
       "      <td>NaN</td>\n",
       "      <td>NaN</td>\n",
       "    </tr>\n",
       "    <tr>\n",
       "      <th>1</th>\n",
       "      <td>246675545449582_1649426988507757</td>\n",
       "      <td>photo</td>\n",
       "      <td>4/21/2018 22:45</td>\n",
       "      <td>150</td>\n",
       "      <td>0</td>\n",
       "      <td>0</td>\n",
       "      <td>150</td>\n",
       "      <td>0</td>\n",
       "      <td>0</td>\n",
       "      <td>0</td>\n",
       "      <td>0</td>\n",
       "      <td>0</td>\n",
       "      <td>NaN</td>\n",
       "      <td>NaN</td>\n",
       "      <td>NaN</td>\n",
       "      <td>NaN</td>\n",
       "    </tr>\n",
       "    <tr>\n",
       "      <th>2</th>\n",
       "      <td>246675545449582_1648730588577397</td>\n",
       "      <td>video</td>\n",
       "      <td>4/21/2018 6:17</td>\n",
       "      <td>227</td>\n",
       "      <td>236</td>\n",
       "      <td>57</td>\n",
       "      <td>204</td>\n",
       "      <td>21</td>\n",
       "      <td>1</td>\n",
       "      <td>1</td>\n",
       "      <td>0</td>\n",
       "      <td>0</td>\n",
       "      <td>NaN</td>\n",
       "      <td>NaN</td>\n",
       "      <td>NaN</td>\n",
       "      <td>NaN</td>\n",
       "    </tr>\n",
       "    <tr>\n",
       "      <th>3</th>\n",
       "      <td>246675545449582_1648576705259452</td>\n",
       "      <td>photo</td>\n",
       "      <td>4/21/2018 2:29</td>\n",
       "      <td>111</td>\n",
       "      <td>0</td>\n",
       "      <td>0</td>\n",
       "      <td>111</td>\n",
       "      <td>0</td>\n",
       "      <td>0</td>\n",
       "      <td>0</td>\n",
       "      <td>0</td>\n",
       "      <td>0</td>\n",
       "      <td>NaN</td>\n",
       "      <td>NaN</td>\n",
       "      <td>NaN</td>\n",
       "      <td>NaN</td>\n",
       "    </tr>\n",
       "    <tr>\n",
       "      <th>4</th>\n",
       "      <td>246675545449582_1645700502213739</td>\n",
       "      <td>photo</td>\n",
       "      <td>4/18/2018 3:22</td>\n",
       "      <td>213</td>\n",
       "      <td>0</td>\n",
       "      <td>0</td>\n",
       "      <td>204</td>\n",
       "      <td>9</td>\n",
       "      <td>0</td>\n",
       "      <td>0</td>\n",
       "      <td>0</td>\n",
       "      <td>0</td>\n",
       "      <td>NaN</td>\n",
       "      <td>NaN</td>\n",
       "      <td>NaN</td>\n",
       "      <td>NaN</td>\n",
       "    </tr>\n",
       "  </tbody>\n",
       "</table>\n",
       "</div>"
      ],
      "text/plain": [
       "                          status_id status_type status_published  \\\n",
       "0  246675545449582_1649696485147474       video   4/22/2018 6:00   \n",
       "1  246675545449582_1649426988507757       photo  4/21/2018 22:45   \n",
       "2  246675545449582_1648730588577397       video   4/21/2018 6:17   \n",
       "3  246675545449582_1648576705259452       photo   4/21/2018 2:29   \n",
       "4  246675545449582_1645700502213739       photo   4/18/2018 3:22   \n",
       "\n",
       "   num_reactions  num_comments  num_shares  num_likes  num_loves  num_wows  \\\n",
       "0            529           512         262        432         92         3   \n",
       "1            150             0           0        150          0         0   \n",
       "2            227           236          57        204         21         1   \n",
       "3            111             0           0        111          0         0   \n",
       "4            213             0           0        204          9         0   \n",
       "\n",
       "   num_hahas  num_sads  num_angrys  Column1  Column2  Column3  Column4  \n",
       "0          1         1           0      NaN      NaN      NaN      NaN  \n",
       "1          0         0           0      NaN      NaN      NaN      NaN  \n",
       "2          1         0           0      NaN      NaN      NaN      NaN  \n",
       "3          0         0           0      NaN      NaN      NaN      NaN  \n",
       "4          0         0           0      NaN      NaN      NaN      NaN  "
      ]
     },
     "execution_count": 56,
     "metadata": {},
     "output_type": "execute_result"
    }
   ],
   "source": [
    "df = pd.read_csv('Live.csv')\n",
    "df.head()"
   ]
  },
  {
   "cell_type": "code",
   "execution_count": 57,
   "metadata": {},
   "outputs": [
    {
     "data": {
      "text/plain": [
       "(7050, 16)"
      ]
     },
     "execution_count": 57,
     "metadata": {},
     "output_type": "execute_result"
    }
   ],
   "source": [
    "df.shape"
   ]
  },
  {
   "cell_type": "markdown",
   "metadata": {},
   "source": [
    "# Data Preprocessing"
   ]
  },
  {
   "cell_type": "markdown",
   "metadata": {},
   "source": [
    "## Univariate Analysis"
   ]
  },
  {
   "cell_type": "code",
   "execution_count": 58,
   "metadata": {},
   "outputs": [
    {
     "data": {
      "text/plain": [
       "Text(0.5, 1.0, '')"
      ]
     },
     "execution_count": 58,
     "metadata": {},
     "output_type": "execute_result"
    },
    {
     "data": {
      "image/png": "[encoded data removed]",
      "text/plain": [
       "<Figure size 432x288 with 1 Axes>"
      ]
     },
     "metadata": {
      "needs_background": "light"
     },
     "output_type": "display_data"
    }
   ],
   "source": [
    "df.boxplot(column = 'num_reactions');\n",
    "plt.title('')"
   ]
  },
  {
   "cell_type": "code",
   "execution_count": 59,
   "metadata": {},
   "outputs": [
    {
     "data": {
      "text/plain": [
       "Text(0.5, 1.0, '')"
      ]
     },
     "execution_count": 59,
     "metadata": {},
     "output_type": "execute_result"
    },
    {
     "data": {
      "image/png": "[encoded data removed]",
      "text/plain": [
       "<Figure size 432x288 with 1 Axes>"
      ]
     },
     "metadata": {
      "needs_background": "light"
     },
     "output_type": "display_data"
    }
   ],
   "source": [
    "df.boxplot(column = 'num_comments');\n",
    "plt.title('')"
   ]
  },
  {
   "cell_type": "code",
   "execution_count": 60,
   "metadata": {},
   "outputs": [
    {
     "data": {
      "text/plain": [
       "Text(0.5, 1.0, '')"
      ]
     },
     "execution_count": 60,
     "metadata": {},
     "output_type": "execute_result"
    },
    {
     "data": {
      "image/png": "[encoded data removed]",
      "text/plain": [
       "<Figure size 432x288 with 1 Axes>"
      ]
     },
     "metadata": {
      "needs_background": "light"
     },
     "output_type": "display_data"
    }
   ],
   "source": [
    "df.boxplot(column = 'num_shares');\n",
    "plt.title('')"
   ]
  },
  {
   "cell_type": "code",
   "execution_count": 61,
   "metadata": {},
   "outputs": [
    {
     "data": {
      "text/plain": [
       "Text(0.5, 1.0, '')"
      ]
     },
     "execution_count": 61,
     "metadata": {},
     "output_type": "execute_result"
    },
    {
     "data": {
      "image/png": "[encoded data removed]",
      "text/plain": [
       "<Figure size 432x288 with 1 Axes>"
      ]
     },
     "metadata": {
      "needs_background": "light"
     },
     "output_type": "display_data"
    }
   ],
   "source": [
    "df.boxplot(column = 'num_likes');\n",
    "plt.title('')"
   ]
  },
  {
   "cell_type": "code",
   "execution_count": 62,
   "metadata": {},
   "outputs": [
    {
     "data": {
      "text/plain": [
       "Text(0.5, 1.0, '')"
      ]
     },
     "execution_count": 62,
     "metadata": {},
     "output_type": "execute_result"
    },
    {
     "data": {
      "image/png": "[encoded data removed]",
      "text/plain": [
       "<Figure size 432x288 with 1 Axes>"
      ]
     },
     "metadata": {
      "needs_background": "light"
     },
     "output_type": "display_data"
    }
   ],
   "source": [
    "df.boxplot(column = 'num_loves');\n",
    "plt.title('')"
   ]
  },
  {
   "cell_type": "code",
   "execution_count": 63,
   "metadata": {},
   "outputs": [
    {
     "data": {
      "text/plain": [
       "Text(0.5, 1.0, '')"
      ]
     },
     "execution_count": 63,
     "metadata": {},
     "output_type": "execute_result"
    },
    {
     "data": {
      "image/png": "[encoded data removed]",
      "text/plain": [
       "<Figure size 432x288 with 1 Axes>"
      ]
     },
     "metadata": {
      "needs_background": "light"
     },
     "output_type": "display_data"
    }
   ],
   "source": [
    "df.boxplot(column = 'num_wows');\n",
    "plt.title('')"
   ]
  },
  {
   "cell_type": "code",
   "execution_count": 64,
   "metadata": {},
   "outputs": [
    {
     "data": {
      "text/plain": [
       "Text(0.5, 1.0, '')"
      ]
     },
     "execution_count": 64,
     "metadata": {},
     "output_type": "execute_result"
    },
    {
     "data": {
      "image/png": "[encoded data removed]",
      "text/plain": [
       "<Figure size 432x288 with 1 Axes>"
      ]
     },
     "metadata": {
      "needs_background": "light"
     },
     "output_type": "display_data"
    }
   ],
   "source": [
    "df.boxplot(column = 'num_hahas');\n",
    "plt.title('')"
   ]
  },
  {
   "cell_type": "code",
   "execution_count": 65,
   "metadata": {},
   "outputs": [
    {
     "data": {
      "text/plain": [
       "Text(0.5, 1.0, '')"
      ]
     },
     "execution_count": 65,
     "metadata": {},
     "output_type": "execute_result"
    },
    {
     "data": {
      "image/png": "[encoded data removed]",
      "text/plain": [
       "<Figure size 432x288 with 1 Axes>"
      ]
     },
     "metadata": {
      "needs_background": "light"
     },
     "output_type": "display_data"
    }
   ],
   "source": [
    "df.boxplot(column = 'num_sads');\n",
    "plt.title('')"
   ]
  },
  {
   "cell_type": "code",
   "execution_count": 66,
   "metadata": {},
   "outputs": [
    {
     "data": {
      "text/plain": [
       "Text(0.5, 1.0, '')"
      ]
     },
     "execution_count": 66,
     "metadata": {},
     "output_type": "execute_result"
    },
    {
     "data": {
      "image/png": "[encoded data removed]",
      "text/plain": [
       "<Figure size 432x288 with 1 Axes>"
      ]
     },
     "metadata": {
      "needs_background": "light"
     },
     "output_type": "display_data"
    }
   ],
   "source": [
    "df.boxplot(column = 'num_angrys');\n",
    "plt.title('')"
   ]
  },
  {
   "cell_type": "code",
   "execution_count": 67,
   "metadata": {},
   "outputs": [
    {
     "data": {
      "image/png": "[encoded data removed]",
      "text/plain": [
       "<Figure size 432x288 with 1 Axes>"
      ]
     },
     "metadata": {
      "needs_background": "light"
     },
     "output_type": "display_data"
    }
   ],
   "source": [
    "df.num_likes.plot.hist(grid=True, bins=20, rwidth=0.9,\n",
    "                   color='#607c8e')\n",
    "plt.title('Num_Likes vs Freq.')\n",
    "plt.xlabel('Num_Likes')\n",
    "plt.ylabel('Frequency')\n",
    "plt.grid(axis='y', alpha=0.75)"
   ]
  },
  {
   "cell_type": "code",
   "execution_count": 68,
   "metadata": {},
   "outputs": [
    {
     "data": {
      "image/png": "[encoded data removed]",
      "text/plain": [
       "<Figure size 432x288 with 1 Axes>"
      ]
     },
     "metadata": {
      "needs_background": "light"
     },
     "output_type": "display_data"
    }
   ],
   "source": [
    "df.num_comments.plot.hist(grid=True, bins=20, rwidth=0.9,\n",
    "                   color='#607c8e')\n",
    "plt.title('Num_Comments vs Freq.')\n",
    "plt.xlabel('Num_Comments')\n",
    "plt.ylabel('Frequency')\n",
    "plt.grid(axis='y', alpha=0.75)"
   ]
  },
  {
   "cell_type": "code",
   "execution_count": 69,
   "metadata": {},
   "outputs": [
    {
     "data": {
      "image/png": "[encoded data removed]",
      "text/plain": [
       "<Figure size 432x288 with 1 Axes>"
      ]
     },
     "metadata": {
      "needs_background": "light"
     },
     "output_type": "display_data"
    }
   ],
   "source": [
    "df.num_shares.plot.hist(grid=True, bins=20, rwidth=0.9,\n",
    "                   color='#607c8e')\n",
    "plt.title('num_shares vs Freq.')\n",
    "plt.xlabel('num_shares')\n",
    "plt.ylabel('Frequency')\n",
    "plt.grid(axis='y', alpha=0.75)"
   ]
  },
  {
   "cell_type": "code",
   "execution_count": 70,
   "metadata": {},
   "outputs": [
    {
     "data": {
      "image/png": "[encoded data removed]",
      "text/plain": [
       "<Figure size 432x288 with 1 Axes>"
      ]
     },
     "metadata": {
      "needs_background": "light"
     },
     "output_type": "display_data"
    }
   ],
   "source": [
    "df.num_reactions.plot.hist(grid=True, bins=20, rwidth=0.9,\n",
    "                   color='#607c8e')\n",
    "plt.title('num_reactions vs Freq.')\n",
    "plt.xlabel('num_reactions')\n",
    "plt.ylabel('Frequency')\n",
    "plt.grid(axis='y', alpha=0.75)"
   ]
  },
  {
   "cell_type": "code",
   "execution_count": 71,
   "metadata": {},
   "outputs": [
    {
     "data": {
      "image/png": "[encoded data removed]",
      "text/plain": [
       "<Figure size 432x288 with 1 Axes>"
      ]
     },
     "metadata": {
      "needs_background": "light"
     },
     "output_type": "display_data"
    }
   ],
   "source": [
    "df.num_loves.plot.hist(grid=True, bins=20, rwidth=0.9,\n",
    "                   color='#607c8e')\n",
    "plt.title('num_loves vs Freq.')\n",
    "plt.xlabel('num_loves')\n",
    "plt.ylabel('Frequency')\n",
    "plt.grid(axis='y', alpha=0.75)"
   ]
  },
  {
   "cell_type": "code",
   "execution_count": 72,
   "metadata": {},
   "outputs": [
    {
     "data": {
      "image/png": "[encoded data removed]",
      "text/plain": [
       "<Figure size 432x288 with 1 Axes>"
      ]
     },
     "metadata": {
      "needs_background": "light"
     },
     "output_type": "display_data"
    }
   ],
   "source": [
    "df.num_sads.plot.hist(grid=True, bins=20, rwidth=0.9,\n",
    "                   color='#607c8e')\n",
    "plt.title('num_loves vs Freq.')\n",
    "plt.xlabel('num_loves')\n",
    "plt.ylabel('Frequency')\n",
    "plt.grid(axis='y', alpha=0.75)"
   ]
  },
  {
   "cell_type": "code",
   "execution_count": 73,
   "metadata": {},
   "outputs": [
    {
     "data": {
      "image/png": "[encoded data removed]",
      "text/plain": [
       "<Figure size 432x288 with 1 Axes>"
      ]
     },
     "metadata": {
      "needs_background": "light"
     },
     "output_type": "display_data"
    }
   ],
   "source": [
    "df.num_hahas.plot.hist(grid=True, bins=20, rwidth=0.9,\n",
    "                   color='#607c8e')\n",
    "plt.title('num_hahas vs Freq.')\n",
    "plt.xlabel('num_hahas')\n",
    "plt.ylabel('Frequency')\n",
    "plt.grid(axis='y', alpha=0.75)"
   ]
  },
  {
   "cell_type": "code",
   "execution_count": 74,
   "metadata": {},
   "outputs": [
    {
     "data": {
      "image/png": "[encoded data removed]",
      "text/plain": [
       "<Figure size 432x288 with 1 Axes>"
      ]
     },
     "metadata": {
      "needs_background": "light"
     },
     "output_type": "display_data"
    }
   ],
   "source": [
    "df.num_angrys.plot.hist(grid=True, bins=20, rwidth=0.9,\n",
    "                   color='#607c8e')\n",
    "plt.title('num_angrys vs Freq.')\n",
    "plt.xlabel('num_angrys')\n",
    "plt.ylabel('Frequency')\n",
    "plt.grid(axis='y', alpha=0.75)"
   ]
  },
  {
   "cell_type": "code",
   "execution_count": 75,
   "metadata": {},
   "outputs": [
    {
     "data": {
      "image/png": "[encoded data removed]",
      "text/plain": [
       "<Figure size 432x288 with 1 Axes>"
      ]
     },
     "metadata": {
      "needs_background": "light"
     },
     "output_type": "display_data"
    }
   ],
   "source": [
    "df.num_wows.plot.hist(grid=True, bins=20, rwidth=0.9,\n",
    "                   color='#607c8e')\n",
    "plt.title('num_wows vs Freq.')\n",
    "plt.xlabel('num_wows')\n",
    "plt.ylabel('Frequency')\n",
    "plt.grid(axis='y', alpha=0.75)"
   ]
  },
  {
   "cell_type": "markdown",
   "metadata": {},
   "source": [
    "## Bivariate Analysis"
   ]
  },
  {
   "cell_type": "code",
   "execution_count": 76,
   "metadata": {},
   "outputs": [
    {
     "name": "stderr",
     "output_type": "stream",
     "text": [
      "C:\\Users\\Z003Z4FY.AD001\\AppData\\Local\\Continuum\\anaconda3\\lib\\site-packages\\matplotlib\\colors.py:512: RuntimeWarning:\n",
      "\n",
      "invalid value encountered in less\n",
      "\n"
     ]
    },
    {
     "data": {
      "text/html": [
       "<style  type=\"text/css\" >\n",
       "    #T_33e2b828_ddc3_11e9_a45a_1062e5c8a9d3row0_col0 {\n",
       "            background-color:  #b40426;\n",
       "        }    #T_33e2b828_ddc3_11e9_a45a_1062e5c8a9d3row0_col1 {\n",
       "            background-color:  #4b64d5;\n",
       "        }    #T_33e2b828_ddc3_11e9_a45a_1062e5c8a9d3row0_col2 {\n",
       "            background-color:  #5875e1;\n",
       "        }    #T_33e2b828_ddc3_11e9_a45a_1062e5c8a9d3row0_col3 {\n",
       "            background-color:  #b50927;\n",
       "        }    #T_33e2b828_ddc3_11e9_a45a_1062e5c8a9d3row0_col4 {\n",
       "            background-color:  #6180e9;\n",
       "        }    #T_33e2b828_ddc3_11e9_a45a_1062e5c8a9d3row0_col5 {\n",
       "            background-color:  #7a9df8;\n",
       "        }    #T_33e2b828_ddc3_11e9_a45a_1062e5c8a9d3row0_col6 {\n",
       "            background-color:  #4e68d8;\n",
       "        }    #T_33e2b828_ddc3_11e9_a45a_1062e5c8a9d3row0_col7 {\n",
       "            background-color:  #4257c9;\n",
       "        }    #T_33e2b828_ddc3_11e9_a45a_1062e5c8a9d3row0_col8 {\n",
       "            background-color:  #465ecf;\n",
       "        }    #T_33e2b828_ddc3_11e9_a45a_1062e5c8a9d3row0_col9 {\n",
       "            background-color:  #3b4cc0;\n",
       "        }    #T_33e2b828_ddc3_11e9_a45a_1062e5c8a9d3row0_col10 {\n",
       "            background-color:  #3b4cc0;\n",
       "        }    #T_33e2b828_ddc3_11e9_a45a_1062e5c8a9d3row0_col11 {\n",
       "            background-color:  #3b4cc0;\n",
       "        }    #T_33e2b828_ddc3_11e9_a45a_1062e5c8a9d3row0_col12 {\n",
       "            background-color:  #3b4cc0;\n",
       "        }    #T_33e2b828_ddc3_11e9_a45a_1062e5c8a9d3row1_col0 {\n",
       "            background-color:  #536edd;\n",
       "        }    #T_33e2b828_ddc3_11e9_a45a_1062e5c8a9d3row1_col1 {\n",
       "            background-color:  #b40426;\n",
       "        }    #T_33e2b828_ddc3_11e9_a45a_1062e5c8a9d3row1_col2 {\n",
       "            background-color:  #ecd3c5;\n",
       "        }    #T_33e2b828_ddc3_11e9_a45a_1062e5c8a9d3row1_col3 {\n",
       "            background-color:  #4a63d3;\n",
       "        }    #T_33e2b828_ddc3_11e9_a45a_1062e5c8a9d3row1_col4 {\n",
       "            background-color:  #bfd3f6;\n",
       "        }    #T_33e2b828_ddc3_11e9_a45a_1062e5c8a9d3row1_col5 {\n",
       "            background-color:  #5470de;\n",
       "        }    #T_33e2b828_ddc3_11e9_a45a_1062e5c8a9d3row1_col6 {\n",
       "            background-color:  #86a9fc;\n",
       "        }    #T_33e2b828_ddc3_11e9_a45a_1062e5c8a9d3row1_col7 {\n",
       "            background-color:  #799cf8;\n",
       "        }    #T_33e2b828_ddc3_11e9_a45a_1062e5c8a9d3row1_col8 {\n",
       "            background-color:  #6a8bef;\n",
       "        }    #T_33e2b828_ddc3_11e9_a45a_1062e5c8a9d3row1_col9 {\n",
       "            background-color:  #3b4cc0;\n",
       "        }    #T_33e2b828_ddc3_11e9_a45a_1062e5c8a9d3row1_col10 {\n",
       "            background-color:  #3b4cc0;\n",
       "        }    #T_33e2b828_ddc3_11e9_a45a_1062e5c8a9d3row1_col11 {\n",
       "            background-color:  #3b4cc0;\n",
       "        }    #T_33e2b828_ddc3_11e9_a45a_1062e5c8a9d3row1_col12 {\n",
       "            background-color:  #3b4cc0;\n",
       "        }    #T_33e2b828_ddc3_11e9_a45a_1062e5c8a9d3row2_col0 {\n",
       "            background-color:  #779af7;\n",
       "        }    #T_33e2b828_ddc3_11e9_a45a_1062e5c8a9d3row2_col1 {\n",
       "            background-color:  #f2cbb7;\n",
       "        }    #T_33e2b828_ddc3_11e9_a45a_1062e5c8a9d3row2_col2 {\n",
       "            background-color:  #b40426;\n",
       "        }    #T_33e2b828_ddc3_11e9_a45a_1062e5c8a9d3row2_col3 {\n",
       "            background-color:  #6282ea;\n",
       "        }    #T_33e2b828_ddc3_11e9_a45a_1062e5c8a9d3row2_col4 {\n",
       "            background-color:  #f29072;\n",
       "        }    #T_33e2b828_ddc3_11e9_a45a_1062e5c8a9d3row2_col5 {\n",
       "            background-color:  #afcafc;\n",
       "        }    #T_33e2b828_ddc3_11e9_a45a_1062e5c8a9d3row2_col6 {\n",
       "            background-color:  #a5c3fe;\n",
       "        }    #T_33e2b828_ddc3_11e9_a45a_1062e5c8a9d3row2_col7 {\n",
       "            background-color:  #6b8df0;\n",
       "        }    #T_33e2b828_ddc3_11e9_a45a_1062e5c8a9d3row2_col8 {\n",
       "            background-color:  #8caffe;\n",
       "        }    #T_33e2b828_ddc3_11e9_a45a_1062e5c8a9d3row2_col9 {\n",
       "            background-color:  #3b4cc0;\n",
       "        }    #T_33e2b828_ddc3_11e9_a45a_1062e5c8a9d3row2_col10 {\n",
       "            background-color:  #3b4cc0;\n",
       "        }    #T_33e2b828_ddc3_11e9_a45a_1062e5c8a9d3row2_col11 {\n",
       "            background-color:  #3b4cc0;\n",
       "        }    #T_33e2b828_ddc3_11e9_a45a_1062e5c8a9d3row2_col12 {\n",
       "            background-color:  #3b4cc0;\n",
       "        }    #T_33e2b828_ddc3_11e9_a45a_1062e5c8a9d3row3_col0 {\n",
       "            background-color:  #b50927;\n",
       "        }    #T_33e2b828_ddc3_11e9_a45a_1062e5c8a9d3row3_col1 {\n",
       "            background-color:  #3b4cc0;\n",
       "        }    #T_33e2b828_ddc3_11e9_a45a_1062e5c8a9d3row3_col2 {\n",
       "            background-color:  #3b4cc0;\n",
       "        }    #T_33e2b828_ddc3_11e9_a45a_1062e5c8a9d3row3_col3 {\n",
       "            background-color:  #b40426;\n",
       "        }    #T_33e2b828_ddc3_11e9_a45a_1062e5c8a9d3row3_col4 {\n",
       "            background-color:  #3b4cc0;\n",
       "        }    #T_33e2b828_ddc3_11e9_a45a_1062e5c8a9d3row3_col5 {\n",
       "            background-color:  #6384eb;\n",
       "        }    #T_33e2b828_ddc3_11e9_a45a_1062e5c8a9d3row3_col6 {\n",
       "            background-color:  #3b4cc0;\n",
       "        }    #T_33e2b828_ddc3_11e9_a45a_1062e5c8a9d3row3_col7 {\n",
       "            background-color:  #3b4cc0;\n",
       "        }    #T_33e2b828_ddc3_11e9_a45a_1062e5c8a9d3row3_col8 {\n",
       "            background-color:  #3b4cc0;\n",
       "        }    #T_33e2b828_ddc3_11e9_a45a_1062e5c8a9d3row3_col9 {\n",
       "            background-color:  #3b4cc0;\n",
       "        }    #T_33e2b828_ddc3_11e9_a45a_1062e5c8a9d3row3_col10 {\n",
       "            background-color:  #3b4cc0;\n",
       "        }    #T_33e2b828_ddc3_11e9_a45a_1062e5c8a9d3row3_col11 {\n",
       "            background-color:  #3b4cc0;\n",
       "        }    #T_33e2b828_ddc3_11e9_a45a_1062e5c8a9d3row3_col12 {\n",
       "            background-color:  #3b4cc0;\n",
       "        }    #T_33e2b828_ddc3_11e9_a45a_1062e5c8a9d3row4_col0 {\n",
       "            background-color:  #8caffe;\n",
       "        }    #T_33e2b828_ddc3_11e9_a45a_1062e5c8a9d3row4_col1 {\n",
       "            background-color:  #d4dbe6;\n",
       "        }    #T_33e2b828_ddc3_11e9_a45a_1062e5c8a9d3row4_col2 {\n",
       "            background-color:  #f08b6e;\n",
       "        }    #T_33e2b828_ddc3_11e9_a45a_1062e5c8a9d3row4_col3 {\n",
       "            background-color:  #6f92f3;\n",
       "        }    #T_33e2b828_ddc3_11e9_a45a_1062e5c8a9d3row4_col4 {\n",
       "            background-color:  #b40426;\n",
       "        }    #T_33e2b828_ddc3_11e9_a45a_1062e5c8a9d3row4_col5 {\n",
       "            background-color:  #d3dbe7;\n",
       "        }    #T_33e2b828_ddc3_11e9_a45a_1062e5c8a9d3row4_col6 {\n",
       "            background-color:  #ccd9ed;\n",
       "        }    #T_33e2b828_ddc3_11e9_a45a_1062e5c8a9d3row4_col7 {\n",
       "            background-color:  #6e90f2;\n",
       "        }    #T_33e2b828_ddc3_11e9_a45a_1062e5c8a9d3row4_col8 {\n",
       "            background-color:  #a2c1ff;\n",
       "        }    #T_33e2b828_ddc3_11e9_a45a_1062e5c8a9d3row4_col9 {\n",
       "            background-color:  #3b4cc0;\n",
       "        }    #T_33e2b828_ddc3_11e9_a45a_1062e5c8a9d3row4_col10 {\n",
       "            background-color:  #3b4cc0;\n",
       "        }    #T_33e2b828_ddc3_11e9_a45a_1062e5c8a9d3row4_col11 {\n",
       "            background-color:  #3b4cc0;\n",
       "        }    #T_33e2b828_ddc3_11e9_a45a_1062e5c8a9d3row4_col12 {\n",
       "            background-color:  #3b4cc0;\n",
       "        }    #T_33e2b828_ddc3_11e9_a45a_1062e5c8a9d3row5_col0 {\n",
       "            background-color:  #7ea1fa;\n",
       "        }    #T_33e2b828_ddc3_11e9_a45a_1062e5c8a9d3row5_col1 {\n",
       "            background-color:  #4f69d9;\n",
       "        }    #T_33e2b828_ddc3_11e9_a45a_1062e5c8a9d3row5_col2 {\n",
       "            background-color:  #98b9ff;\n",
       "        }    #T_33e2b828_ddc3_11e9_a45a_1062e5c8a9d3row5_col3 {\n",
       "            background-color:  #6f92f3;\n",
       "        }    #T_33e2b828_ddc3_11e9_a45a_1062e5c8a9d3row5_col4 {\n",
       "            background-color:  #bad0f8;\n",
       "        }    #T_33e2b828_ddc3_11e9_a45a_1062e5c8a9d3row5_col5 {\n",
       "            background-color:  #b40426;\n",
       "        }    #T_33e2b828_ddc3_11e9_a45a_1062e5c8a9d3row5_col6 {\n",
       "            background-color:  #779af7;\n",
       "        }    #T_33e2b828_ddc3_11e9_a45a_1062e5c8a9d3row5_col7 {\n",
       "            background-color:  #455cce;\n",
       "        }    #T_33e2b828_ddc3_11e9_a45a_1062e5c8a9d3row5_col8 {\n",
       "            background-color:  #5a78e4;\n",
       "        }    #T_33e2b828_ddc3_11e9_a45a_1062e5c8a9d3row5_col9 {\n",
       "            background-color:  #3b4cc0;\n",
       "        }    #T_33e2b828_ddc3_11e9_a45a_1062e5c8a9d3row5_col10 {\n",
       "            background-color:  #3b4cc0;\n",
       "        }    #T_33e2b828_ddc3_11e9_a45a_1062e5c8a9d3row5_col11 {\n",
       "            background-color:  #3b4cc0;\n",
       "        }    #T_33e2b828_ddc3_11e9_a45a_1062e5c8a9d3row5_col12 {\n",
       "            background-color:  #3b4cc0;\n",
       "        }    #T_33e2b828_ddc3_11e9_a45a_1062e5c8a9d3row6_col0 {\n",
       "            background-color:  #5b7ae5;\n",
       "        }    #T_33e2b828_ddc3_11e9_a45a_1062e5c8a9d3row6_col1 {\n",
       "            background-color:  #8caffe;\n",
       "        }    #T_33e2b828_ddc3_11e9_a45a_1062e5c8a9d3row6_col2 {\n",
       "            background-color:  #96b7ff;\n",
       "        }    #T_33e2b828_ddc3_11e9_a45a_1062e5c8a9d3row6_col3 {\n",
       "            background-color:  #506bda;\n",
       "        }    #T_33e2b828_ddc3_11e9_a45a_1062e5c8a9d3row6_col4 {\n",
       "            background-color:  #b9d0f9;\n",
       "        }    #T_33e2b828_ddc3_11e9_a45a_1062e5c8a9d3row6_col5 {\n",
       "            background-color:  #82a6fb;\n",
       "        }    #T_33e2b828_ddc3_11e9_a45a_1062e5c8a9d3row6_col6 {\n",
       "            background-color:  #b40426;\n",
       "        }    #T_33e2b828_ddc3_11e9_a45a_1062e5c8a9d3row6_col7 {\n",
       "            background-color:  #5875e1;\n",
       "        }    #T_33e2b828_ddc3_11e9_a45a_1062e5c8a9d3row6_col8 {\n",
       "            background-color:  #6485ec;\n",
       "        }    #T_33e2b828_ddc3_11e9_a45a_1062e5c8a9d3row6_col9 {\n",
       "            background-color:  #3b4cc0;\n",
       "        }    #T_33e2b828_ddc3_11e9_a45a_1062e5c8a9d3row6_col10 {\n",
       "            background-color:  #3b4cc0;\n",
       "        }    #T_33e2b828_ddc3_11e9_a45a_1062e5c8a9d3row6_col11 {\n",
       "            background-color:  #3b4cc0;\n",
       "        }    #T_33e2b828_ddc3_11e9_a45a_1062e5c8a9d3row6_col12 {\n",
       "            background-color:  #3b4cc0;\n",
       "        }    #T_33e2b828_ddc3_11e9_a45a_1062e5c8a9d3row7_col0 {\n",
       "            background-color:  #3b4cc0;\n",
       "        }    #T_33e2b828_ddc3_11e9_a45a_1062e5c8a9d3row7_col1 {\n",
       "            background-color:  #6a8bef;\n",
       "        }    #T_33e2b828_ddc3_11e9_a45a_1062e5c8a9d3row7_col2 {\n",
       "            background-color:  #445acc;\n",
       "        }    #T_33e2b828_ddc3_11e9_a45a_1062e5c8a9d3row7_col3 {\n",
       "            background-color:  #3b4cc0;\n",
       "        }    #T_33e2b828_ddc3_11e9_a45a_1062e5c8a9d3row7_col4 {\n",
       "            background-color:  #3b4cc0;\n",
       "        }    #T_33e2b828_ddc3_11e9_a45a_1062e5c8a9d3row7_col5 {\n",
       "            background-color:  #3b4cc0;\n",
       "        }    #T_33e2b828_ddc3_11e9_a45a_1062e5c8a9d3row7_col6 {\n",
       "            background-color:  #4257c9;\n",
       "        }    #T_33e2b828_ddc3_11e9_a45a_1062e5c8a9d3row7_col7 {\n",
       "            background-color:  #b40426;\n",
       "        }    #T_33e2b828_ddc3_11e9_a45a_1062e5c8a9d3row7_col8 {\n",
       "            background-color:  #4c66d6;\n",
       "        }    #T_33e2b828_ddc3_11e9_a45a_1062e5c8a9d3row7_col9 {\n",
       "            background-color:  #3b4cc0;\n",
       "        }    #T_33e2b828_ddc3_11e9_a45a_1062e5c8a9d3row7_col10 {\n",
       "            background-color:  #3b4cc0;\n",
       "        }    #T_33e2b828_ddc3_11e9_a45a_1062e5c8a9d3row7_col11 {\n",
       "            background-color:  #3b4cc0;\n",
       "        }    #T_33e2b828_ddc3_11e9_a45a_1062e5c8a9d3row7_col12 {\n",
       "            background-color:  #3b4cc0;\n",
       "        }    #T_33e2b828_ddc3_11e9_a45a_1062e5c8a9d3row8_col0 {\n",
       "            background-color:  #4a63d3;\n",
       "        }    #T_33e2b828_ddc3_11e9_a45a_1062e5c8a9d3row8_col1 {\n",
       "            background-color:  #6687ed;\n",
       "        }    #T_33e2b828_ddc3_11e9_a45a_1062e5c8a9d3row8_col2 {\n",
       "            background-color:  #7093f3;\n",
       "        }    #T_33e2b828_ddc3_11e9_a45a_1062e5c8a9d3row8_col3 {\n",
       "            background-color:  #455cce;\n",
       "        }    #T_33e2b828_ddc3_11e9_a45a_1062e5c8a9d3row8_col4 {\n",
       "            background-color:  #7da0f9;\n",
       "        }    #T_33e2b828_ddc3_11e9_a45a_1062e5c8a9d3row8_col5 {\n",
       "            background-color:  #5b7ae5;\n",
       "        }    #T_33e2b828_ddc3_11e9_a45a_1062e5c8a9d3row8_col6 {\n",
       "            background-color:  #5a78e4;\n",
       "        }    #T_33e2b828_ddc3_11e9_a45a_1062e5c8a9d3row8_col7 {\n",
       "            background-color:  #5875e1;\n",
       "        }    #T_33e2b828_ddc3_11e9_a45a_1062e5c8a9d3row8_col8 {\n",
       "            background-color:  #b40426;\n",
       "        }    #T_33e2b828_ddc3_11e9_a45a_1062e5c8a9d3row8_col9 {\n",
       "            background-color:  #3b4cc0;\n",
       "        }    #T_33e2b828_ddc3_11e9_a45a_1062e5c8a9d3row8_col10 {\n",
       "            background-color:  #3b4cc0;\n",
       "        }    #T_33e2b828_ddc3_11e9_a45a_1062e5c8a9d3row8_col11 {\n",
       "            background-color:  #3b4cc0;\n",
       "        }    #T_33e2b828_ddc3_11e9_a45a_1062e5c8a9d3row8_col12 {\n",
       "            background-color:  #3b4cc0;\n",
       "        }    #T_33e2b828_ddc3_11e9_a45a_1062e5c8a9d3row9_col0 {\n",
       "            background-color:  #3b4cc0;\n",
       "        }    #T_33e2b828_ddc3_11e9_a45a_1062e5c8a9d3row9_col1 {\n",
       "            background-color:  #3b4cc0;\n",
       "        }    #T_33e2b828_ddc3_11e9_a45a_1062e5c8a9d3row9_col2 {\n",
       "            background-color:  #3b4cc0;\n",
       "        }    #T_33e2b828_ddc3_11e9_a45a_1062e5c8a9d3row9_col3 {\n",
       "            background-color:  #3b4cc0;\n",
       "        }    #T_33e2b828_ddc3_11e9_a45a_1062e5c8a9d3row9_col4 {\n",
       "            background-color:  #3b4cc0;\n",
       "        }    #T_33e2b828_ddc3_11e9_a45a_1062e5c8a9d3row9_col5 {\n",
       "            background-color:  #3b4cc0;\n",
       "        }    #T_33e2b828_ddc3_11e9_a45a_1062e5c8a9d3row9_col6 {\n",
       "            background-color:  #3b4cc0;\n",
       "        }    #T_33e2b828_ddc3_11e9_a45a_1062e5c8a9d3row9_col7 {\n",
       "            background-color:  #3b4cc0;\n",
       "        }    #T_33e2b828_ddc3_11e9_a45a_1062e5c8a9d3row9_col8 {\n",
       "            background-color:  #3b4cc0;\n",
       "        }    #T_33e2b828_ddc3_11e9_a45a_1062e5c8a9d3row9_col9 {\n",
       "            background-color:  #3b4cc0;\n",
       "        }    #T_33e2b828_ddc3_11e9_a45a_1062e5c8a9d3row9_col10 {\n",
       "            background-color:  #3b4cc0;\n",
       "        }    #T_33e2b828_ddc3_11e9_a45a_1062e5c8a9d3row9_col11 {\n",
       "            background-color:  #3b4cc0;\n",
       "        }    #T_33e2b828_ddc3_11e9_a45a_1062e5c8a9d3row9_col12 {\n",
       "            background-color:  #3b4cc0;\n",
       "        }    #T_33e2b828_ddc3_11e9_a45a_1062e5c8a9d3row10_col0 {\n",
       "            background-color:  #3b4cc0;\n",
       "        }    #T_33e2b828_ddc3_11e9_a45a_1062e5c8a9d3row10_col1 {\n",
       "            background-color:  #3b4cc0;\n",
       "        }    #T_33e2b828_ddc3_11e9_a45a_1062e5c8a9d3row10_col2 {\n",
       "            background-color:  #3b4cc0;\n",
       "        }    #T_33e2b828_ddc3_11e9_a45a_1062e5c8a9d3row10_col3 {\n",
       "            background-color:  #3b4cc0;\n",
       "        }    #T_33e2b828_ddc3_11e9_a45a_1062e5c8a9d3row10_col4 {\n",
       "            background-color:  #3b4cc0;\n",
       "        }    #T_33e2b828_ddc3_11e9_a45a_1062e5c8a9d3row10_col5 {\n",
       "            background-color:  #3b4cc0;\n",
       "        }    #T_33e2b828_ddc3_11e9_a45a_1062e5c8a9d3row10_col6 {\n",
       "            background-color:  #3b4cc0;\n",
       "        }    #T_33e2b828_ddc3_11e9_a45a_1062e5c8a9d3row10_col7 {\n",
       "            background-color:  #3b4cc0;\n",
       "        }    #T_33e2b828_ddc3_11e9_a45a_1062e5c8a9d3row10_col8 {\n",
       "            background-color:  #3b4cc0;\n",
       "        }    #T_33e2b828_ddc3_11e9_a45a_1062e5c8a9d3row10_col9 {\n",
       "            background-color:  #3b4cc0;\n",
       "        }    #T_33e2b828_ddc3_11e9_a45a_1062e5c8a9d3row10_col10 {\n",
       "            background-color:  #3b4cc0;\n",
       "        }    #T_33e2b828_ddc3_11e9_a45a_1062e5c8a9d3row10_col11 {\n",
       "            background-color:  #3b4cc0;\n",
       "        }    #T_33e2b828_ddc3_11e9_a45a_1062e5c8a9d3row10_col12 {\n",
       "            background-color:  #3b4cc0;\n",
       "        }    #T_33e2b828_ddc3_11e9_a45a_1062e5c8a9d3row11_col0 {\n",
       "            background-color:  #3b4cc0;\n",
       "        }    #T_33e2b828_ddc3_11e9_a45a_1062e5c8a9d3row11_col1 {\n",
       "            background-color:  #3b4cc0;\n",
       "        }    #T_33e2b828_ddc3_11e9_a45a_1062e5c8a9d3row11_col2 {\n",
       "            background-color:  #3b4cc0;\n",
       "        }    #T_33e2b828_ddc3_11e9_a45a_1062e5c8a9d3row11_col3 {\n",
       "            background-color:  #3b4cc0;\n",
       "        }    #T_33e2b828_ddc3_11e9_a45a_1062e5c8a9d3row11_col4 {\n",
       "            background-color:  #3b4cc0;\n",
       "        }    #T_33e2b828_ddc3_11e9_a45a_1062e5c8a9d3row11_col5 {\n",
       "            background-color:  #3b4cc0;\n",
       "        }    #T_33e2b828_ddc3_11e9_a45a_1062e5c8a9d3row11_col6 {\n",
       "            background-color:  #3b4cc0;\n",
       "        }    #T_33e2b828_ddc3_11e9_a45a_1062e5c8a9d3row11_col7 {\n",
       "            background-color:  #3b4cc0;\n",
       "        }    #T_33e2b828_ddc3_11e9_a45a_1062e5c8a9d3row11_col8 {\n",
       "            background-color:  #3b4cc0;\n",
       "        }    #T_33e2b828_ddc3_11e9_a45a_1062e5c8a9d3row11_col9 {\n",
       "            background-color:  #3b4cc0;\n",
       "        }    #T_33e2b828_ddc3_11e9_a45a_1062e5c8a9d3row11_col10 {\n",
       "            background-color:  #3b4cc0;\n",
       "        }    #T_33e2b828_ddc3_11e9_a45a_1062e5c8a9d3row11_col11 {\n",
       "            background-color:  #3b4cc0;\n",
       "        }    #T_33e2b828_ddc3_11e9_a45a_1062e5c8a9d3row11_col12 {\n",
       "            background-color:  #3b4cc0;\n",
       "        }    #T_33e2b828_ddc3_11e9_a45a_1062e5c8a9d3row12_col0 {\n",
       "            background-color:  #3b4cc0;\n",
       "        }    #T_33e2b828_ddc3_11e9_a45a_1062e5c8a9d3row12_col1 {\n",
       "            background-color:  #3b4cc0;\n",
       "        }    #T_33e2b828_ddc3_11e9_a45a_1062e5c8a9d3row12_col2 {\n",
       "            background-color:  #3b4cc0;\n",
       "        }    #T_33e2b828_ddc3_11e9_a45a_1062e5c8a9d3row12_col3 {\n",
       "            background-color:  #3b4cc0;\n",
       "        }    #T_33e2b828_ddc3_11e9_a45a_1062e5c8a9d3row12_col4 {\n",
       "            background-color:  #3b4cc0;\n",
       "        }    #T_33e2b828_ddc3_11e9_a45a_1062e5c8a9d3row12_col5 {\n",
       "            background-color:  #3b4cc0;\n",
       "        }    #T_33e2b828_ddc3_11e9_a45a_1062e5c8a9d3row12_col6 {\n",
       "            background-color:  #3b4cc0;\n",
       "        }    #T_33e2b828_ddc3_11e9_a45a_1062e5c8a9d3row12_col7 {\n",
       "            background-color:  #3b4cc0;\n",
       "        }    #T_33e2b828_ddc3_11e9_a45a_1062e5c8a9d3row12_col8 {\n",
       "            background-color:  #3b4cc0;\n",
       "        }    #T_33e2b828_ddc3_11e9_a45a_1062e5c8a9d3row12_col9 {\n",
       "            background-color:  #3b4cc0;\n",
       "        }    #T_33e2b828_ddc3_11e9_a45a_1062e5c8a9d3row12_col10 {\n",
       "            background-color:  #3b4cc0;\n",
       "        }    #T_33e2b828_ddc3_11e9_a45a_1062e5c8a9d3row12_col11 {\n",
       "            background-color:  #3b4cc0;\n",
       "        }    #T_33e2b828_ddc3_11e9_a45a_1062e5c8a9d3row12_col12 {\n",
       "            background-color:  #3b4cc0;\n",
       "        }</style>  \n",
       "<table id=\"T_33e2b828_ddc3_11e9_a45a_1062e5c8a9d3\" > \n",
       "<thead>    <tr> \n",
       "        <th class=\"blank level0\" ></th> \n",
       "        <th class=\"col_heading level0 col0\" >num_reactions</th> \n",
       "        <th class=\"col_heading level0 col1\" >num_comments</th> \n",
       "        <th class=\"col_heading level0 col2\" >num_shares</th> \n",
       "        <th class=\"col_heading level0 col3\" >num_likes</th> \n",
       "        <th class=\"col_heading level0 col4\" >num_loves</th> \n",
       "        <th class=\"col_heading level0 col5\" >num_wows</th> \n",
       "        <th class=\"col_heading level0 col6\" >num_hahas</th> \n",
       "        <th class=\"col_heading level0 col7\" >num_sads</th> \n",
       "        <th class=\"col_heading level0 col8\" >num_angrys</th> \n",
       "        <th class=\"col_heading level0 col9\" >Column1</th> \n",
       "        <th class=\"col_heading level0 col10\" >Column2</th> \n",
       "        <th class=\"col_heading level0 col11\" >Column3</th> \n",
       "        <th class=\"col_heading level0 col12\" >Column4</th> \n",
       "    </tr></thead> \n",
       "<tbody>    <tr> \n",
       "        <th id=\"T_33e2b828_ddc3_11e9_a45a_1062e5c8a9d3level0_row0\" class=\"row_heading level0 row0\" >num_reactions</th> \n",
       "        <td id=\"T_33e2b828_ddc3_11e9_a45a_1062e5c8a9d3row0_col0\" class=\"data row0 col0\" >1</td> \n",
       "        <td id=\"T_33e2b828_ddc3_11e9_a45a_1062e5c8a9d3row0_col1\" class=\"data row0 col1\" >0.150843</td> \n",
       "        <td id=\"T_33e2b828_ddc3_11e9_a45a_1062e5c8a9d3row0_col2\" class=\"data row0 col2\" >0.250723</td> \n",
       "        <td id=\"T_33e2b828_ddc3_11e9_a45a_1062e5c8a9d3row0_col3\" class=\"data row0 col3\" >0.994923</td> \n",
       "        <td id=\"T_33e2b828_ddc3_11e9_a45a_1062e5c8a9d3row0_col4\" class=\"data row0 col4\" >0.305003</td> \n",
       "        <td id=\"T_33e2b828_ddc3_11e9_a45a_1062e5c8a9d3row0_col5\" class=\"data row0 col5\" >0.267752</td> \n",
       "        <td id=\"T_33e2b828_ddc3_11e9_a45a_1062e5c8a9d3row0_col6\" class=\"data row0 col6\" >0.176028</td> \n",
       "        <td id=\"T_33e2b828_ddc3_11e9_a45a_1062e5c8a9d3row0_col7\" class=\"data row0 col7\" >0.075138</td> \n",
       "        <td id=\"T_33e2b828_ddc3_11e9_a45a_1062e5c8a9d3row0_col8\" class=\"data row0 col8\" >0.124326</td> \n",
       "        <td id=\"T_33e2b828_ddc3_11e9_a45a_1062e5c8a9d3row0_col9\" class=\"data row0 col9\" >nan</td> \n",
       "        <td id=\"T_33e2b828_ddc3_11e9_a45a_1062e5c8a9d3row0_col10\" class=\"data row0 col10\" >nan</td> \n",
       "        <td id=\"T_33e2b828_ddc3_11e9_a45a_1062e5c8a9d3row0_col11\" class=\"data row0 col11\" >nan</td> \n",
       "        <td id=\"T_33e2b828_ddc3_11e9_a45a_1062e5c8a9d3row0_col12\" class=\"data row0 col12\" >nan</td> \n",
       "    </tr>    <tr> \n",
       "        <th id=\"T_33e2b828_ddc3_11e9_a45a_1062e5c8a9d3level0_row1\" class=\"row_heading level0 row1\" >num_comments</th> \n",
       "        <td id=\"T_33e2b828_ddc3_11e9_a45a_1062e5c8a9d3row1_col0\" class=\"data row1 col0\" >0.150843</td> \n",
       "        <td id=\"T_33e2b828_ddc3_11e9_a45a_1062e5c8a9d3row1_col1\" class=\"data row1 col1\" >1</td> \n",
       "        <td id=\"T_33e2b828_ddc3_11e9_a45a_1062e5c8a9d3row1_col2\" class=\"data row1 col2\" >0.640637</td> \n",
       "        <td id=\"T_33e2b828_ddc3_11e9_a45a_1062e5c8a9d3row1_col3\" class=\"data row1 col3\" >0.101687</td> \n",
       "        <td id=\"T_33e2b828_ddc3_11e9_a45a_1062e5c8a9d3row1_col4\" class=\"data row1 col4\" >0.521223</td> \n",
       "        <td id=\"T_33e2b828_ddc3_11e9_a45a_1062e5c8a9d3row1_col5\" class=\"data row1 col5\" >0.162394</td> \n",
       "        <td id=\"T_33e2b828_ddc3_11e9_a45a_1062e5c8a9d3row1_col6\" class=\"data row1 col6\" >0.325048</td> \n",
       "        <td id=\"T_33e2b828_ddc3_11e9_a45a_1062e5c8a9d3row1_col7\" class=\"data row1 col7\" >0.236453</td> \n",
       "        <td id=\"T_33e2b828_ddc3_11e9_a45a_1062e5c8a9d3row1_col8\" class=\"data row1 col8\" >0.225184</td> \n",
       "        <td id=\"T_33e2b828_ddc3_11e9_a45a_1062e5c8a9d3row1_col9\" class=\"data row1 col9\" >nan</td> \n",
       "        <td id=\"T_33e2b828_ddc3_11e9_a45a_1062e5c8a9d3row1_col10\" class=\"data row1 col10\" >nan</td> \n",
       "        <td id=\"T_33e2b828_ddc3_11e9_a45a_1062e5c8a9d3row1_col11\" class=\"data row1 col11\" >nan</td> \n",
       "        <td id=\"T_33e2b828_ddc3_11e9_a45a_1062e5c8a9d3row1_col12\" class=\"data row1 col12\" >nan</td> \n",
       "    </tr>    <tr> \n",
       "        <th id=\"T_33e2b828_ddc3_11e9_a45a_1062e5c8a9d3level0_row2\" class=\"row_heading level0 row2\" >num_shares</th> \n",
       "        <td id=\"T_33e2b828_ddc3_11e9_a45a_1062e5c8a9d3row2_col0\" class=\"data row2 col0\" >0.250723</td> \n",
       "        <td id=\"T_33e2b828_ddc3_11e9_a45a_1062e5c8a9d3row2_col1\" class=\"data row2 col1\" >0.640637</td> \n",
       "        <td id=\"T_33e2b828_ddc3_11e9_a45a_1062e5c8a9d3row2_col2\" class=\"data row2 col2\" >1</td> \n",
       "        <td id=\"T_33e2b828_ddc3_11e9_a45a_1062e5c8a9d3row2_col3\" class=\"data row2 col3\" >0.172492</td> \n",
       "        <td id=\"T_33e2b828_ddc3_11e9_a45a_1062e5c8a9d3row2_col4\" class=\"data row2 col4\" >0.82</td> \n",
       "        <td id=\"T_33e2b828_ddc3_11e9_a45a_1062e5c8a9d3row2_col5\" class=\"data row2 col5\" >0.407628</td> \n",
       "        <td id=\"T_33e2b828_ddc3_11e9_a45a_1062e5c8a9d3row2_col6\" class=\"data row2 col6\" >0.399826</td> \n",
       "        <td id=\"T_33e2b828_ddc3_11e9_a45a_1062e5c8a9d3row2_col7\" class=\"data row2 col7\" >0.19997</td> \n",
       "        <td id=\"T_33e2b828_ddc3_11e9_a45a_1062e5c8a9d3row2_col8\" class=\"data row2 col8\" >0.312513</td> \n",
       "        <td id=\"T_33e2b828_ddc3_11e9_a45a_1062e5c8a9d3row2_col9\" class=\"data row2 col9\" >nan</td> \n",
       "        <td id=\"T_33e2b828_ddc3_11e9_a45a_1062e5c8a9d3row2_col10\" class=\"data row2 col10\" >nan</td> \n",
       "        <td id=\"T_33e2b828_ddc3_11e9_a45a_1062e5c8a9d3row2_col11\" class=\"data row2 col11\" >nan</td> \n",
       "        <td id=\"T_33e2b828_ddc3_11e9_a45a_1062e5c8a9d3row2_col12\" class=\"data row2 col12\" >nan</td> \n",
       "    </tr>    <tr> \n",
       "        <th id=\"T_33e2b828_ddc3_11e9_a45a_1062e5c8a9d3level0_row3\" class=\"row_heading level0 row3\" >num_likes</th> \n",
       "        <td id=\"T_33e2b828_ddc3_11e9_a45a_1062e5c8a9d3row3_col0\" class=\"data row3 col0\" >0.994923</td> \n",
       "        <td id=\"T_33e2b828_ddc3_11e9_a45a_1062e5c8a9d3row3_col1\" class=\"data row3 col1\" >0.101687</td> \n",
       "        <td id=\"T_33e2b828_ddc3_11e9_a45a_1062e5c8a9d3row3_col2\" class=\"data row3 col2\" >0.172492</td> \n",
       "        <td id=\"T_33e2b828_ddc3_11e9_a45a_1062e5c8a9d3row3_col3\" class=\"data row3 col3\" >1</td> \n",
       "        <td id=\"T_33e2b828_ddc3_11e9_a45a_1062e5c8a9d3row3_col4\" class=\"data row3 col4\" >0.209308</td> \n",
       "        <td id=\"T_33e2b828_ddc3_11e9_a45a_1062e5c8a9d3row3_col5\" class=\"data row3 col5\" >0.2078</td> \n",
       "        <td id=\"T_33e2b828_ddc3_11e9_a45a_1062e5c8a9d3row3_col6\" class=\"data row3 col6\" >0.120784</td> \n",
       "        <td id=\"T_33e2b828_ddc3_11e9_a45a_1062e5c8a9d3row3_col7\" class=\"data row3 col7\" >0.0521688</td> \n",
       "        <td id=\"T_33e2b828_ddc3_11e9_a45a_1062e5c8a9d3row3_col8\" class=\"data row3 col8\" >0.0874307</td> \n",
       "        <td id=\"T_33e2b828_ddc3_11e9_a45a_1062e5c8a9d3row3_col9\" class=\"data row3 col9\" >nan</td> \n",
       "        <td id=\"T_33e2b828_ddc3_11e9_a45a_1062e5c8a9d3row3_col10\" class=\"data row3 col10\" >nan</td> \n",
       "        <td id=\"T_33e2b828_ddc3_11e9_a45a_1062e5c8a9d3row3_col11\" class=\"data row3 col11\" >nan</td> \n",
       "        <td id=\"T_33e2b828_ddc3_11e9_a45a_1062e5c8a9d3row3_col12\" class=\"data row3 col12\" >nan</td> \n",
       "    </tr>    <tr> \n",
       "        <th id=\"T_33e2b828_ddc3_11e9_a45a_1062e5c8a9d3level0_row4\" class=\"row_heading level0 row4\" >num_loves</th> \n",
       "        <td id=\"T_33e2b828_ddc3_11e9_a45a_1062e5c8a9d3row4_col0\" class=\"data row4 col0\" >0.305003</td> \n",
       "        <td id=\"T_33e2b828_ddc3_11e9_a45a_1062e5c8a9d3row4_col1\" class=\"data row4 col1\" >0.521223</td> \n",
       "        <td id=\"T_33e2b828_ddc3_11e9_a45a_1062e5c8a9d3row4_col2\" class=\"data row4 col2\" >0.82</td> \n",
       "        <td id=\"T_33e2b828_ddc3_11e9_a45a_1062e5c8a9d3row4_col3\" class=\"data row4 col3\" >0.209308</td> \n",
       "        <td id=\"T_33e2b828_ddc3_11e9_a45a_1062e5c8a9d3row4_col4\" class=\"data row4 col4\" >1</td> \n",
       "        <td id=\"T_33e2b828_ddc3_11e9_a45a_1062e5c8a9d3row4_col5\" class=\"data row4 col5\" >0.508798</td> \n",
       "        <td id=\"T_33e2b828_ddc3_11e9_a45a_1062e5c8a9d3row4_col6\" class=\"data row4 col6\" >0.50783</td> \n",
       "        <td id=\"T_33e2b828_ddc3_11e9_a45a_1062e5c8a9d3row4_col7\" class=\"data row4 col7\" >0.2076</td> \n",
       "        <td id=\"T_33e2b828_ddc3_11e9_a45a_1062e5c8a9d3row4_col8\" class=\"data row4 col8\" >0.371001</td> \n",
       "        <td id=\"T_33e2b828_ddc3_11e9_a45a_1062e5c8a9d3row4_col9\" class=\"data row4 col9\" >nan</td> \n",
       "        <td id=\"T_33e2b828_ddc3_11e9_a45a_1062e5c8a9d3row4_col10\" class=\"data row4 col10\" >nan</td> \n",
       "        <td id=\"T_33e2b828_ddc3_11e9_a45a_1062e5c8a9d3row4_col11\" class=\"data row4 col11\" >nan</td> \n",
       "        <td id=\"T_33e2b828_ddc3_11e9_a45a_1062e5c8a9d3row4_col12\" class=\"data row4 col12\" >nan</td> \n",
       "    </tr>    <tr> \n",
       "        <th id=\"T_33e2b828_ddc3_11e9_a45a_1062e5c8a9d3level0_row5\" class=\"row_heading level0 row5\" >num_wows</th> \n",
       "        <td id=\"T_33e2b828_ddc3_11e9_a45a_1062e5c8a9d3row5_col0\" class=\"data row5 col0\" >0.267752</td> \n",
       "        <td id=\"T_33e2b828_ddc3_11e9_a45a_1062e5c8a9d3row5_col1\" class=\"data row5 col1\" >0.162394</td> \n",
       "        <td id=\"T_33e2b828_ddc3_11e9_a45a_1062e5c8a9d3row5_col2\" class=\"data row5 col2\" >0.407628</td> \n",
       "        <td id=\"T_33e2b828_ddc3_11e9_a45a_1062e5c8a9d3row5_col3\" class=\"data row5 col3\" >0.2078</td> \n",
       "        <td id=\"T_33e2b828_ddc3_11e9_a45a_1062e5c8a9d3row5_col4\" class=\"data row5 col4\" >0.508798</td> \n",
       "        <td id=\"T_33e2b828_ddc3_11e9_a45a_1062e5c8a9d3row5_col5\" class=\"data row5 col5\" >1</td> \n",
       "        <td id=\"T_33e2b828_ddc3_11e9_a45a_1062e5c8a9d3row5_col6\" class=\"data row5 col6\" >0.287756</td> \n",
       "        <td id=\"T_33e2b828_ddc3_11e9_a45a_1062e5c8a9d3row5_col7\" class=\"data row5 col7\" >0.0865027</td> \n",
       "        <td id=\"T_33e2b828_ddc3_11e9_a45a_1062e5c8a9d3row5_col8\" class=\"data row5 col8\" >0.183087</td> \n",
       "        <td id=\"T_33e2b828_ddc3_11e9_a45a_1062e5c8a9d3row5_col9\" class=\"data row5 col9\" >nan</td> \n",
       "        <td id=\"T_33e2b828_ddc3_11e9_a45a_1062e5c8a9d3row5_col10\" class=\"data row5 col10\" >nan</td> \n",
       "        <td id=\"T_33e2b828_ddc3_11e9_a45a_1062e5c8a9d3row5_col11\" class=\"data row5 col11\" >nan</td> \n",
       "        <td id=\"T_33e2b828_ddc3_11e9_a45a_1062e5c8a9d3row5_col12\" class=\"data row5 col12\" >nan</td> \n",
       "    </tr>    <tr> \n",
       "        <th id=\"T_33e2b828_ddc3_11e9_a45a_1062e5c8a9d3level0_row6\" class=\"row_heading level0 row6\" >num_hahas</th> \n",
       "        <td id=\"T_33e2b828_ddc3_11e9_a45a_1062e5c8a9d3row6_col0\" class=\"data row6 col0\" >0.176028</td> \n",
       "        <td id=\"T_33e2b828_ddc3_11e9_a45a_1062e5c8a9d3row6_col1\" class=\"data row6 col1\" >0.325048</td> \n",
       "        <td id=\"T_33e2b828_ddc3_11e9_a45a_1062e5c8a9d3row6_col2\" class=\"data row6 col2\" >0.399826</td> \n",
       "        <td id=\"T_33e2b828_ddc3_11e9_a45a_1062e5c8a9d3row6_col3\" class=\"data row6 col3\" >0.120784</td> \n",
       "        <td id=\"T_33e2b828_ddc3_11e9_a45a_1062e5c8a9d3row6_col4\" class=\"data row6 col4\" >0.50783</td> \n",
       "        <td id=\"T_33e2b828_ddc3_11e9_a45a_1062e5c8a9d3row6_col5\" class=\"data row6 col5\" >0.287756</td> \n",
       "        <td id=\"T_33e2b828_ddc3_11e9_a45a_1062e5c8a9d3row6_col6\" class=\"data row6 col6\" >1</td> \n",
       "        <td id=\"T_33e2b828_ddc3_11e9_a45a_1062e5c8a9d3row6_col7\" class=\"data row6 col7\" >0.141421</td> \n",
       "        <td id=\"T_33e2b828_ddc3_11e9_a45a_1062e5c8a9d3row6_col8\" class=\"data row6 col8\" >0.21191</td> \n",
       "        <td id=\"T_33e2b828_ddc3_11e9_a45a_1062e5c8a9d3row6_col9\" class=\"data row6 col9\" >nan</td> \n",
       "        <td id=\"T_33e2b828_ddc3_11e9_a45a_1062e5c8a9d3row6_col10\" class=\"data row6 col10\" >nan</td> \n",
       "        <td id=\"T_33e2b828_ddc3_11e9_a45a_1062e5c8a9d3row6_col11\" class=\"data row6 col11\" >nan</td> \n",
       "        <td id=\"T_33e2b828_ddc3_11e9_a45a_1062e5c8a9d3row6_col12\" class=\"data row6 col12\" >nan</td> \n",
       "    </tr>    <tr> \n",
       "        <th id=\"T_33e2b828_ddc3_11e9_a45a_1062e5c8a9d3level0_row7\" class=\"row_heading level0 row7\" >num_sads</th> \n",
       "        <td id=\"T_33e2b828_ddc3_11e9_a45a_1062e5c8a9d3row7_col0\" class=\"data row7 col0\" >0.075138</td> \n",
       "        <td id=\"T_33e2b828_ddc3_11e9_a45a_1062e5c8a9d3row7_col1\" class=\"data row7 col1\" >0.236453</td> \n",
       "        <td id=\"T_33e2b828_ddc3_11e9_a45a_1062e5c8a9d3row7_col2\" class=\"data row7 col2\" >0.19997</td> \n",
       "        <td id=\"T_33e2b828_ddc3_11e9_a45a_1062e5c8a9d3row7_col3\" class=\"data row7 col3\" >0.0521688</td> \n",
       "        <td id=\"T_33e2b828_ddc3_11e9_a45a_1062e5c8a9d3row7_col4\" class=\"data row7 col4\" >0.2076</td> \n",
       "        <td id=\"T_33e2b828_ddc3_11e9_a45a_1062e5c8a9d3row7_col5\" class=\"data row7 col5\" >0.0865027</td> \n",
       "        <td id=\"T_33e2b828_ddc3_11e9_a45a_1062e5c8a9d3row7_col6\" class=\"data row7 col6\" >0.141421</td> \n",
       "        <td id=\"T_33e2b828_ddc3_11e9_a45a_1062e5c8a9d3row7_col7\" class=\"data row7 col7\" >1</td> \n",
       "        <td id=\"T_33e2b828_ddc3_11e9_a45a_1062e5c8a9d3row7_col8\" class=\"data row7 col8\" >0.142072</td> \n",
       "        <td id=\"T_33e2b828_ddc3_11e9_a45a_1062e5c8a9d3row7_col9\" class=\"data row7 col9\" >nan</td> \n",
       "        <td id=\"T_33e2b828_ddc3_11e9_a45a_1062e5c8a9d3row7_col10\" class=\"data row7 col10\" >nan</td> \n",
       "        <td id=\"T_33e2b828_ddc3_11e9_a45a_1062e5c8a9d3row7_col11\" class=\"data row7 col11\" >nan</td> \n",
       "        <td id=\"T_33e2b828_ddc3_11e9_a45a_1062e5c8a9d3row7_col12\" class=\"data row7 col12\" >nan</td> \n",
       "    </tr>    <tr> \n",
       "        <th id=\"T_33e2b828_ddc3_11e9_a45a_1062e5c8a9d3level0_row8\" class=\"row_heading level0 row8\" >num_angrys</th> \n",
       "        <td id=\"T_33e2b828_ddc3_11e9_a45a_1062e5c8a9d3row8_col0\" class=\"data row8 col0\" >0.124326</td> \n",
       "        <td id=\"T_33e2b828_ddc3_11e9_a45a_1062e5c8a9d3row8_col1\" class=\"data row8 col1\" >0.225184</td> \n",
       "        <td id=\"T_33e2b828_ddc3_11e9_a45a_1062e5c8a9d3row8_col2\" class=\"data row8 col2\" >0.312513</td> \n",
       "        <td id=\"T_33e2b828_ddc3_11e9_a45a_1062e5c8a9d3row8_col3\" class=\"data row8 col3\" >0.0874307</td> \n",
       "        <td id=\"T_33e2b828_ddc3_11e9_a45a_1062e5c8a9d3row8_col4\" class=\"data row8 col4\" >0.371001</td> \n",
       "        <td id=\"T_33e2b828_ddc3_11e9_a45a_1062e5c8a9d3row8_col5\" class=\"data row8 col5\" >0.183087</td> \n",
       "        <td id=\"T_33e2b828_ddc3_11e9_a45a_1062e5c8a9d3row8_col6\" class=\"data row8 col6\" >0.21191</td> \n",
       "        <td id=\"T_33e2b828_ddc3_11e9_a45a_1062e5c8a9d3row8_col7\" class=\"data row8 col7\" >0.142072</td> \n",
       "        <td id=\"T_33e2b828_ddc3_11e9_a45a_1062e5c8a9d3row8_col8\" class=\"data row8 col8\" >1</td> \n",
       "        <td id=\"T_33e2b828_ddc3_11e9_a45a_1062e5c8a9d3row8_col9\" class=\"data row8 col9\" >nan</td> \n",
       "        <td id=\"T_33e2b828_ddc3_11e9_a45a_1062e5c8a9d3row8_col10\" class=\"data row8 col10\" >nan</td> \n",
       "        <td id=\"T_33e2b828_ddc3_11e9_a45a_1062e5c8a9d3row8_col11\" class=\"data row8 col11\" >nan</td> \n",
       "        <td id=\"T_33e2b828_ddc3_11e9_a45a_1062e5c8a9d3row8_col12\" class=\"data row8 col12\" >nan</td> \n",
       "    </tr>    <tr> \n",
       "        <th id=\"T_33e2b828_ddc3_11e9_a45a_1062e5c8a9d3level0_row9\" class=\"row_heading level0 row9\" >Column1</th> \n",
       "        <td id=\"T_33e2b828_ddc3_11e9_a45a_1062e5c8a9d3row9_col0\" class=\"data row9 col0\" >nan</td> \n",
       "        <td id=\"T_33e2b828_ddc3_11e9_a45a_1062e5c8a9d3row9_col1\" class=\"data row9 col1\" >nan</td> \n",
       "        <td id=\"T_33e2b828_ddc3_11e9_a45a_1062e5c8a9d3row9_col2\" class=\"data row9 col2\" >nan</td> \n",
       "        <td id=\"T_33e2b828_ddc3_11e9_a45a_1062e5c8a9d3row9_col3\" class=\"data row9 col3\" >nan</td> \n",
       "        <td id=\"T_33e2b828_ddc3_11e9_a45a_1062e5c8a9d3row9_col4\" class=\"data row9 col4\" >nan</td> \n",
       "        <td id=\"T_33e2b828_ddc3_11e9_a45a_1062e5c8a9d3row9_col5\" class=\"data row9 col5\" >nan</td> \n",
       "        <td id=\"T_33e2b828_ddc3_11e9_a45a_1062e5c8a9d3row9_col6\" class=\"data row9 col6\" >nan</td> \n",
       "        <td id=\"T_33e2b828_ddc3_11e9_a45a_1062e5c8a9d3row9_col7\" class=\"data row9 col7\" >nan</td> \n",
       "        <td id=\"T_33e2b828_ddc3_11e9_a45a_1062e5c8a9d3row9_col8\" class=\"data row9 col8\" >nan</td> \n",
       "        <td id=\"T_33e2b828_ddc3_11e9_a45a_1062e5c8a9d3row9_col9\" class=\"data row9 col9\" >nan</td> \n",
       "        <td id=\"T_33e2b828_ddc3_11e9_a45a_1062e5c8a9d3row9_col10\" class=\"data row9 col10\" >nan</td> \n",
       "        <td id=\"T_33e2b828_ddc3_11e9_a45a_1062e5c8a9d3row9_col11\" class=\"data row9 col11\" >nan</td> \n",
       "        <td id=\"T_33e2b828_ddc3_11e9_a45a_1062e5c8a9d3row9_col12\" class=\"data row9 col12\" >nan</td> \n",
       "    </tr>    <tr> \n",
       "        <th id=\"T_33e2b828_ddc3_11e9_a45a_1062e5c8a9d3level0_row10\" class=\"row_heading level0 row10\" >Column2</th> \n",
       "        <td id=\"T_33e2b828_ddc3_11e9_a45a_1062e5c8a9d3row10_col0\" class=\"data row10 col0\" >nan</td> \n",
       "        <td id=\"T_33e2b828_ddc3_11e9_a45a_1062e5c8a9d3row10_col1\" class=\"data row10 col1\" >nan</td> \n",
       "        <td id=\"T_33e2b828_ddc3_11e9_a45a_1062e5c8a9d3row10_col2\" class=\"data row10 col2\" >nan</td> \n",
       "        <td id=\"T_33e2b828_ddc3_11e9_a45a_1062e5c8a9d3row10_col3\" class=\"data row10 col3\" >nan</td> \n",
       "        <td id=\"T_33e2b828_ddc3_11e9_a45a_1062e5c8a9d3row10_col4\" class=\"data row10 col4\" >nan</td> \n",
       "        <td id=\"T_33e2b828_ddc3_11e9_a45a_1062e5c8a9d3row10_col5\" class=\"data row10 col5\" >nan</td> \n",
       "        <td id=\"T_33e2b828_ddc3_11e9_a45a_1062e5c8a9d3row10_col6\" class=\"data row10 col6\" >nan</td> \n",
       "        <td id=\"T_33e2b828_ddc3_11e9_a45a_1062e5c8a9d3row10_col7\" class=\"data row10 col7\" >nan</td> \n",
       "        <td id=\"T_33e2b828_ddc3_11e9_a45a_1062e5c8a9d3row10_col8\" class=\"data row10 col8\" >nan</td> \n",
       "        <td id=\"T_33e2b828_ddc3_11e9_a45a_1062e5c8a9d3row10_col9\" class=\"data row10 col9\" >nan</td> \n",
       "        <td id=\"T_33e2b828_ddc3_11e9_a45a_1062e5c8a9d3row10_col10\" class=\"data row10 col10\" >nan</td> \n",
       "        <td id=\"T_33e2b828_ddc3_11e9_a45a_1062e5c8a9d3row10_col11\" class=\"data row10 col11\" >nan</td> \n",
       "        <td id=\"T_33e2b828_ddc3_11e9_a45a_1062e5c8a9d3row10_col12\" class=\"data row10 col12\" >nan</td> \n",
       "    </tr>    <tr> \n",
       "        <th id=\"T_33e2b828_ddc3_11e9_a45a_1062e5c8a9d3level0_row11\" class=\"row_heading level0 row11\" >Column3</th> \n",
       "        <td id=\"T_33e2b828_ddc3_11e9_a45a_1062e5c8a9d3row11_col0\" class=\"data row11 col0\" >nan</td> \n",
       "        <td id=\"T_33e2b828_ddc3_11e9_a45a_1062e5c8a9d3row11_col1\" class=\"data row11 col1\" >nan</td> \n",
       "        <td id=\"T_33e2b828_ddc3_11e9_a45a_1062e5c8a9d3row11_col2\" class=\"data row11 col2\" >nan</td> \n",
       "        <td id=\"T_33e2b828_ddc3_11e9_a45a_1062e5c8a9d3row11_col3\" class=\"data row11 col3\" >nan</td> \n",
       "        <td id=\"T_33e2b828_ddc3_11e9_a45a_1062e5c8a9d3row11_col4\" class=\"data row11 col4\" >nan</td> \n",
       "        <td id=\"T_33e2b828_ddc3_11e9_a45a_1062e5c8a9d3row11_col5\" class=\"data row11 col5\" >nan</td> \n",
       "        <td id=\"T_33e2b828_ddc3_11e9_a45a_1062e5c8a9d3row11_col6\" class=\"data row11 col6\" >nan</td> \n",
       "        <td id=\"T_33e2b828_ddc3_11e9_a45a_1062e5c8a9d3row11_col7\" class=\"data row11 col7\" >nan</td> \n",
       "        <td id=\"T_33e2b828_ddc3_11e9_a45a_1062e5c8a9d3row11_col8\" class=\"data row11 col8\" >nan</td> \n",
       "        <td id=\"T_33e2b828_ddc3_11e9_a45a_1062e5c8a9d3row11_col9\" class=\"data row11 col9\" >nan</td> \n",
       "        <td id=\"T_33e2b828_ddc3_11e9_a45a_1062e5c8a9d3row11_col10\" class=\"data row11 col10\" >nan</td> \n",
       "        <td id=\"T_33e2b828_ddc3_11e9_a45a_1062e5c8a9d3row11_col11\" class=\"data row11 col11\" >nan</td> \n",
       "        <td id=\"T_33e2b828_ddc3_11e9_a45a_1062e5c8a9d3row11_col12\" class=\"data row11 col12\" >nan</td> \n",
       "    </tr>    <tr> \n",
       "        <th id=\"T_33e2b828_ddc3_11e9_a45a_1062e5c8a9d3level0_row12\" class=\"row_heading level0 row12\" >Column4</th> \n",
       "        <td id=\"T_33e2b828_ddc3_11e9_a45a_1062e5c8a9d3row12_col0\" class=\"data row12 col0\" >nan</td> \n",
       "        <td id=\"T_33e2b828_ddc3_11e9_a45a_1062e5c8a9d3row12_col1\" class=\"data row12 col1\" >nan</td> \n",
       "        <td id=\"T_33e2b828_ddc3_11e9_a45a_1062e5c8a9d3row12_col2\" class=\"data row12 col2\" >nan</td> \n",
       "        <td id=\"T_33e2b828_ddc3_11e9_a45a_1062e5c8a9d3row12_col3\" class=\"data row12 col3\" >nan</td> \n",
       "        <td id=\"T_33e2b828_ddc3_11e9_a45a_1062e5c8a9d3row12_col4\" class=\"data row12 col4\" >nan</td> \n",
       "        <td id=\"T_33e2b828_ddc3_11e9_a45a_1062e5c8a9d3row12_col5\" class=\"data row12 col5\" >nan</td> \n",
       "        <td id=\"T_33e2b828_ddc3_11e9_a45a_1062e5c8a9d3row12_col6\" class=\"data row12 col6\" >nan</td> \n",
       "        <td id=\"T_33e2b828_ddc3_11e9_a45a_1062e5c8a9d3row12_col7\" class=\"data row12 col7\" >nan</td> \n",
       "        <td id=\"T_33e2b828_ddc3_11e9_a45a_1062e5c8a9d3row12_col8\" class=\"data row12 col8\" >nan</td> \n",
       "        <td id=\"T_33e2b828_ddc3_11e9_a45a_1062e5c8a9d3row12_col9\" class=\"data row12 col9\" >nan</td> \n",
       "        <td id=\"T_33e2b828_ddc3_11e9_a45a_1062e5c8a9d3row12_col10\" class=\"data row12 col10\" >nan</td> \n",
       "        <td id=\"T_33e2b828_ddc3_11e9_a45a_1062e5c8a9d3row12_col11\" class=\"data row12 col11\" >nan</td> \n",
       "        <td id=\"T_33e2b828_ddc3_11e9_a45a_1062e5c8a9d3row12_col12\" class=\"data row12 col12\" >nan</td> \n",
       "    </tr></tbody> \n",
       "</table> "
      ],
      "text/plain": [
       "<pandas.io.formats.style.Styler at 0x28acd678898>"
      ]
     },
     "execution_count": 76,
     "metadata": {},
     "output_type": "execute_result"
    }
   ],
   "source": [
    "corr = df.corr()\n",
    "corr.style.background_gradient(cmap='coolwarm')"
   ]
  },
  {
   "cell_type": "markdown",
   "metadata": {},
   "source": [
    "## Missing Values Imputation"
   ]
  },
  {
   "cell_type": "code",
   "execution_count": 77,
   "metadata": {},
   "outputs": [
    {
     "data": {
      "text/html": [
       "<div>\n",
       "<style scoped>\n",
       "    .dataframe tbody tr th:only-of-type {\n",
       "        vertical-align: middle;\n",
       "    }\n",
       "\n",
       "    .dataframe tbody tr th {\n",
       "        vertical-align: top;\n",
       "    }\n",
       "\n",
       "    .dataframe thead th {\n",
       "        text-align: right;\n",
       "    }\n",
       "</style>\n",
       "<table border=\"1\" class=\"dataframe\">\n",
       "  <thead>\n",
       "    <tr style=\"text-align: right;\">\n",
       "      <th></th>\n",
       "      <th>status_id</th>\n",
       "      <th>status_type</th>\n",
       "      <th>status_published</th>\n",
       "      <th>num_reactions</th>\n",
       "      <th>num_comments</th>\n",
       "      <th>num_shares</th>\n",
       "      <th>num_likes</th>\n",
       "      <th>num_loves</th>\n",
       "      <th>num_wows</th>\n",
       "      <th>num_hahas</th>\n",
       "      <th>num_sads</th>\n",
       "      <th>num_angrys</th>\n",
       "    </tr>\n",
       "  </thead>\n",
       "  <tbody>\n",
       "    <tr>\n",
       "      <th>0</th>\n",
       "      <td>246675545449582_1649696485147474</td>\n",
       "      <td>video</td>\n",
       "      <td>4/22/2018 6:00</td>\n",
       "      <td>529</td>\n",
       "      <td>512</td>\n",
       "      <td>262</td>\n",
       "      <td>432</td>\n",
       "      <td>92</td>\n",
       "      <td>3</td>\n",
       "      <td>1</td>\n",
       "      <td>1</td>\n",
       "      <td>0</td>\n",
       "    </tr>\n",
       "    <tr>\n",
       "      <th>1</th>\n",
       "      <td>246675545449582_1649426988507757</td>\n",
       "      <td>photo</td>\n",
       "      <td>4/21/2018 22:45</td>\n",
       "      <td>150</td>\n",
       "      <td>0</td>\n",
       "      <td>0</td>\n",
       "      <td>150</td>\n",
       "      <td>0</td>\n",
       "      <td>0</td>\n",
       "      <td>0</td>\n",
       "      <td>0</td>\n",
       "      <td>0</td>\n",
       "    </tr>\n",
       "    <tr>\n",
       "      <th>2</th>\n",
       "      <td>246675545449582_1648730588577397</td>\n",
       "      <td>video</td>\n",
       "      <td>4/21/2018 6:17</td>\n",
       "      <td>227</td>\n",
       "      <td>236</td>\n",
       "      <td>57</td>\n",
       "      <td>204</td>\n",
       "      <td>21</td>\n",
       "      <td>1</td>\n",
       "      <td>1</td>\n",
       "      <td>0</td>\n",
       "      <td>0</td>\n",
       "    </tr>\n",
       "    <tr>\n",
       "      <th>3</th>\n",
       "      <td>246675545449582_1648576705259452</td>\n",
       "      <td>photo</td>\n",
       "      <td>4/21/2018 2:29</td>\n",
       "      <td>111</td>\n",
       "      <td>0</td>\n",
       "      <td>0</td>\n",
       "      <td>111</td>\n",
       "      <td>0</td>\n",
       "      <td>0</td>\n",
       "      <td>0</td>\n",
       "      <td>0</td>\n",
       "      <td>0</td>\n",
       "    </tr>\n",
       "    <tr>\n",
       "      <th>4</th>\n",
       "      <td>246675545449582_1645700502213739</td>\n",
       "      <td>photo</td>\n",
       "      <td>4/18/2018 3:22</td>\n",
       "      <td>213</td>\n",
       "      <td>0</td>\n",
       "      <td>0</td>\n",
       "      <td>204</td>\n",
       "      <td>9</td>\n",
       "      <td>0</td>\n",
       "      <td>0</td>\n",
       "      <td>0</td>\n",
       "      <td>0</td>\n",
       "    </tr>\n",
       "  </tbody>\n",
       "</table>\n",
       "</div>"
      ],
      "text/plain": [
       "                          status_id status_type status_published  \\\n",
       "0  246675545449582_1649696485147474       video   4/22/2018 6:00   \n",
       "1  246675545449582_1649426988507757       photo  4/21/2018 22:45   \n",
       "2  246675545449582_1648730588577397       video   4/21/2018 6:17   \n",
       "3  246675545449582_1648576705259452       photo   4/21/2018 2:29   \n",
       "4  246675545449582_1645700502213739       photo   4/18/2018 3:22   \n",
       "\n",
       "   num_reactions  num_comments  num_shares  num_likes  num_loves  num_wows  \\\n",
       "0            529           512         262        432         92         3   \n",
       "1            150             0           0        150          0         0   \n",
       "2            227           236          57        204         21         1   \n",
       "3            111             0           0        111          0         0   \n",
       "4            213             0           0        204          9         0   \n",
       "\n",
       "   num_hahas  num_sads  num_angrys  \n",
       "0          1         1           0  \n",
       "1          0         0           0  \n",
       "2          1         0           0  \n",
       "3          0         0           0  \n",
       "4          0         0           0  "
      ]
     },
     "execution_count": 77,
     "metadata": {},
     "output_type": "execute_result"
    }
   ],
   "source": [
    "df = df.dropna(axis=1, how='all')\n",
    "df.head()"
   ]
  },
  {
   "cell_type": "code",
   "execution_count": 78,
   "metadata": {},
   "outputs": [
    {
     "name": "stdout",
     "output_type": "stream",
     "text": [
      "Amount of rows with missing values: 0\n"
     ]
    }
   ],
   "source": [
    "#check for missing values\n",
    "Temp = pd.DataFrame(df.isnull().sum())\n",
    "Temp.columns = ['Sum']\n",
    "print('Amount of rows with missing values: ' + str(len(Temp.index[Temp['Sum'] > 0])) )"
   ]
  },
  {
   "cell_type": "code",
   "execution_count": 79,
   "metadata": {},
   "outputs": [
    {
     "data": {
      "text/html": [
       "<div>\n",
       "<style scoped>\n",
       "    .dataframe tbody tr th:only-of-type {\n",
       "        vertical-align: middle;\n",
       "    }\n",
       "\n",
       "    .dataframe tbody tr th {\n",
       "        vertical-align: top;\n",
       "    }\n",
       "\n",
       "    .dataframe thead th {\n",
       "        text-align: right;\n",
       "    }\n",
       "</style>\n",
       "<table border=\"1\" class=\"dataframe\">\n",
       "  <thead>\n",
       "    <tr style=\"text-align: right;\">\n",
       "      <th></th>\n",
       "      <th>status_type</th>\n",
       "      <th>num_reactions</th>\n",
       "      <th>num_comments</th>\n",
       "      <th>num_shares</th>\n",
       "      <th>num_likes</th>\n",
       "      <th>num_loves</th>\n",
       "      <th>num_wows</th>\n",
       "      <th>num_hahas</th>\n",
       "      <th>num_sads</th>\n",
       "      <th>num_angrys</th>\n",
       "    </tr>\n",
       "  </thead>\n",
       "  <tbody>\n",
       "    <tr>\n",
       "      <th>0</th>\n",
       "      <td>video</td>\n",
       "      <td>529</td>\n",
       "      <td>512</td>\n",
       "      <td>262</td>\n",
       "      <td>432</td>\n",
       "      <td>92</td>\n",
       "      <td>3</td>\n",
       "      <td>1</td>\n",
       "      <td>1</td>\n",
       "      <td>0</td>\n",
       "    </tr>\n",
       "    <tr>\n",
       "      <th>1</th>\n",
       "      <td>photo</td>\n",
       "      <td>150</td>\n",
       "      <td>0</td>\n",
       "      <td>0</td>\n",
       "      <td>150</td>\n",
       "      <td>0</td>\n",
       "      <td>0</td>\n",
       "      <td>0</td>\n",
       "      <td>0</td>\n",
       "      <td>0</td>\n",
       "    </tr>\n",
       "    <tr>\n",
       "      <th>2</th>\n",
       "      <td>video</td>\n",
       "      <td>227</td>\n",
       "      <td>236</td>\n",
       "      <td>57</td>\n",
       "      <td>204</td>\n",
       "      <td>21</td>\n",
       "      <td>1</td>\n",
       "      <td>1</td>\n",
       "      <td>0</td>\n",
       "      <td>0</td>\n",
       "    </tr>\n",
       "    <tr>\n",
       "      <th>3</th>\n",
       "      <td>photo</td>\n",
       "      <td>111</td>\n",
       "      <td>0</td>\n",
       "      <td>0</td>\n",
       "      <td>111</td>\n",
       "      <td>0</td>\n",
       "      <td>0</td>\n",
       "      <td>0</td>\n",
       "      <td>0</td>\n",
       "      <td>0</td>\n",
       "    </tr>\n",
       "    <tr>\n",
       "      <th>4</th>\n",
       "      <td>photo</td>\n",
       "      <td>213</td>\n",
       "      <td>0</td>\n",
       "      <td>0</td>\n",
       "      <td>204</td>\n",
       "      <td>9</td>\n",
       "      <td>0</td>\n",
       "      <td>0</td>\n",
       "      <td>0</td>\n",
       "      <td>0</td>\n",
       "    </tr>\n",
       "  </tbody>\n",
       "</table>\n",
       "</div>"
      ],
      "text/plain": [
       "  status_type  num_reactions  num_comments  num_shares  num_likes  num_loves  \\\n",
       "0       video            529           512         262        432         92   \n",
       "1       photo            150             0           0        150          0   \n",
       "2       video            227           236          57        204         21   \n",
       "3       photo            111             0           0        111          0   \n",
       "4       photo            213             0           0        204          9   \n",
       "\n",
       "   num_wows  num_hahas  num_sads  num_angrys  \n",
       "0         3          1         1           0  \n",
       "1         0          0         0           0  \n",
       "2         1          1         0           0  \n",
       "3         0          0         0           0  \n",
       "4         0          0         0           0  "
      ]
     },
     "execution_count": 79,
     "metadata": {},
     "output_type": "execute_result"
    }
   ],
   "source": [
    "# Drop Unnecessary columns\n",
    "df = df.drop(axis=1, columns='status_published')\n",
    "df = df.drop(axis=1, columns='status_id')\n",
    "df.head()"
   ]
  },
  {
   "cell_type": "code",
   "execution_count": 80,
   "metadata": {},
   "outputs": [
    {
     "data": {
      "text/plain": [
       "(7050, 10)"
      ]
     },
     "execution_count": 80,
     "metadata": {},
     "output_type": "execute_result"
    }
   ],
   "source": [
    "df.shape"
   ]
  },
  {
   "cell_type": "markdown",
   "metadata": {},
   "source": [
    "## Outliers Treatment"
   ]
  },
  {
   "cell_type": "code",
   "execution_count": 81,
   "metadata": {},
   "outputs": [],
   "source": [
    "def cap_data(df):\n",
    "    for col in df.columns:\n",
    "        print(\"capping the \",col)\n",
    "        if (((df[col].dtype)=='float64') | ((df[col].dtype)=='int64')):\n",
    "            percentiles = df[col].quantile([0.05,0.95]).values\n",
    "            df[col][df[col] <= percentiles[0]] = percentiles[0]\n",
    "            df[col][df[col] >= percentiles[1]] = percentiles[1]\n",
    "        else:\n",
    "            df[col]=df[col]\n",
    "    return df"
   ]
  },
  {
   "cell_type": "code",
   "execution_count": 82,
   "metadata": {},
   "outputs": [
    {
     "name": "stdout",
     "output_type": "stream",
     "text": [
      "capping the  status_type\n",
      "capping the  num_reactions\n",
      "capping the  num_comments\n",
      "capping the  num_shares\n"
     ]
    },
    {
     "name": "stderr",
     "output_type": "stream",
     "text": [
      "C:\\Users\\Z003Z4FY.AD001\\AppData\\Local\\Continuum\\anaconda3\\lib\\site-packages\\ipykernel_launcher.py:6: SettingWithCopyWarning:\n",
      "\n",
      "\n",
      "A value is trying to be set on a copy of a slice from a DataFrame\n",
      "\n",
      "See the caveats in the documentation: http://pandas.pydata.org/pandas-docs/stable/indexing.html#indexing-view-versus-copy\n",
      "\n",
      "C:\\Users\\Z003Z4FY.AD001\\AppData\\Local\\Continuum\\anaconda3\\lib\\site-packages\\ipykernel_launcher.py:6: SettingWithCopyWarning:\n",
      "\n",
      "\n",
      "A value is trying to be set on a copy of a slice from a DataFrame\n",
      "\n",
      "See the caveats in the documentation: http://pandas.pydata.org/pandas-docs/stable/indexing.html#indexing-view-versus-copy\n",
      "\n",
      "C:\\Users\\Z003Z4FY.AD001\\AppData\\Local\\Continuum\\anaconda3\\lib\\site-packages\\ipykernel_launcher.py:6: SettingWithCopyWarning:\n",
      "\n",
      "\n",
      "A value is trying to be set on a copy of a slice from a DataFrame\n",
      "\n",
      "See the caveats in the documentation: http://pandas.pydata.org/pandas-docs/stable/indexing.html#indexing-view-versus-copy\n",
      "\n",
      "C:\\Users\\Z003Z4FY.AD001\\AppData\\Local\\Continuum\\anaconda3\\lib\\site-packages\\ipykernel_launcher.py:7: SettingWithCopyWarning:\n",
      "\n",
      "\n",
      "A value is trying to be set on a copy of a slice from a DataFrame\n",
      "\n",
      "See the caveats in the documentation: http://pandas.pydata.org/pandas-docs/stable/indexing.html#indexing-view-versus-copy\n",
      "\n",
      "C:\\Users\\Z003Z4FY.AD001\\AppData\\Local\\Continuum\\anaconda3\\lib\\site-packages\\ipykernel_launcher.py:6: SettingWithCopyWarning:\n",
      "\n",
      "\n",
      "A value is trying to be set on a copy of a slice from a DataFrame\n",
      "\n",
      "See the caveats in the documentation: http://pandas.pydata.org/pandas-docs/stable/indexing.html#indexing-view-versus-copy\n",
      "\n"
     ]
    },
    {
     "name": "stdout",
     "output_type": "stream",
     "text": [
      "capping the  num_likes\n",
      "capping the  num_loves\n"
     ]
    },
    {
     "name": "stderr",
     "output_type": "stream",
     "text": [
      "C:\\Users\\Z003Z4FY.AD001\\AppData\\Local\\Continuum\\anaconda3\\lib\\site-packages\\ipykernel_launcher.py:7: SettingWithCopyWarning:\n",
      "\n",
      "\n",
      "A value is trying to be set on a copy of a slice from a DataFrame\n",
      "\n",
      "See the caveats in the documentation: http://pandas.pydata.org/pandas-docs/stable/indexing.html#indexing-view-versus-copy\n",
      "\n",
      "C:\\Users\\Z003Z4FY.AD001\\AppData\\Local\\Continuum\\anaconda3\\lib\\site-packages\\ipykernel_launcher.py:6: SettingWithCopyWarning:\n",
      "\n",
      "\n",
      "A value is trying to be set on a copy of a slice from a DataFrame\n",
      "\n",
      "See the caveats in the documentation: http://pandas.pydata.org/pandas-docs/stable/indexing.html#indexing-view-versus-copy\n",
      "\n",
      "C:\\Users\\Z003Z4FY.AD001\\AppData\\Local\\Continuum\\anaconda3\\lib\\site-packages\\ipykernel_launcher.py:7: SettingWithCopyWarning:\n",
      "\n",
      "\n",
      "A value is trying to be set on a copy of a slice from a DataFrame\n",
      "\n",
      "See the caveats in the documentation: http://pandas.pydata.org/pandas-docs/stable/indexing.html#indexing-view-versus-copy\n",
      "\n",
      "C:\\Users\\Z003Z4FY.AD001\\AppData\\Local\\Continuum\\anaconda3\\lib\\site-packages\\ipykernel_launcher.py:6: SettingWithCopyWarning:\n",
      "\n",
      "\n",
      "A value is trying to be set on a copy of a slice from a DataFrame\n",
      "\n",
      "See the caveats in the documentation: http://pandas.pydata.org/pandas-docs/stable/indexing.html#indexing-view-versus-copy\n",
      "\n",
      "C:\\Users\\Z003Z4FY.AD001\\AppData\\Local\\Continuum\\anaconda3\\lib\\site-packages\\ipykernel_launcher.py:6: SettingWithCopyWarning:\n",
      "\n",
      "\n",
      "A value is trying to be set on a copy of a slice from a DataFrame\n",
      "\n",
      "See the caveats in the documentation: http://pandas.pydata.org/pandas-docs/stable/indexing.html#indexing-view-versus-copy\n",
      "\n"
     ]
    },
    {
     "name": "stdout",
     "output_type": "stream",
     "text": [
      "capping the  num_wows\n",
      "capping the  num_hahas\n",
      "capping the  num_sads\n",
      "capping the  num_angrys\n"
     ]
    },
    {
     "name": "stderr",
     "output_type": "stream",
     "text": [
      "C:\\Users\\Z003Z4FY.AD001\\AppData\\Local\\Continuum\\anaconda3\\lib\\site-packages\\ipykernel_launcher.py:6: SettingWithCopyWarning:\n",
      "\n",
      "\n",
      "A value is trying to be set on a copy of a slice from a DataFrame\n",
      "\n",
      "See the caveats in the documentation: http://pandas.pydata.org/pandas-docs/stable/indexing.html#indexing-view-versus-copy\n",
      "\n",
      "C:\\Users\\Z003Z4FY.AD001\\AppData\\Local\\Continuum\\anaconda3\\lib\\site-packages\\ipykernel_launcher.py:6: SettingWithCopyWarning:\n",
      "\n",
      "\n",
      "A value is trying to be set on a copy of a slice from a DataFrame\n",
      "\n",
      "See the caveats in the documentation: http://pandas.pydata.org/pandas-docs/stable/indexing.html#indexing-view-versus-copy\n",
      "\n"
     ]
    },
    {
     "data": {
      "text/plain": [
       "(7050, 10)"
      ]
     },
     "execution_count": 82,
     "metadata": {},
     "output_type": "execute_result"
    }
   ],
   "source": [
    "df = cap_data(df)\n",
    "df.shape"
   ]
  },
  {
   "cell_type": "code",
   "execution_count": 83,
   "metadata": {},
   "outputs": [
    {
     "data": {
      "text/plain": [
       "Text(0.5, 1.0, '')"
      ]
     },
     "execution_count": 83,
     "metadata": {},
     "output_type": "execute_result"
    },
    {
     "data": {
      "image/png": "[encoded data removed]",
      "text/plain": [
       "<Figure size 432x288 with 1 Axes>"
      ]
     },
     "metadata": {
      "needs_background": "light"
     },
     "output_type": "display_data"
    }
   ],
   "source": [
    "# Verifying after treatment of outliers\n",
    "df.boxplot(column = 'num_reactions');\n",
    "plt.title('')"
   ]
  },
  {
   "cell_type": "code",
   "execution_count": 84,
   "metadata": {},
   "outputs": [
    {
     "data": {
      "text/plain": [
       "Text(0.5, 1.0, '')"
      ]
     },
     "execution_count": 84,
     "metadata": {},
     "output_type": "execute_result"
    },
    {
     "data": {
      "image/png": "[encoded data removed]",
      "text/plain": [
       "<Figure size 432x288 with 1 Axes>"
      ]
     },
     "metadata": {
      "needs_background": "light"
     },
     "output_type": "display_data"
    }
   ],
   "source": [
    "df.boxplot(column = 'num_comments');\n",
    "plt.title('')"
   ]
  },
  {
   "cell_type": "markdown",
   "metadata": {},
   "source": [
    "# Feature Engineering"
   ]
  },
  {
   "cell_type": "markdown",
   "metadata": {},
   "source": [
    "## Variable Transformation"
   ]
  },
  {
   "cell_type": "code",
   "execution_count": 85,
   "metadata": {},
   "outputs": [
    {
     "data": {
      "image/png": "[encoded data removed]",
      "text/plain": [
       "<Figure size 432x288 with 1 Axes>"
      ]
     },
     "metadata": {
      "needs_background": "light"
     },
     "output_type": "display_data"
    }
   ],
   "source": [
    "df.num_likes.plot.hist(grid=True, bins=20, rwidth=0.9,\n",
    "                   color='#607c8e')\n",
    "plt.title('Num_Likes vs Freq.')\n",
    "plt.xlabel('Num_Likes')\n",
    "plt.ylabel('Frequency')\n",
    "plt.grid(axis='y', alpha=0.75)"
   ]
  },
  {
   "cell_type": "code",
   "execution_count": 86,
   "metadata": {},
   "outputs": [
    {
     "data": {
      "image/png": "[encoded data removed]",
      "text/plain": [
       "<Figure size 432x288 with 1 Axes>"
      ]
     },
     "metadata": {
      "needs_background": "light"
     },
     "output_type": "display_data"
    }
   ],
   "source": [
    "df[\"num_likes\"].apply(np.log).hist()\n",
    "plt.show()"
   ]
  },
  {
   "cell_type": "code",
   "execution_count": 87,
   "metadata": {},
   "outputs": [],
   "source": [
    "# Treat the 0s before applying log to avoid -Inf\n",
    "df[\"num_likes\"] = df[\"num_likes\"] + 1\n",
    "df[\"num_comments\"] = df[\"num_comments\"] + 1\n",
    "df[\"num_shares\"] = df[\"num_shares\"] + 1\n",
    "df[\"num_hahas\"] = df[\"num_hahas\"] + 1\n",
    "df[\"num_loves\"] = df[\"num_loves\"] + 1\n",
    "df[\"num_reactions\"] = df[\"num_reactions\"] + 1\n",
    "df[\"num_angrys\"] = df[\"num_angrys\"] + 1\n",
    "df[\"num_sads\"] = df[\"num_sads\"] + 1\n",
    "df[\"num_wows\"] = df[\"num_wows\"] + 1"
   ]
  },
  {
   "cell_type": "code",
   "execution_count": 88,
   "metadata": {},
   "outputs": [
    {
     "data": {
      "text/html": [
       "<div>\n",
       "<style scoped>\n",
       "    .dataframe tbody tr th:only-of-type {\n",
       "        vertical-align: middle;\n",
       "    }\n",
       "\n",
       "    .dataframe tbody tr th {\n",
       "        vertical-align: top;\n",
       "    }\n",
       "\n",
       "    .dataframe thead th {\n",
       "        text-align: right;\n",
       "    }\n",
       "</style>\n",
       "<table border=\"1\" class=\"dataframe\">\n",
       "  <thead>\n",
       "    <tr style=\"text-align: right;\">\n",
       "      <th></th>\n",
       "      <th>status_type</th>\n",
       "      <th>num_reactions</th>\n",
       "      <th>num_comments</th>\n",
       "      <th>num_shares</th>\n",
       "      <th>num_likes</th>\n",
       "      <th>num_loves</th>\n",
       "      <th>num_wows</th>\n",
       "      <th>num_hahas</th>\n",
       "      <th>num_sads</th>\n",
       "      <th>num_angrys</th>\n",
       "    </tr>\n",
       "  </thead>\n",
       "  <tbody>\n",
       "    <tr>\n",
       "      <th>0</th>\n",
       "      <td>video</td>\n",
       "      <td>6.272877</td>\n",
       "      <td>6.240276</td>\n",
       "      <td>5.564903</td>\n",
       "      <td>6.070738</td>\n",
       "      <td>4.356709</td>\n",
       "      <td>1.386294</td>\n",
       "      <td>0.693147</td>\n",
       "      <td>0.693147</td>\n",
       "      <td>0.0</td>\n",
       "    </tr>\n",
       "    <tr>\n",
       "      <th>1</th>\n",
       "      <td>photo</td>\n",
       "      <td>5.017280</td>\n",
       "      <td>0.000000</td>\n",
       "      <td>0.000000</td>\n",
       "      <td>5.017280</td>\n",
       "      <td>0.000000</td>\n",
       "      <td>0.000000</td>\n",
       "      <td>0.000000</td>\n",
       "      <td>0.000000</td>\n",
       "      <td>0.0</td>\n",
       "    </tr>\n",
       "    <tr>\n",
       "      <th>2</th>\n",
       "      <td>video</td>\n",
       "      <td>5.429346</td>\n",
       "      <td>5.468060</td>\n",
       "      <td>4.060443</td>\n",
       "      <td>5.323010</td>\n",
       "      <td>3.091042</td>\n",
       "      <td>0.693147</td>\n",
       "      <td>0.693147</td>\n",
       "      <td>0.000000</td>\n",
       "      <td>0.0</td>\n",
       "    </tr>\n",
       "    <tr>\n",
       "      <th>3</th>\n",
       "      <td>photo</td>\n",
       "      <td>4.718499</td>\n",
       "      <td>0.000000</td>\n",
       "      <td>0.000000</td>\n",
       "      <td>4.718499</td>\n",
       "      <td>0.000000</td>\n",
       "      <td>0.000000</td>\n",
       "      <td>0.000000</td>\n",
       "      <td>0.000000</td>\n",
       "      <td>0.0</td>\n",
       "    </tr>\n",
       "    <tr>\n",
       "      <th>4</th>\n",
       "      <td>photo</td>\n",
       "      <td>5.365976</td>\n",
       "      <td>0.000000</td>\n",
       "      <td>0.000000</td>\n",
       "      <td>5.323010</td>\n",
       "      <td>2.302585</td>\n",
       "      <td>0.000000</td>\n",
       "      <td>0.000000</td>\n",
       "      <td>0.000000</td>\n",
       "      <td>0.0</td>\n",
       "    </tr>\n",
       "  </tbody>\n",
       "</table>\n",
       "</div>"
      ],
      "text/plain": [
       "  status_type  num_reactions  num_comments  num_shares  num_likes  num_loves  \\\n",
       "0       video       6.272877      6.240276    5.564903   6.070738   4.356709   \n",
       "1       photo       5.017280      0.000000    0.000000   5.017280   0.000000   \n",
       "2       video       5.429346      5.468060    4.060443   5.323010   3.091042   \n",
       "3       photo       4.718499      0.000000    0.000000   4.718499   0.000000   \n",
       "4       photo       5.365976      0.000000    0.000000   5.323010   2.302585   \n",
       "\n",
       "   num_wows  num_hahas  num_sads  num_angrys  \n",
       "0  1.386294   0.693147  0.693147         0.0  \n",
       "1  0.000000   0.000000  0.000000         0.0  \n",
       "2  0.693147   0.693147  0.000000         0.0  \n",
       "3  0.000000   0.000000  0.000000         0.0  \n",
       "4  0.000000   0.000000  0.000000         0.0  "
      ]
     },
     "execution_count": 88,
     "metadata": {},
     "output_type": "execute_result"
    }
   ],
   "source": [
    "df[\"num_likes\"] = df[\"num_likes\"].apply(np.log)\n",
    "df[\"num_comments\"] = df[\"num_comments\"].apply(np.log)\n",
    "df[\"num_shares\"] = df[\"num_shares\"].apply(np.log)\n",
    "df[\"num_hahas\"] = df[\"num_hahas\"].apply(np.log)\n",
    "df[\"num_loves\"] = df[\"num_loves\"].apply(np.log)\n",
    "df[\"num_reactions\"] = df[\"num_reactions\"].apply(np.log)\n",
    "df[\"num_angrys\"] = df[\"num_angrys\"].apply(np.log)\n",
    "df[\"num_sads\"] = df[\"num_sads\"].apply(np.log)\n",
    "df[\"num_wows\"] = df[\"num_wows\"].apply(np.log)\n",
    "df.head()"
   ]
  },
  {
   "cell_type": "code",
   "execution_count": 89,
   "metadata": {},
   "outputs": [],
   "source": [
    "# dropping num_reactions\n",
    "df = df.drop(columns='num_reactions')"
   ]
  },
  {
   "cell_type": "code",
   "execution_count": 90,
   "metadata": {},
   "outputs": [
    {
     "data": {
      "text/html": [
       "<div>\n",
       "<style scoped>\n",
       "    .dataframe tbody tr th:only-of-type {\n",
       "        vertical-align: middle;\n",
       "    }\n",
       "\n",
       "    .dataframe tbody tr th {\n",
       "        vertical-align: top;\n",
       "    }\n",
       "\n",
       "    .dataframe thead th {\n",
       "        text-align: right;\n",
       "    }\n",
       "</style>\n",
       "<table border=\"1\" class=\"dataframe\">\n",
       "  <thead>\n",
       "    <tr style=\"text-align: right;\">\n",
       "      <th></th>\n",
       "      <th>status_type</th>\n",
       "      <th>num_comments</th>\n",
       "      <th>num_shares</th>\n",
       "      <th>num_likes</th>\n",
       "      <th>num_loves</th>\n",
       "      <th>num_wows</th>\n",
       "      <th>num_hahas</th>\n",
       "      <th>num_sads</th>\n",
       "      <th>num_angrys</th>\n",
       "    </tr>\n",
       "  </thead>\n",
       "  <tbody>\n",
       "    <tr>\n",
       "      <th>0</th>\n",
       "      <td>video</td>\n",
       "      <td>6.240276</td>\n",
       "      <td>5.564903</td>\n",
       "      <td>6.070738</td>\n",
       "      <td>4.356709</td>\n",
       "      <td>1.386294</td>\n",
       "      <td>0.693147</td>\n",
       "      <td>0.693147</td>\n",
       "      <td>0.0</td>\n",
       "    </tr>\n",
       "    <tr>\n",
       "      <th>1</th>\n",
       "      <td>photo</td>\n",
       "      <td>0.000000</td>\n",
       "      <td>0.000000</td>\n",
       "      <td>5.017280</td>\n",
       "      <td>0.000000</td>\n",
       "      <td>0.000000</td>\n",
       "      <td>0.000000</td>\n",
       "      <td>0.000000</td>\n",
       "      <td>0.0</td>\n",
       "    </tr>\n",
       "    <tr>\n",
       "      <th>2</th>\n",
       "      <td>video</td>\n",
       "      <td>5.468060</td>\n",
       "      <td>4.060443</td>\n",
       "      <td>5.323010</td>\n",
       "      <td>3.091042</td>\n",
       "      <td>0.693147</td>\n",
       "      <td>0.693147</td>\n",
       "      <td>0.000000</td>\n",
       "      <td>0.0</td>\n",
       "    </tr>\n",
       "    <tr>\n",
       "      <th>3</th>\n",
       "      <td>photo</td>\n",
       "      <td>0.000000</td>\n",
       "      <td>0.000000</td>\n",
       "      <td>4.718499</td>\n",
       "      <td>0.000000</td>\n",
       "      <td>0.000000</td>\n",
       "      <td>0.000000</td>\n",
       "      <td>0.000000</td>\n",
       "      <td>0.0</td>\n",
       "    </tr>\n",
       "    <tr>\n",
       "      <th>4</th>\n",
       "      <td>photo</td>\n",
       "      <td>0.000000</td>\n",
       "      <td>0.000000</td>\n",
       "      <td>5.323010</td>\n",
       "      <td>2.302585</td>\n",
       "      <td>0.000000</td>\n",
       "      <td>0.000000</td>\n",
       "      <td>0.000000</td>\n",
       "      <td>0.0</td>\n",
       "    </tr>\n",
       "  </tbody>\n",
       "</table>\n",
       "</div>"
      ],
      "text/plain": [
       "  status_type  num_comments  num_shares  num_likes  num_loves  num_wows  \\\n",
       "0       video      6.240276    5.564903   6.070738   4.356709  1.386294   \n",
       "1       photo      0.000000    0.000000   5.017280   0.000000  0.000000   \n",
       "2       video      5.468060    4.060443   5.323010   3.091042  0.693147   \n",
       "3       photo      0.000000    0.000000   4.718499   0.000000  0.000000   \n",
       "4       photo      0.000000    0.000000   5.323010   2.302585  0.000000   \n",
       "\n",
       "   num_hahas  num_sads  num_angrys  \n",
       "0   0.693147  0.693147         0.0  \n",
       "1   0.000000  0.000000         0.0  \n",
       "2   0.693147  0.000000         0.0  \n",
       "3   0.000000  0.000000         0.0  \n",
       "4   0.000000  0.000000         0.0  "
      ]
     },
     "execution_count": 90,
     "metadata": {},
     "output_type": "execute_result"
    }
   ],
   "source": [
    "df.head()"
   ]
  },
  {
   "cell_type": "markdown",
   "metadata": {},
   "source": [
    "## Creating Dummy Variables"
   ]
  },
  {
   "cell_type": "markdown",
   "metadata": {},
   "source": [
    "### Label Encoding"
   ]
  },
  {
   "cell_type": "code",
   "execution_count": 91,
   "metadata": {},
   "outputs": [
    {
     "name": "stdout",
     "output_type": "stream",
     "text": [
      "   status_type  num_comments  num_shares  num_likes  num_loves  num_wows  \\\n",
      "0            3      6.240276    5.564903   6.070738   4.356709  1.386294   \n",
      "1            1      0.000000    0.000000   5.017280   0.000000  0.000000   \n",
      "2            3      5.468060    4.060443   5.323010   3.091042  0.693147   \n",
      "3            1      0.000000    0.000000   4.718499   0.000000  0.000000   \n",
      "4            1      0.000000    0.000000   5.323010   2.302585  0.000000   \n",
      "\n",
      "   num_hahas  num_sads  num_angrys  \n",
      "0   0.693147  0.693147         0.0  \n",
      "1   0.000000  0.000000         0.0  \n",
      "2   0.693147  0.000000         0.0  \n",
      "3   0.000000  0.000000         0.0  \n",
      "4   0.000000  0.000000         0.0  \n"
     ]
    }
   ],
   "source": [
    "from sklearn.preprocessing import LabelEncoder, OneHotEncoder\n",
    "labelencoder_df = LabelEncoder()\n",
    "df.iloc[:, 0] = labelencoder_df.fit_transform(df.iloc[:, 0])\n",
    "print(df.head())"
   ]
  },
  {
   "cell_type": "markdown",
   "metadata": {},
   "source": [
    "### One Hot Encoding"
   ]
  },
  {
   "cell_type": "code",
   "execution_count": 92,
   "metadata": {},
   "outputs": [
    {
     "name": "stderr",
     "output_type": "stream",
     "text": [
      "C:\\Users\\Z003Z4FY.AD001\\AppData\\Local\\Continuum\\anaconda3\\lib\\site-packages\\sklearn\\preprocessing\\_encoders.py:415: FutureWarning:\n",
      "\n",
      "The handling of integer data will change in version 0.22. Currently, the categories are determined based on the range [0, max(values)], while in the future they will be determined based on the unique values.\n",
      "If you want the future behaviour and silence this warning, you can specify \"categories='auto'\".\n",
      "In case you used a LabelEncoder before this OneHotEncoder to convert the categories to integers, then you can now use the OneHotEncoder directly.\n",
      "\n",
      "C:\\Users\\Z003Z4FY.AD001\\AppData\\Local\\Continuum\\anaconda3\\lib\\site-packages\\sklearn\\preprocessing\\_encoders.py:451: DeprecationWarning:\n",
      "\n",
      "The 'categorical_features' keyword is deprecated in version 0.20 and will be removed in 0.22. You can use the ColumnTransformer instead.\n",
      "\n"
     ]
    },
    {
     "data": {
      "text/html": [
       "<div>\n",
       "<style scoped>\n",
       "    .dataframe tbody tr th:only-of-type {\n",
       "        vertical-align: middle;\n",
       "    }\n",
       "\n",
       "    .dataframe tbody tr th {\n",
       "        vertical-align: top;\n",
       "    }\n",
       "\n",
       "    .dataframe thead th {\n",
       "        text-align: right;\n",
       "    }\n",
       "</style>\n",
       "<table border=\"1\" class=\"dataframe\">\n",
       "  <thead>\n",
       "    <tr style=\"text-align: right;\">\n",
       "      <th></th>\n",
       "      <th>0</th>\n",
       "      <th>1</th>\n",
       "      <th>2</th>\n",
       "      <th>3</th>\n",
       "      <th>4</th>\n",
       "      <th>5</th>\n",
       "      <th>6</th>\n",
       "      <th>7</th>\n",
       "      <th>8</th>\n",
       "      <th>9</th>\n",
       "      <th>10</th>\n",
       "      <th>11</th>\n",
       "    </tr>\n",
       "  </thead>\n",
       "  <tbody>\n",
       "    <tr>\n",
       "      <th>0</th>\n",
       "      <td>0.0</td>\n",
       "      <td>0.0</td>\n",
       "      <td>0.0</td>\n",
       "      <td>1.0</td>\n",
       "      <td>6.240276</td>\n",
       "      <td>5.564903</td>\n",
       "      <td>6.070738</td>\n",
       "      <td>4.356709</td>\n",
       "      <td>1.386294</td>\n",
       "      <td>0.693147</td>\n",
       "      <td>0.693147</td>\n",
       "      <td>0.0</td>\n",
       "    </tr>\n",
       "    <tr>\n",
       "      <th>1</th>\n",
       "      <td>0.0</td>\n",
       "      <td>1.0</td>\n",
       "      <td>0.0</td>\n",
       "      <td>0.0</td>\n",
       "      <td>0.000000</td>\n",
       "      <td>0.000000</td>\n",
       "      <td>5.017280</td>\n",
       "      <td>0.000000</td>\n",
       "      <td>0.000000</td>\n",
       "      <td>0.000000</td>\n",
       "      <td>0.000000</td>\n",
       "      <td>0.0</td>\n",
       "    </tr>\n",
       "    <tr>\n",
       "      <th>2</th>\n",
       "      <td>0.0</td>\n",
       "      <td>0.0</td>\n",
       "      <td>0.0</td>\n",
       "      <td>1.0</td>\n",
       "      <td>5.468060</td>\n",
       "      <td>4.060443</td>\n",
       "      <td>5.323010</td>\n",
       "      <td>3.091042</td>\n",
       "      <td>0.693147</td>\n",
       "      <td>0.693147</td>\n",
       "      <td>0.000000</td>\n",
       "      <td>0.0</td>\n",
       "    </tr>\n",
       "    <tr>\n",
       "      <th>3</th>\n",
       "      <td>0.0</td>\n",
       "      <td>1.0</td>\n",
       "      <td>0.0</td>\n",
       "      <td>0.0</td>\n",
       "      <td>0.000000</td>\n",
       "      <td>0.000000</td>\n",
       "      <td>4.718499</td>\n",
       "      <td>0.000000</td>\n",
       "      <td>0.000000</td>\n",
       "      <td>0.000000</td>\n",
       "      <td>0.000000</td>\n",
       "      <td>0.0</td>\n",
       "    </tr>\n",
       "    <tr>\n",
       "      <th>4</th>\n",
       "      <td>0.0</td>\n",
       "      <td>1.0</td>\n",
       "      <td>0.0</td>\n",
       "      <td>0.0</td>\n",
       "      <td>0.000000</td>\n",
       "      <td>0.000000</td>\n",
       "      <td>5.323010</td>\n",
       "      <td>2.302585</td>\n",
       "      <td>0.000000</td>\n",
       "      <td>0.000000</td>\n",
       "      <td>0.000000</td>\n",
       "      <td>0.0</td>\n",
       "    </tr>\n",
       "  </tbody>\n",
       "</table>\n",
       "</div>"
      ],
      "text/plain": [
       "    0    1    2    3         4         5         6         7         8   \\\n",
       "0  0.0  0.0  0.0  1.0  6.240276  5.564903  6.070738  4.356709  1.386294   \n",
       "1  0.0  1.0  0.0  0.0  0.000000  0.000000  5.017280  0.000000  0.000000   \n",
       "2  0.0  0.0  0.0  1.0  5.468060  4.060443  5.323010  3.091042  0.693147   \n",
       "3  0.0  1.0  0.0  0.0  0.000000  0.000000  4.718499  0.000000  0.000000   \n",
       "4  0.0  1.0  0.0  0.0  0.000000  0.000000  5.323010  2.302585  0.000000   \n",
       "\n",
       "         9         10   11  \n",
       "0  0.693147  0.693147  0.0  \n",
       "1  0.000000  0.000000  0.0  \n",
       "2  0.693147  0.000000  0.0  \n",
       "3  0.000000  0.000000  0.0  \n",
       "4  0.000000  0.000000  0.0  "
      ]
     },
     "execution_count": 92,
     "metadata": {},
     "output_type": "execute_result"
    }
   ],
   "source": [
    "onehotencoder = OneHotEncoder(categorical_features = [0])\n",
    "df = pd.DataFrame(onehotencoder.fit_transform(df).toarray())\n",
    "df.head()"
   ]
  },
  {
   "cell_type": "code",
   "execution_count": 93,
   "metadata": {},
   "outputs": [],
   "source": [
    "df.to_csv('Live_Preprocessed_No_Scaling.csv', index=False)"
   ]
  },
  {
   "cell_type": "code",
   "execution_count": 39,
   "metadata": {},
   "outputs": [
    {
     "data": {
      "text/plain": [
       "(array([], dtype=int64), array([], dtype=int64))"
      ]
     },
     "execution_count": 39,
     "metadata": {},
     "output_type": "execute_result"
    }
   ],
   "source": [
    "np.where(np.isinf(df))"
   ]
  },
  {
   "cell_type": "code",
   "execution_count": 40,
   "metadata": {},
   "outputs": [
    {
     "data": {
      "text/html": [
       "<div>\n",
       "<style scoped>\n",
       "    .dataframe tbody tr th:only-of-type {\n",
       "        vertical-align: middle;\n",
       "    }\n",
       "\n",
       "    .dataframe tbody tr th {\n",
       "        vertical-align: top;\n",
       "    }\n",
       "\n",
       "    .dataframe thead th {\n",
       "        text-align: right;\n",
       "    }\n",
       "</style>\n",
       "<table border=\"1\" class=\"dataframe\">\n",
       "  <thead>\n",
       "    <tr style=\"text-align: right;\">\n",
       "      <th></th>\n",
       "      <th>0</th>\n",
       "      <th>1</th>\n",
       "      <th>2</th>\n",
       "      <th>3</th>\n",
       "      <th>4</th>\n",
       "      <th>5</th>\n",
       "      <th>6</th>\n",
       "      <th>7</th>\n",
       "      <th>8</th>\n",
       "      <th>9</th>\n",
       "      <th>10</th>\n",
       "      <th>11</th>\n",
       "    </tr>\n",
       "  </thead>\n",
       "  <tbody>\n",
       "    <tr>\n",
       "      <th>0</th>\n",
       "      <td>0.0</td>\n",
       "      <td>0.0</td>\n",
       "      <td>0.0</td>\n",
       "      <td>1.0</td>\n",
       "      <td>6.240276</td>\n",
       "      <td>5.564903</td>\n",
       "      <td>6.070738</td>\n",
       "      <td>4.356709</td>\n",
       "      <td>1.386294</td>\n",
       "      <td>0.693147</td>\n",
       "      <td>0.693147</td>\n",
       "      <td>0.0</td>\n",
       "    </tr>\n",
       "    <tr>\n",
       "      <th>1</th>\n",
       "      <td>0.0</td>\n",
       "      <td>1.0</td>\n",
       "      <td>0.0</td>\n",
       "      <td>0.0</td>\n",
       "      <td>0.000000</td>\n",
       "      <td>0.000000</td>\n",
       "      <td>5.017280</td>\n",
       "      <td>0.000000</td>\n",
       "      <td>0.000000</td>\n",
       "      <td>0.000000</td>\n",
       "      <td>0.000000</td>\n",
       "      <td>0.0</td>\n",
       "    </tr>\n",
       "    <tr>\n",
       "      <th>2</th>\n",
       "      <td>0.0</td>\n",
       "      <td>0.0</td>\n",
       "      <td>0.0</td>\n",
       "      <td>1.0</td>\n",
       "      <td>5.468060</td>\n",
       "      <td>4.060443</td>\n",
       "      <td>5.323010</td>\n",
       "      <td>3.091042</td>\n",
       "      <td>0.693147</td>\n",
       "      <td>0.693147</td>\n",
       "      <td>0.000000</td>\n",
       "      <td>0.0</td>\n",
       "    </tr>\n",
       "    <tr>\n",
       "      <th>3</th>\n",
       "      <td>0.0</td>\n",
       "      <td>1.0</td>\n",
       "      <td>0.0</td>\n",
       "      <td>0.0</td>\n",
       "      <td>0.000000</td>\n",
       "      <td>0.000000</td>\n",
       "      <td>4.718499</td>\n",
       "      <td>0.000000</td>\n",
       "      <td>0.000000</td>\n",
       "      <td>0.000000</td>\n",
       "      <td>0.000000</td>\n",
       "      <td>0.0</td>\n",
       "    </tr>\n",
       "    <tr>\n",
       "      <th>4</th>\n",
       "      <td>0.0</td>\n",
       "      <td>1.0</td>\n",
       "      <td>0.0</td>\n",
       "      <td>0.0</td>\n",
       "      <td>0.000000</td>\n",
       "      <td>0.000000</td>\n",
       "      <td>5.323010</td>\n",
       "      <td>2.302585</td>\n",
       "      <td>0.000000</td>\n",
       "      <td>0.000000</td>\n",
       "      <td>0.000000</td>\n",
       "      <td>0.0</td>\n",
       "    </tr>\n",
       "  </tbody>\n",
       "</table>\n",
       "</div>"
      ],
      "text/plain": [
       "    0    1    2    3         4         5         6         7         8   \\\n",
       "0  0.0  0.0  0.0  1.0  6.240276  5.564903  6.070738  4.356709  1.386294   \n",
       "1  0.0  1.0  0.0  0.0  0.000000  0.000000  5.017280  0.000000  0.000000   \n",
       "2  0.0  0.0  0.0  1.0  5.468060  4.060443  5.323010  3.091042  0.693147   \n",
       "3  0.0  1.0  0.0  0.0  0.000000  0.000000  4.718499  0.000000  0.000000   \n",
       "4  0.0  1.0  0.0  0.0  0.000000  0.000000  5.323010  2.302585  0.000000   \n",
       "\n",
       "         9         10   11  \n",
       "0  0.693147  0.693147  0.0  \n",
       "1  0.000000  0.000000  0.0  \n",
       "2  0.693147  0.000000  0.0  \n",
       "3  0.000000  0.000000  0.0  \n",
       "4  0.000000  0.000000  0.0  "
      ]
     },
     "execution_count": 40,
     "metadata": {},
     "output_type": "execute_result"
    }
   ],
   "source": [
    "df.head()"
   ]
  },
  {
   "cell_type": "markdown",
   "metadata": {},
   "source": [
    "## Feature Scaling"
   ]
  },
  {
   "cell_type": "code",
   "execution_count": 41,
   "metadata": {},
   "outputs": [
    {
     "data": {
      "text/html": [
       "<div>\n",
       "<style scoped>\n",
       "    .dataframe tbody tr th:only-of-type {\n",
       "        vertical-align: middle;\n",
       "    }\n",
       "\n",
       "    .dataframe tbody tr th {\n",
       "        vertical-align: top;\n",
       "    }\n",
       "\n",
       "    .dataframe thead th {\n",
       "        text-align: right;\n",
       "    }\n",
       "</style>\n",
       "<table border=\"1\" class=\"dataframe\">\n",
       "  <thead>\n",
       "    <tr style=\"text-align: right;\">\n",
       "      <th></th>\n",
       "      <th>0</th>\n",
       "      <th>1</th>\n",
       "      <th>2</th>\n",
       "      <th>3</th>\n",
       "      <th>4</th>\n",
       "      <th>5</th>\n",
       "      <th>6</th>\n",
       "      <th>7</th>\n",
       "      <th>8</th>\n",
       "      <th>9</th>\n",
       "      <th>10</th>\n",
       "      <th>11</th>\n",
       "    </tr>\n",
       "  </thead>\n",
       "  <tbody>\n",
       "    <tr>\n",
       "      <th>0</th>\n",
       "      <td>-0.094957</td>\n",
       "      <td>-1.245993</td>\n",
       "      <td>-0.233666</td>\n",
       "      <td>1.421466</td>\n",
       "      <td>1.803657</td>\n",
       "      <td>2.412971</td>\n",
       "      <td>1.260807</td>\n",
       "      <td>2.409736</td>\n",
       "      <td>2.157876</td>\n",
       "      <td>1.123701</td>\n",
       "      <td>3.257990</td>\n",
       "      <td>-0.252646</td>\n",
       "    </tr>\n",
       "    <tr>\n",
       "      <th>1</th>\n",
       "      <td>-0.094957</td>\n",
       "      <td>0.802573</td>\n",
       "      <td>-0.233666</td>\n",
       "      <td>-0.703499</td>\n",
       "      <td>-0.972478</td>\n",
       "      <td>-0.651395</td>\n",
       "      <td>0.598128</td>\n",
       "      <td>-0.649914</td>\n",
       "      <td>-0.532052</td>\n",
       "      <td>-0.411476</td>\n",
       "      <td>-0.306938</td>\n",
       "      <td>-0.252646</td>\n",
       "    </tr>\n",
       "    <tr>\n",
       "      <th>2</th>\n",
       "      <td>-0.094957</td>\n",
       "      <td>-1.245993</td>\n",
       "      <td>-0.233666</td>\n",
       "      <td>1.421466</td>\n",
       "      <td>1.460119</td>\n",
       "      <td>1.584526</td>\n",
       "      <td>0.790448</td>\n",
       "      <td>1.520878</td>\n",
       "      <td>0.812912</td>\n",
       "      <td>1.123701</td>\n",
       "      <td>-0.306938</td>\n",
       "      <td>-0.252646</td>\n",
       "    </tr>\n",
       "    <tr>\n",
       "      <th>3</th>\n",
       "      <td>-0.094957</td>\n",
       "      <td>0.802573</td>\n",
       "      <td>-0.233666</td>\n",
       "      <td>-0.703499</td>\n",
       "      <td>-0.972478</td>\n",
       "      <td>-0.651395</td>\n",
       "      <td>0.410180</td>\n",
       "      <td>-0.649914</td>\n",
       "      <td>-0.532052</td>\n",
       "      <td>-0.411476</td>\n",
       "      <td>-0.306938</td>\n",
       "      <td>-0.252646</td>\n",
       "    </tr>\n",
       "    <tr>\n",
       "      <th>4</th>\n",
       "      <td>-0.094957</td>\n",
       "      <td>0.802573</td>\n",
       "      <td>-0.233666</td>\n",
       "      <td>-0.703499</td>\n",
       "      <td>-0.972478</td>\n",
       "      <td>-0.651395</td>\n",
       "      <td>0.790448</td>\n",
       "      <td>0.967156</td>\n",
       "      <td>-0.532052</td>\n",
       "      <td>-0.411476</td>\n",
       "      <td>-0.306938</td>\n",
       "      <td>-0.252646</td>\n",
       "    </tr>\n",
       "  </tbody>\n",
       "</table>\n",
       "</div>"
      ],
      "text/plain": [
       "         0         1         2         3         4         5         6   \\\n",
       "0 -0.094957 -1.245993 -0.233666  1.421466  1.803657  2.412971  1.260807   \n",
       "1 -0.094957  0.802573 -0.233666 -0.703499 -0.972478 -0.651395  0.598128   \n",
       "2 -0.094957 -1.245993 -0.233666  1.421466  1.460119  1.584526  0.790448   \n",
       "3 -0.094957  0.802573 -0.233666 -0.703499 -0.972478 -0.651395  0.410180   \n",
       "4 -0.094957  0.802573 -0.233666 -0.703499 -0.972478 -0.651395  0.790448   \n",
       "\n",
       "         7         8         9         10        11  \n",
       "0  2.409736  2.157876  1.123701  3.257990 -0.252646  \n",
       "1 -0.649914 -0.532052 -0.411476 -0.306938 -0.252646  \n",
       "2  1.520878  0.812912  1.123701 -0.306938 -0.252646  \n",
       "3 -0.649914 -0.532052 -0.411476 -0.306938 -0.252646  \n",
       "4  0.967156 -0.532052 -0.411476 -0.306938 -0.252646  "
      ]
     },
     "execution_count": 41,
     "metadata": {},
     "output_type": "execute_result"
    }
   ],
   "source": [
    "#normalize the dataset\n",
    "scaler = StandardScaler()\n",
    "df = pd.DataFrame(scaler.fit_transform(df))\n",
    "df.head()"
   ]
  },
  {
   "cell_type": "code",
   "execution_count": 43,
   "metadata": {},
   "outputs": [],
   "source": [
    "df.to_csv('Live_Preprocessed.csv', index=False)"
   ]
  },
  {
   "cell_type": "markdown",
   "metadata": {},
   "source": [
    "# Clustering using K-Medoids"
   ]
  },
  {
   "cell_type": "code",
   "execution_count": 117,
   "metadata": {},
   "outputs": [
    {
     "name": "stdout",
     "output_type": "stream",
     "text": [
      "[[5844, 1, 3, 4, 5, 8, 9, 10, 11, 12, 13, 14, 19, 20, 21, 22, 23, 24, 25, 28, 30, 31, 32, 33, 34, 35, 37, 38, 44, 46, 50, 52, 60, 62, 64, 65, 70, 75, 77, 79, 85, 86, 87, 88, 89, 90, 91, 92, 93, 94, 95, 96, 100, 101, 102, 103, 104, 105, 106, 107, 108, 109, 110, 111, 114, 115, 122, 123, 126, 130, 131, 132, 133, 134, 135, 136, 137, 138, 139, 142, 146, 147, 150, 153, 155, 156, 157, 158, 160, 161, 162, 163, 165, 168, 169, 170, 171, 172, 173, 174, 175, 176, 178, 179, 180, 182, 183, 184, 185, 186, 188, 189, 191, 192, 193, 195, 196, 199, 200, 201, 202, 204, 205, 206, 207, 209, 210, 211, 212, 213, 215, 216, 218, 219, 220, 221, 222, 223, 224, 226, 227, 229, 230, 231, 232, 233, 235, 236, 237, 239, 240, 241, 242, 244, 245, 246, 247, 248, 249, 250, 251, 252, 253, 254, 255, 256, 257, 258, 259, 260, 261, 262, 263, 264, 265, 266, 267, 268, 269, 270, 271, 272, 273, 274, 275, 276, 277, 278, 279, 280, 282, 284, 285, 286, 287, 288, 289, 290, 291, 294, 296, 297, 298, 299, 300, 301, 302, 303, 304, 305, 306, 307, 308, 309, 310, 311, 312, 313, 314, 315, 316, 317, 318, 319, 320, 321, 322, 323, 325, 326, 327, 328, 329, 330, 331, 333, 334, 335, 336, 338, 339, 340, 341, 342, 344, 345, 346, 347, 348, 350, 351, 352, 353, 354, 357, 358, 359, 360, 362, 363, 364, 365, 366, 367, 368, 369, 370, 371, 372, 374, 375, 377, 378, 379, 380, 381, 382, 383, 385, 386, 387, 388, 389, 392, 393, 394, 398, 399, 401, 402, 403, 404, 405, 406, 407, 408, 409, 411, 414, 415, 416, 417, 418, 419, 420, 422, 423, 424, 428, 429, 430, 431, 432, 433, 434, 435, 436, 437, 438, 439, 440, 443, 444, 446, 447, 448, 449, 451, 453, 454, 455, 456, 457, 459, 460, 461, 463, 464, 465, 466, 468, 469, 470, 471, 474, 476, 477, 478, 479, 481, 483, 485, 487, 488, 489, 490, 492, 493, 494, 495, 496, 497, 499, 500, 501, 502, 503, 504, 505, 506, 507, 508, 510, 511, 512, 513, 515, 516, 517, 518, 519, 520, 521, 522, 523, 524, 525, 526, 527, 528, 529, 530, 531, 532, 533, 534, 535, 536, 537, 538, 539, 540, 541, 542, 543, 544, 545, 546, 547, 548, 549, 550, 551, 552, 553, 554, 555, 556, 557, 558, 559, 560, 561, 563, 564, 565, 566, 567, 568, 569, 570, 571, 572, 573, 574, 575, 576, 577, 578, 579, 580, 581, 584, 585, 586, 587, 588, 590, 592, 593, 594, 595, 597, 598, 599, 600, 601, 602, 603, 604, 606, 607, 608, 609, 611, 612, 613, 614, 615, 616, 617, 619, 620, 622, 624, 625, 626, 628, 633, 635, 636, 637, 639, 640, 641, 642, 643, 644, 645, 646, 648, 649, 650, 651, 653, 654, 656, 657, 658, 659, 660, 661, 662, 663, 664, 665, 666, 667, 669, 670, 671, 673, 674, 675, 676, 677, 678, 680, 681, 682, 683, 684, 685, 686, 687, 688, 689, 690, 691, 693, 694, 696, 697, 698, 699, 700, 701, 703, 704, 705, 706, 708, 709, 710, 711, 712, 713, 715, 716, 717, 718, 719, 720, 721, 722, 723, 724, 727, 728, 729, 730, 731, 732, 733, 734, 735, 736, 737, 738, 739, 740, 741, 742, 743, 744, 745, 747, 748, 749, 750, 751, 752, 754, 755, 756, 757, 758, 759, 760, 761, 762, 763, 764, 765, 766, 767, 768, 769, 770, 771, 772, 773, 774, 775, 777, 778, 779, 780, 781, 782, 783, 784, 785, 786, 787, 788, 789, 790, 791, 793, 794, 795, 796, 797, 798, 799, 800, 801, 802, 803, 804, 806, 808, 809, 810, 811, 812, 813, 815, 816, 818, 819, 820, 821, 823, 824, 827, 828, 829, 830, 832, 833, 834, 835, 836, 837, 838, 841, 842, 843, 844, 845, 846, 847, 848, 849, 851, 853, 854, 855, 856, 857, 858, 859, 860, 863, 864, 865, 866, 869, 870, 871, 872, 873, 874, 875, 876, 877, 878, 879, 880, 881, 882, 883, 884, 885, 886, 887, 888, 889, 890, 891, 892, 893, 894, 895, 896, 897, 898, 899, 900, 901, 902, 903, 904, 905, 906, 907, 908, 911, 912, 913, 914, 915, 916, 917, 918, 919, 920, 921, 922, 923, 924, 925, 926, 927, 928, 929, 930, 931, 932, 933, 934, 935, 936, 937, 938, 939, 940, 941, 942, 943, 944, 945, 946, 947, 948, 949, 950, 951, 952, 953, 954, 955, 956, 957, 958, 959, 960, 961, 962, 963, 964, 965, 966, 967, 968, 969, 970, 971, 972, 973, 974, 975, 976, 977, 978, 979, 980, 981, 982, 983, 984, 985, 986, 987, 988, 989, 990, 991, 992, 993, 994, 995, 996, 997, 998, 999, 1000, 1001, 1002, 1003, 1004, 1005, 1006, 1007, 1008, 1009, 1010, 1011, 1012, 1013, 1014, 1015, 1016, 1017, 1018, 1019, 1020, 1021, 1022, 1023, 1024, 1025, 1026, 1027, 1028, 1029, 1030, 1031, 1032, 1033, 1034, 1035, 1036, 1037, 1038, 1039, 1040, 1041, 1042, 1043, 1044, 1045, 1046, 1047, 1048, 1049, 1050, 1051, 1052, 1053, 1054, 1055, 1056, 1057, 1058, 1059, 1060, 1061, 1062, 1063, 1064, 1065, 1066, 1067, 1068, 1069, 1070, 1071, 1073, 1074, 1076, 1078, 1079, 1080, 1082, 1083, 1084, 1085, 1086, 1087, 1089, 1090, 1091, 1093, 1094, 1095, 1098, 1099, 1102, 1104, 1105, 1106, 1107, 1108, 1109, 1110, 1111, 1112, 1113, 1114, 1115, 1116, 1117, 1118, 1119, 1121, 1122, 1123, 1124, 1125, 1126, 1127, 1128, 1129, 1130, 1131, 1132, 1133, 1134, 1135, 1136, 1137, 1138, 1139, 1140, 1141, 1142, 1143, 1144, 1145, 1146, 1147, 1148, 1149, 1150, 1151, 1152, 1153, 1154, 1155, 1157, 1158, 1159, 1160, 1161, 1163, 1164, 1165, 1166, 1168, 1169, 1170, 1171, 1172, 1173, 1175, 1176, 1177, 1178, 1180, 1181, 1182, 1183, 1184, 1185, 1186, 1187, 1188, 1189, 1190, 1192, 1193, 1194, 1195, 1196, 1197, 1198, 1199, 1200, 1201, 1202, 1203, 1205, 1206, 1209, 1210, 1211, 1212, 1214, 1215, 1216, 1217, 1219, 1220, 1221, 1222, 1223, 1224, 1225, 1226, 1227, 1228, 1229, 1230, 1231, 1232, 1233, 1234, 1235, 1236, 1237, 1238, 1239, 1240, 1241, 1242, 1243, 1244, 1245, 1246, 1247, 1248, 1249, 1250, 1251, 1252, 1253, 1255, 1256, 1257, 1258, 1259, 1260, 1261, 1262, 1263, 1264, 1265, 1266, 1267, 1268, 1269, 1270, 1271, 1272, 1273, 1274, 1275, 1276, 1277, 1278, 1279, 1280, 1282, 1283, 1284, 1286, 1287, 1288, 1289, 1290, 1291, 1292, 1293, 1294, 1295, 1296, 1297, 1300, 1301, 1302, 1303, 1304, 1305, 1306, 1307, 1308, 1309, 1310, 1311, 1314, 1315, 1317, 1321, 1322, 1323, 1324, 1325, 1326, 1327, 1328, 1331, 1332, 1333, 1337, 1338, 1340, 1342, 1343, 1345, 1346, 1349, 1351, 1352, 1353, 1354, 1355, 1356, 1357, 1358, 1359, 1360, 1363, 1364, 1365, 1367, 1368, 1369, 1370, 1371, 1372, 1373, 1374, 1375, 1376, 1377, 1378, 1379, 1380, 1381, 1383, 1385, 1386, 1387, 1388, 1389, 1390, 1391, 1393, 1394, 1395, 1396, 1397, 1398, 1400, 1401, 1402, 1403, 1408, 1409, 1411, 1412, 1414, 1415, 1416, 1421, 1422, 1423, 1425, 1428, 1432, 1433, 1434, 1435, 1436, 1437, 1438, 1439, 1440, 1441, 1442, 1443, 1445, 1446, 1447, 1448, 1449, 1450, 1451, 1452, 1453, 1454, 1455, 1456, 1457, 1458, 1459, 1460, 1461, 1462, 1463, 1464, 1465, 1466, 1467, 1468, 1469, 1470, 1471, 1472, 1473, 1474, 1475, 1478, 1479, 1480, 1481, 1482, 1483, 1484, 1486, 1487, 1488, 1489, 1491, 1492, 1493, 1494, 1495, 1497, 1498, 1502, 1503, 1504, 1505, 1506, 1507, 1508, 1509, 1510, 1511, 1512, 1513, 1514, 1515, 1517, 1518, 1519, 1520, 1521, 1522, 1523, 1524, 1525, 1526, 1527, 1528, 1529, 1530, 1531, 1532, 1533, 1534, 1535, 1537, 1538, 1539, 1540, 1541, 1542, 1543, 1544, 1545, 1546, 1547, 1548, 1549, 1550, 1551, 1552, 1553, 1554, 1555, 1556, 1557, 1558, 1559, 1560, 1561, 1562, 1563, 1564, 1565, 1566, 1567, 1568, 1569, 1570, 1571, 1572, 1573, 1574, 1575, 1576, 1577, 1578, 1579, 1580, 1581, 1582, 1583, 1584, 1585, 1586, 1587, 1588, 1589, 1590, 1591, 1592, 1593, 1594, 1595, 1596, 1597, 1598, 1599, 1600, 1601, 1602, 1603, 1604, 1605, 1606, 1607, 1609, 1610, 1611, 1612, 1613, 1615, 1616, 1617, 1618, 1619, 1620, 1621, 1622, 1623, 1624, 1625, 1626, 1627, 1628, 1629, 1630, 1631, 1632, 1634, 1635, 1636, 1637, 1641, 1643, 1644, 1646, 1647, 1648, 1651, 1652, 1653, 1654, 1655, 1656, 1657, 1658, 1659, 1660, 1661, 1662, 1663, 1664, 1665, 1666, 1667, 1668, 1669, 1670, 1671, 1672, 1673, 1674, 1675, 1676, 1677, 1678, 1679, 1680, 1681, 1682, 1683, 1684, 1685, 1688, 1689, 1690, 1691, 1692, 1693, 1694, 1695, 1696, 1697, 1698, 1699, 1700, 1701, 1702, 1704, 1705, 1706, 1707, 1708, 1709, 1710, 1711, 1712, 1713, 1714, 1715, 1716, 1717, 1718, 1719, 1720, 1721, 1722, 1723, 1724, 1725, 1726, 1727, 1728, 1729, 1730, 1731, 1732, 1733, 1734, 1735, 1736, 1737, 1738, 1739, 1740, 1741, 1742, 1743, 1744, 1745, 1746, 1747, 1748, 1749, 1750, 1751, 1752, 1753, 1754, 1755, 1756, 1757, 1758, 1759, 1760, 1761, 1762, 1763, 1764, 1765, 1766, 1767, 1768, 1769, 1770, 1771, 1772, 1773, 1774, 1775, 1776, 1777, 1778, 1779, 1780, 1781, 1782, 1783, 1784, 1785, 1786, 1787, 1788, 1789, 1790, 1791, 1792, 1793, 1794, 1795, 1796, 1797, 1798, 1799, 1800, 1801, 1802, 1803, 1804, 1805, 1806, 1807, 1808, 1809, 1810, 1811, 1812, 1813, 1814, 1815, 1816, 1817, 1818, 1819, 1820, 1821, 1822, 1823, 1824, 1825, 1826, 1827, 1828, 1829, 1830, 1831, 1832, 1833, 1834, 1835, 1836, 1837, 1838, 1839, 1840, 1841, 1842, 1843, 1844, 1845, 1846, 1847, 1848, 1849, 1850, 1851, 1852, 1853, 1854, 1855, 1856, 1857, 1858, 1859, 1860, 1861, 1862, 1863, 1864, 1865, 1866, 1867, 1868, 1869, 1870, 1871, 1872, 1873, 1874, 1875, 1876, 1877, 1878, 1879, 1880, 1881, 1882, 1883, 1884, 1885, 1886, 1887, 1888, 1889, 1890, 1891, 1892, 1893, 1894, 1895, 1896, 1897, 1898, 1899, 1900, 1901, 1902, 1903, 1904, 1905, 1906, 1907, 1908, 1909, 1910, 1911, 1912, 1913, 1914, 1915, 1916, 1917, 1918, 1919, 1920, 1921, 1922, 1923, 1924, 1925, 1926, 1927, 1928, 1929, 1930, 1931, 1932, 1933, 1934, 1935, 1936, 1937, 1938, 1939, 1940, 1941, 1942, 1943, 1944, 1945, 1946, 1947, 1948, 1949, 1950, 1951, 1952, 1953, 1954, 1955, 1956, 1957, 1958, 1959, 1960, 1961, 1962, 1963, 1964, 1965, 1966, 1967, 1968, 1969, 1970, 1971, 1972, 1973, 1974, 1975, 1976, 1977, 1978, 1979, 1980, 1981, 1982, 1983, 1984, 1985, 1986, 1987, 1988, 1989, 1990, 1991, 1992, 1993, 1994, 1995, 1996, 1997, 1998, 1999, 2000, 2001, 2002, 2003, 2004, 2005, 2006, 2007, 2008, 2009, 2010, 2011, 2012, 2013, 2014, 2015, 2016, 2017, 2018, 2019, 2020, 2021, 2022, 2023, 2024, 2025, 2026, 2027, 2028, 2029, 2030, 2031, 2032, 2033, 2034, 2035, 2036, 2037, 2038, 2039, 2040, 2041, 2042, 2043, 2044, 2045, 2046, 2047, 2048, 2049, 2050, 2051, 2052, 2053, 2054, 2055, 2056, 2057, 2058, 2059, 2060, 2061, 2062, 2063, 2064, 2065, 2066, 2067, 2068, 2069, 2070, 2071, 2072, 2073, 2074, 2075, 2076, 2077, 2078, 2079, 2080, 2081, 2082, 2083, 2084, 2085, 2086, 2087, 2088, 2089, 2090, 2091, 2092, 2093, 2094, 2095, 2096, 2097, 2098, 2099, 2100, 2101, 2102, 2103, 2104, 2105, 2106, 2107, 2108, 2109, 2110, 2111, 2112, 2113, 2114, 2115, 2116, 2117, 2118, 2119, 2120, 2121, 2122, 2123, 2124, 2125, 2126, 2127, 2128, 2129, 2130, 2131, 2132, 2133, 2134, 2135, 2136, 2137, 2138, 2139, 2140, 2141, 2142, 2143, 2144, 2145, 2146, 2147, 2148, 2149, 2150, 2151, 2152, 2153, 2154, 2155, 2156, 2157, 2158, 2159, 2160, 2161, 2162, 2163, 2164, 2165, 2166, 2167, 2168, 2169, 2170, 2171, 2172, 2173, 2174, 2175, 2176, 2177, 2178, 2179, 2180, 2181, 2182, 2183, 2184, 2185, 2186, 2187, 2188, 2189, 2190, 2191, 2192, 2193, 2194, 2195, 2196, 2197, 2198, 2199, 2200, 2201, 2202, 2203, 2204, 2205, 2206, 2207, 2208, 2209, 2210, 2211, 2212, 2213, 2214, 2215, 2216, 2217, 2218, 2219, 2220, 2221, 2222, 2223, 2224, 2225, 2226, 2227, 2228, 2229, 2230, 2231, 2232, 2233, 2234, 2235, 2236, 2237, 2238, 2239, 2240, 2241, 2242, 2243, 2244, 2245, 2246, 2247, 2248, 2249, 2250, 2251, 2252, 2253, 2254, 2255, 2256, 2257, 2258, 2259, 2260, 2261, 2262, 2263, 2264, 2265, 2266, 2267, 2268, 2269, 2270, 2271, 2272, 2273, 2274, 2275, 2276, 2277, 2278, 2279, 2280, 2281, 2282, 2283, 2284, 2285, 2286, 2287, 2288, 2289, 2290, 2291, 2292, 2293, 2294, 2295, 2296, 2297, 2298, 2299, 2300, 2301, 2302, 2303, 2304, 2305, 2306, 2307, 2308, 2309, 2310, 2311, 2312, 2313, 2314, 2315, 2316, 2317, 2318, 2319, 2320, 2321, 2322, 2323, 2324, 2325, 2326, 2327, 2328, 2329, 2330, 2331, 2332, 2333, 2334, 2335, 2336, 2337, 2338, 2339, 2340, 2341, 2342, 2343, 2344, 2345, 2346, 2347, 2348, 2349, 2350, 2351, 2352, 2353, 2354, 2355, 2356, 2357, 2358, 2359, 2360, 2361, 2362, 2363, 2364, 2365, 2366, 2367, 2368, 2369, 2370, 2371, 2372, 2373, 2374, 2375, 2376, 2377, 2378, 2379, 2380, 2381, 2382, 2383, 2384, 2385, 2386, 2387, 2388, 2389, 2390, 2391, 2392, 2393, 2394, 2395, 2396, 2397, 2398, 2399, 2400, 2401, 2402, 2403, 2404, 2405, 2406, 2407, 2408, 2409, 2410, 2411, 2412, 2413, 2414, 2415, 2416, 2417, 2418, 2419, 2420, 2421, 2422, 2423, 2424, 2425, 2426, 2427, 2428, 2429, 2430, 2431, 2432, 2433, 2434, 2435, 2436, 2437, 2438, 2439, 2440, 2441, 2442, 2443, 2444, 2445, 2446, 2447, 2448, 2449, 2450, 2451, 2452, 2453, 2454, 2455, 2456, 2457, 2458, 2459, 2460, 2461, 2462, 2463, 2464, 2465, 2466, 2467, 2468, 2469, 2470, 2471, 2472, 2473, 2474, 2475, 2476, 2477, 2478, 2479, 2480, 2481, 2482, 2483, 2484, 2485, 2486, 2487, 2488, 2489, 2490, 2491, 2492, 2493, 2494, 2495, 2496, 2497, 2498, 2499, 2500, 2501, 2502, 2503, 2504, 2505, 2506, 2507, 2508, 2509, 2510, 2511, 2512, 2513, 2514, 2515, 2516, 2517, 2518, 2519, 2520, 2521, 2522, 2523, 2524, 2525, 2526, 2527, 2528, 2529, 2530, 2531, 2532, 2533, 2534, 2535, 2536, 2537, 2538, 2539, 2540, 2541, 2542, 2543, 2544, 2545, 2546, 2547, 2548, 2549, 2550, 2551, 2552, 2553, 2554, 2555, 2556, 2557, 2558, 2559, 2560, 2561, 2562, 2563, 2564, 2565, 2566, 2567, 2568, 2569, 2570, 2571, 2572, 2573, 2574, 2575, 2576, 2577, 2578, 2579, 2580, 2581, 2582, 2583, 2584, 2585, 2586, 2587, 2588, 2589, 2590, 2591, 2592, 2593, 2594, 2595, 2596, 2597, 2598, 2599, 2600, 2601, 2602, 2603, 2604, 2605, 2606, 2607, 2608, 2609, 2610, 2611, 2612, 2613, 2614, 2615, 2616, 2617, 2618, 2619, 2620, 2621, 2622, 2623, 2624, 2625, 2626, 2627, 2628, 2629, 2630, 2631, 2632, 2633, 2634, 2635, 2636, 2638, 2639, 2640, 2641, 2642, 2644, 2645, 2646, 2647, 2648, 2649, 2650, 2651, 2652, 2654, 2655, 2656, 2657, 2658, 2661, 2662, 2663, 2664, 2665, 2666, 2667, 2668, 2670, 2671, 2672, 2673, 2674, 2675, 2677, 2678, 2679, 2680, 2681, 2682, 2683, 2684, 2685, 2686, 2687, 2688, 2689, 2690, 2691, 2692, 2693, 2694, 2695, 2696, 2697, 2698, 2699, 2700, 2701, 2702, 2703, 2704, 2705, 2706, 2707, 2708, 2709, 2710, 2711, 2712, 2713, 2714, 2715, 2718, 2719, 2720, 2721, 2722, 2724, 2725, 2726, 2727, 2728, 2729, 2731, 2732, 2733, 2734, 2735, 2736, 2737, 2738, 2739, 2740, 2741, 2742, 2743, 2745, 2747, 2748, 2749, 2750, 2751, 2752, 2753, 2754, 2755, 2756, 2757, 2758, 2759, 2760, 2762, 2763, 2764, 2765, 2766, 2767, 2768, 2769, 2770, 2771, 2772, 2773, 2774, 2775, 2776, 2777, 2778, 2779, 2780, 2781, 2783, 2784, 2785, 2786, 2787, 2788, 2789, 2790, 2791, 2792, 2793, 2794, 2795, 2797, 2798, 2799, 2801, 2802, 2803, 2804, 2805, 2806, 2807, 2808, 2809, 2810, 2811, 2812, 2813, 2814, 2815, 2816, 2817, 2818, 2819, 2820, 2821, 2822, 2823, 2824, 2826, 2828, 2829, 2830, 2831, 2832, 2833, 2834, 2836, 2837, 2838, 2839, 2840, 2841, 2842, 2843, 2845, 2846, 2847, 2848, 2849, 2850, 2851, 2852, 2853, 2854, 2855, 2856, 2857, 2858, 2860, 2861, 2863, 2864, 2865, 2866, 2867, 2868, 2869, 2870, 2871, 2872, 2873, 2874, 2875, 2877, 2878, 2879, 2880, 2881, 2882, 2883, 2884, 2885, 2886, 2887, 2888, 2889, 2890, 2891, 2893, 2894, 2895, 2896, 2897, 2898, 2899, 2900, 2902, 2903, 2905, 2907, 2908, 2909, 2910, 2911, 2913, 2914, 2915, 2916, 2917, 2918, 2920, 2921, 2922, 2924, 2925, 2926, 2927, 2928, 2929, 2930, 2931, 2933, 2934, 2935, 2936, 2937, 2938, 2939, 2940, 2941, 2942, 2943, 2944, 2945, 2946, 2947, 2948, 2949, 2950, 2951, 2952, 2953, 2954, 2955, 2956, 2957, 2958, 2959, 2961, 2962, 2963, 2964, 2965, 2967, 2968, 2969, 2970, 2971, 2972, 2973, 2974, 2976, 2977, 2978, 2979, 2980, 2981, 2983, 2984, 2985, 2986, 2988, 2989, 2990, 2991, 2992, 2994, 2995, 2996, 2997, 2998, 2999, 3002, 3003, 3004, 3005, 3006, 3007, 3008, 3009, 3010, 3011, 3012, 3013, 3014, 3015, 3017, 3018, 3019, 3020, 3021, 3022, 3023, 3024, 3025, 3026, 3027, 3028, 3029, 3030, 3031, 3032, 3033, 3035, 3036, 3037, 3039, 3040, 3041, 3042, 3043, 3045, 3046, 3049, 3050, 3051, 3052, 3053, 3054, 3055, 3056, 3057, 3058, 3059, 3060, 3061, 3062, 3063, 3064, 3065, 3066, 3067, 3068, 3069, 3070, 3071, 3072, 3073, 3074, 3075, 3076, 3077, 3079, 3080, 3081, 3083, 3085, 3086, 3087, 3088, 3091, 3092, 3094, 3095, 3096, 3097, 3098, 3099, 3101, 3102, 3103, 3104, 3105, 3107, 3108, 3109, 3111, 3112, 3113, 3114, 3115, 3117, 3119, 3120, 3121, 3122, 3123, 3124, 3125, 3126, 3127, 3128, 3129, 3130, 3131, 3132, 3133, 3134, 3135, 3136, 3137, 3138, 3139, 3140, 3141, 3142, 3143, 3144, 3145, 3146, 3147, 3148, 3149, 3150, 3151, 3153, 3155, 3156, 3157, 3158, 3159, 3160, 3161, 3162, 3163, 3165, 3170, 3171, 3172, 3173, 3174, 3177, 3178, 3180, 3181, 3182, 3183, 3184, 3185, 3186, 3187, 3189, 3190, 3191, 3192, 3193, 3194, 3196, 3197, 3199, 3200, 3201, 3202, 3204, 3205, 3207, 3208, 3209, 3211, 3212, 3213, 3215, 3216, 3217, 3219, 3221, 3222, 3223, 3224, 3225, 3227, 3229, 3230, 3231, 3233, 3234, 3236, 3237, 3238, 3239, 3240, 3242, 3243, 3245, 3247, 3248, 3249, 3251, 3252, 3254, 3255, 3257, 3258, 3259, 3261, 3262, 3263, 3265, 3266, 3267, 3268, 3269, 3270, 3271, 3272, 3273, 3274, 3275, 3276, 3277, 3278, 3279, 3280, 3281, 3282, 3283, 3284, 3285, 3286, 3287, 3288, 3289, 3290, 3292, 3294, 3296, 3298, 3299, 3301, 3302, 3303, 3305, 3306, 3307, 3308, 3309, 3310, 3311, 3312, 3313, 3314, 3315, 3316, 3317, 3318, 3319, 3320, 3321, 3322, 3324, 3325, 3327, 3328, 3329, 3330, 3332, 3333, 3335, 3336, 3337, 3339, 3340, 3341, 3342, 3343, 3344, 3345, 3346, 3347, 3349, 3352, 3353, 3354, 3357, 3359, 3360, 3361, 3362, 3363, 3364, 3365, 3366, 3367, 3368, 3369, 3370, 3371, 3372, 3373, 3374, 3375, 3376, 3377, 3378, 3379, 3380, 3381, 3383, 3384, 3386, 3387, 3388, 3390, 3393, 3394, 3395, 3396, 3397, 3398, 3400, 3401, 3403, 3404, 3405, 3406, 3408, 3410, 3411, 3412, 3413, 3414, 3415, 3416, 3417, 3418, 3419, 3420, 3421, 3422, 3423, 3424, 3425, 3427, 3429, 3430, 3431, 3432, 3434, 3435, 3436, 3438, 3439, 3440, 3441, 3443, 3444, 3446, 3447, 3448, 3449, 3450, 3451, 3453, 3454, 3455, 3456, 3457, 3458, 3459, 3460, 3461, 3464, 3465, 3466, 3467, 3468, 3469, 3471, 3472, 3473, 3475, 3476, 3477, 3478, 3479, 3480, 3481, 3482, 3483, 3484, 3486, 3487, 3489, 3490, 3491, 3492, 3493, 3494, 3495, 3496, 3497, 3499, 3500, 3502, 3504, 3505, 3506, 3507, 3508, 3509, 3510, 3511, 3514, 3515, 3516, 3517, 3519, 3521, 3523, 3525, 3526, 3527, 3528, 3531, 3534, 3536, 3537, 3540, 3541, 3542, 3544, 3545, 3546, 3547, 3548, 3549, 3552, 3554, 3556, 3557, 3559, 3560, 3562, 3563, 3564, 3565, 3569, 3570, 3571, 3572, 3573, 3574, 3575, 3576, 3577, 3579, 3580, 3581, 3582, 3583, 3584, 3585, 3586, 3587, 3590, 3591, 3592, 3593, 3594, 3596, 3597, 3599, 3600, 3601, 3603, 3604, 3605, 3607, 3609, 3610, 3611, 3612, 3616, 3617, 3618, 3619, 3620, 3621, 3622, 3623, 3625, 3626, 3628, 3629, 3631, 3632, 3633, 3634, 3637, 3639, 3640, 3641, 3642, 3646, 3647, 3648, 3651, 3653, 3655, 3657, 3658, 3659, 3660, 3662, 3663, 3664, 3665, 3666, 3668, 3670, 3671, 3672, 3673, 3675, 3676, 3677, 3678, 3679, 3680, 3681, 3682, 3683, 3684, 3685, 3687, 3688, 3689, 3690, 3691, 3692, 3693, 3695, 3696, 3698, 3699, 3700, 3701, 3702, 3703, 3705, 3706, 3707, 3709, 3710, 3711, 3712, 3713, 3714, 3716, 3717, 3718, 3719, 3720, 3721, 3722, 3723, 3724, 3725, 3726, 3727, 3728, 3729, 3730, 3731, 3732, 3733, 3734, 3735, 3736, 3737, 3738, 3739, 3740, 3741, 3742, 3743, 3744, 3745, 3746, 3748, 3749, 3750, 3751, 3752, 3753, 3754, 3755, 3756, 3757, 3758, 3759, 3760, 3761, 3762, 3763, 3764, 3765, 3766, 3767, 3768, 3769, 3770, 3771, 3772, 3773, 3774, 3775, 3776, 3777, 3778, 3779, 3780, 3781, 3782, 3783, 3784, 3785, 3786, 3787, 3788, 3789, 3790, 3791, 3792, 3793, 3794, 3795, 3796, 3797, 3798, 3799, 3800, 3801, 3802, 3803, 3804, 3805, 3806, 3807, 3808, 3809, 3810, 3811, 3812, 3813, 3814, 3815, 3816, 3817, 3818, 3819, 3820, 3821, 3822, 3823, 3824, 3825, 3826, 3827, 3828, 3829, 3830, 3831, 3832, 3833, 3834, 3835, 3836, 3837, 3838, 3839, 3840, 3841, 3842, 3843, 3844, 3845, 3846, 3849, 3852, 3861, 3869, 3877, 3879, 3883, 3888, 3889, 3893, 3899, 3901, 3902, 3903, 3908, 3910, 3911, 3912, 3913, 3914, 3915, 3916, 3917, 3918, 3919, 3920, 3921, 3922, 3924, 3925, 3926, 3927, 3928, 3929, 3930, 3931, 3932, 3933, 3935, 3936, 3937, 3938, 3939, 3940, 3941, 3943, 3944, 3945, 3946, 3947, 3948, 3949, 3950, 3951, 3952, 3953, 3954, 3955, 3956, 3957, 3958, 3959, 3960, 3961, 3962, 3963, 3964, 3965, 3966, 3967, 3968, 3969, 3970, 3971, 3974, 3975, 3976, 3979, 3980, 3982, 3983, 3986, 3991, 3995, 3997, 4002, 4003, 4007, 4009, 4012, 4014, 4017, 4018, 4019, 4021, 4022, 4023, 4024, 4025, 4026, 4027, 4028, 4029, 4030, 4031, 4032, 4033, 4034, 4035, 4036, 4037, 4038, 4039, 4040, 4041, 4042, 4043, 4044, 4045, 4046, 4047, 4048, 4049, 4050, 4051, 4052, 4053, 4054, 4055, 4056, 4057, 4058, 4059, 4060, 4061, 4062, 4063, 4064, 4065, 4066, 4067, 4068, 4069, 4070, 4071, 4072, 4073, 4074, 4075, 4076, 4077, 4078, 4079, 4080, 4081, 4082, 4083, 4084, 4085, 4086, 4087, 4088, 4089, 4090, 4091, 4092, 4093, 4094, 4095, 4096, 4097, 4098, 4099, 4100, 4101, 4102, 4103, 4104, 4105, 4106, 4107, 4108, 4109, 4110, 4111, 4112, 4113, 4114, 4115, 4116, 4117, 4118, 4119, 4120, 4121, 4122, 4123, 4124, 4125, 4126, 4127, 4128, 4129, 4130, 4131, 4132, 4133, 4134, 4135, 4136, 4137, 4138, 4139, 4140, 4141, 4142, 4143, 4144, 4145, 4146, 4147, 4148, 4149, 4150, 4151, 4153, 4155, 4156, 4157, 4158, 4159, 4160, 4161, 4162, 4163, 4164, 4165, 4166, 4167, 4168, 4169, 4170, 4171, 4172, 4173, 4174, 4175, 4176, 4177, 4178, 4179, 4180, 4181, 4182, 4183, 4184, 4185, 4186, 4187, 4188, 4189, 4190, 4191, 4192, 4193, 4194, 4195, 4196, 4197, 4198, 4199, 4200, 4201, 4202, 4203, 4204, 4205, 4206, 4207, 4208, 4209, 4210, 4211, 4212, 4213, 4214, 4215, 4216, 4217, 4218, 4219, 4220, 4221, 4222, 4223, 4224, 4225, 4226, 4227, 4228, 4229, 4230, 4231, 4232, 4233, 4234, 4235, 4236, 4237, 4238, 4239, 4240, 4241, 4242, 4243, 4244, 4245, 4246, 4247, 4248, 4249, 4250, 4251, 4252, 4253, 4254, 4255, 4256, 4257, 4258, 4259, 4261, 4262, 4263, 4264, 4265, 4266, 4267, 4268, 4269, 4270, 4271, 4272, 4273, 4274, 4275, 4276, 4277, 4278, 4281, 4282, 4283, 4285, 4287, 4288, 4289, 4290, 4291, 4292, 4293, 4294, 4296, 4297, 4299, 4300, 4302, 4303, 4305, 4306, 4307, 4309, 4310, 4311, 4313, 4314, 4316, 4317, 4318, 4319, 4320, 4321, 4323, 4324, 4325, 4327, 4329, 4331, 4332, 4333, 4334, 4335, 4336, 4337, 4339, 4340, 4341, 4342, 4343, 4344, 4345, 4346, 4347, 4348, 4349, 4350, 4351, 4352, 4353, 4354, 4355, 4356, 4357, 4358, 4359, 4360, 4361, 4362, 4363, 4364, 4365, 4366, 4367, 4368, 4369, 4370, 4371, 4372, 4373, 4374, 4375, 4376, 4377, 4378, 4379, 4380, 4381, 4382, 4383, 4384, 4385, 4386, 4387, 4388, 4389, 4390, 4391, 4392, 4393, 4394, 4395, 4396, 4397, 4398, 4399, 4400, 4401, 4402, 4403, 4404, 4405, 4406, 4407, 4408, 4409, 4410, 4411, 4412, 4413, 4414, 4415, 4416, 4417, 4418, 4419, 4420, 4421, 4422, 4423, 4424, 4425, 4426, 4427, 4428, 4429, 4430, 4431, 4432, 4434, 4435, 4437, 4438, 4440, 4441, 4442, 4444, 4445, 4446, 4447, 4449, 4450, 4454, 4455, 4456, 4457, 4458, 4460, 4461, 4462, 4463, 4464, 4465, 4466, 4468, 4469, 4470, 4472, 4473, 4475, 4476, 4480, 4531, 4547, 4554, 4560, 4561, 4563, 4572, 4578, 4584, 4586, 4589, 4592, 4593, 4594, 4595, 4596, 4602, 4603, 4606, 4614, 4615, 4616, 4618, 4621, 4625, 4626, 4627, 4628, 4629, 4630, 4631, 4632, 4633, 4635, 4638, 4639, 4646, 4650, 4651, 4652, 4653, 4654, 4655, 4657, 4658, 4659, 4663, 4664, 4665, 4666, 4676, 4677, 4679, 4681, 4685, 4687, 4688, 4689, 4690, 4691, 4692, 4693, 4694, 4695, 4696, 4697, 4698, 4699, 4700, 4701, 4702, 4703, 4704, 4705, 4706, 4707, 4708, 4709, 4710, 4711, 4712, 4713, 4714, 4715, 4716, 4717, 4718, 4719, 4720, 4721, 4722, 4723, 4724, 4725, 4726, 4727, 4728, 4729, 4730, 4731, 4733, 4734, 4735, 4736, 4737, 4738, 4739, 4740, 4741, 4743, 4744, 4745, 4746, 4748, 4749, 4750, 4751, 4753, 4754, 4755, 4756, 4757, 4758, 4759, 4760, 4761, 4762, 4763, 4764, 4765, 4767, 4768, 4769, 4770, 4771, 4772, 4773, 4774, 4775, 4777, 4778, 4779, 4780, 4781, 4782, 4783, 4784, 4785, 4787, 4788, 4789, 4790, 4791, 4792, 4794, 4795, 4796, 4797, 4798, 4799, 4800, 4801, 4802, 4804, 4805, 4806, 4807, 4808, 4809, 4810, 4811, 4813, 4814, 4815, 4816, 4817, 4818, 4819, 4820, 4821, 4822, 4823, 4825, 4826, 4827, 4828, 4829, 4830, 4832, 4833, 4834, 4835, 4836, 4837, 4838, 4839, 4840, 4841, 4843, 4845, 4846, 4847, 4848, 4849, 4850, 4851, 4852, 4854, 4855, 4856, 4857, 4858, 4859, 4861, 4862, 4863, 4864, 4865, 4866, 4867, 4869, 4870, 4871, 4872, 4873, 4874, 4875, 4876, 4877, 4878, 4880, 4881, 4882, 4883, 4885, 4886, 4887, 4888, 4889, 4890, 4891, 4892, 4893, 4895, 4896, 4897, 4898, 4899, 4900, 4901, 4902, 4903, 4904, 4905, 4906, 4907, 4908, 4909, 4910, 4911, 4913, 4914, 4915, 4916, 4917, 4918, 4919, 4920, 4921, 4922, 4924, 4925, 4926, 4927, 4928, 4929, 4930, 4931, 4932, 4933, 4934, 4935, 4936, 4938, 4939, 4940, 4941, 4942, 4943, 4944, 4945, 4946, 4948, 4949, 4950, 4951, 4952, 4953, 4954, 4955, 4956, 4957, 4958, 4959, 4960, 4961, 4962, 4963, 4965, 4966, 4967, 4968, 4969, 4970, 4971, 4972, 4974, 4975, 4976, 4977, 4978, 4979, 4981, 4982, 4983, 4984, 4985, 4986, 4987, 4988, 4989, 4990, 4991, 4992, 4993, 4994, 4995, 4996, 4997, 4998, 4999, 5000, 5002, 5003, 5004, 5005, 5006, 5007, 5008, 5009, 5010, 5011, 5012, 5013, 5014, 5016, 5017, 5018, 5019, 5020, 5022, 5023, 5024, 5025, 5026, 5027, 5028, 5029, 5030, 5031, 5032, 5033, 5034, 5035, 5036, 5037, 5038, 5039, 5040, 5041, 5042, 5043, 5044, 5045, 5046, 5047, 5048, 5049, 5050, 5051, 5053, 5054, 5055, 5056, 5057, 5058, 5059, 5060, 5061, 5062, 5063, 5064, 5065, 5067, 5068, 5069, 5070, 5071, 5072, 5073, 5074, 5075, 5076, 5078, 5079, 5080, 5081, 5082, 5083, 5084, 5085, 5086, 5087, 5088, 5090, 5091, 5092, 5093, 5094, 5096, 5097, 5098, 5099, 5100, 5101, 5102, 5103, 5104, 5105, 5106, 5107, 5108, 5109, 5110, 5111, 5112, 5113, 5115, 5119, 5120, 5124, 5125, 5127, 5128, 5130, 5132, 5134, 5135, 5136, 5139, 5140, 5142, 5145, 5146, 5150, 5151, 5154, 5155, 5156, 5158, 5159, 5160, 5163, 5164, 5165, 5167, 5168, 5174, 5178, 5180, 5182, 5183, 5187, 5189, 5191, 5192, 5194, 5197, 5200, 5204, 5206, 5207, 5210, 5216, 5218, 5219, 5222, 5227, 5228, 5235, 5236, 5237, 5239, 5241, 5242, 5245, 5247, 5249, 5251, 5253, 5255, 5256, 5258, 5259, 5261, 5264, 5267, 5269, 5271, 5275, 5277, 5279, 5280, 5281, 5284, 5293, 5295, 5297, 5298, 5300, 5302, 5303, 5306, 5307, 5309, 5311, 5312, 5314, 5319, 5322, 5323, 5326, 5328, 5330, 5333, 5338, 5339, 5340, 5343, 5344, 5347, 5348, 5350, 5352, 5356, 5360, 5363, 5365, 5367, 5369, 5370, 5372, 5375, 5376, 5381, 5383, 5386, 5391, 5393, 5394, 5395, 5397, 5399, 5400, 5403, 5404, 5406, 5408, 5411, 5412, 5413, 5417, 5418, 5420, 5421, 5424, 5425, 5427, 5428, 5430, 5431, 5432, 5434, 5435, 5437, 5438, 5440, 5441, 5442, 5443, 5445, 5446, 5448, 5449, 5450, 5453, 5455, 5456, 5457, 5459, 5463, 5468, 5469, 5470, 5472, 5473, 5474, 5477, 5480, 5485, 5487, 5489, 5491, 5492, 5494, 5495, 5501, 5507, 5509, 5510, 5513, 5514, 5515, 5516, 5518, 5519, 5521, 5523, 5524, 5526, 5528, 5530, 5533, 5536, 5540, 5543, 5545, 5546, 5547, 5550, 5552, 5553, 5554, 5556, 5557, 5559, 5560, 5563, 5564, 5567, 5569, 5572, 5574, 5575, 5576, 5579, 5581, 5582, 5584, 5585, 5588, 5590, 5591, 5593, 5595, 5596, 5598, 5599, 5601, 5604, 5605, 5606, 5609, 5610, 5613, 5614, 5615, 5617, 5618, 5619, 5620, 5621, 5622, 5623, 5625, 5626, 5627, 5628, 5629, 5631, 5632, 5633, 5634, 5635, 5637, 5638, 5639, 5640, 5642, 5643, 5644, 5646, 5647, 5648, 5649, 5650, 5651, 5653, 5654, 5655, 5656, 5657, 5658, 5659, 5660, 5661, 5662, 5664, 5665, 5666, 5667, 5668, 5669, 5671, 5672, 5673, 5674, 5675, 5676, 5677, 5679, 5680, 5681, 5682, 5684, 5685, 5686, 5687, 5688, 5689, 5690, 5692, 5693, 5695, 5696, 5697, 5698, 5700, 5701, 5702, 5703, 5704, 5706, 5707, 5708, 5710, 5711, 5712, 5714, 5715, 5717, 5718, 5719, 5720, 5721, 5723, 5724, 5725, 5726, 5728, 5729, 5731, 5732, 5734, 5735, 5736, 5737, 5738, 5739, 5741, 5742, 5743, 5744, 5746, 5747, 5748, 5749, 5750, 5751, 5752, 5754, 5755, 5756, 5757, 5759, 5760, 5761, 5762, 5764, 5765, 5766, 5767, 5768, 5769, 5771, 5772, 5773, 5774, 5775, 5777, 5778, 5779, 5780, 5781, 5782, 5783, 5785, 5787, 5790, 5791, 5792, 5793, 5795, 5796, 5797, 5799, 5800, 5801, 5803, 5804, 5805, 5806, 5808, 5809, 5811, 5812, 5813, 5815, 5816, 5817, 5818, 5819, 5821, 5822, 5824, 5825, 5827, 5828, 5829, 5830, 5831, 5833, 5834, 5835, 5837, 5838, 5839, 5841, 5842, 5845, 5847, 5848, 5849, 5851, 5852, 5853, 5854, 5855, 5857, 5858, 5859, 5861, 5863, 5864, 5866, 5868, 5869, 5872, 5873, 5875, 5876, 5877, 5878, 5880, 5881, 5883, 5885, 5886, 5888, 5889, 5890, 5893, 5895, 5897, 5898, 5899, 5901, 5902, 5903, 5905, 5906, 5908, 5910, 5911, 5914, 5915, 5917, 5918, 5920, 5922, 5923, 5925, 5927, 5928, 5929, 5931, 5932, 5934, 5935, 5937, 5938, 5940, 5941, 5942, 5943, 5945, 5946, 5947, 5949, 5951, 5952, 5953, 5954, 5956, 5957, 5958, 5959, 5961, 5962, 5963, 5964, 5965, 5966, 5968, 5969, 5970, 5972, 5973, 5974, 5975, 5977, 5979, 5980, 5981, 5983, 5986, 5987, 5988, 5990, 5991, 5992, 5993, 5994, 5996, 5997, 5998, 6001, 6003, 6004, 6005, 6008, 6009, 6010, 6012, 6013, 6014, 6016, 6017, 6019, 6020, 6021, 6023, 6024, 6026, 6027, 6029, 6030, 6032, 6033, 6034, 6036, 6037, 6038, 6040, 6041, 6042, 6044, 6045, 6047, 6049, 6051, 6052, 6053, 6054, 6056, 6058, 6059, 6061, 6063, 6064, 6066, 6067, 6068, 6070, 6071, 6072, 6074, 6076, 6077, 6078, 6079, 6081, 6082, 6084, 6087, 6089, 6091, 6092, 6094, 6095, 6097, 6099, 6100, 6102, 6103, 6104, 6106, 6107, 6110, 6111, 6112, 6114, 6115, 6117, 6118, 6119, 6120, 6121, 6123, 6126, 6127, 6129, 6130, 6131, 6133, 6134, 6135, 6136, 6139, 6140, 6141, 6142, 6144, 6145, 6147, 6148, 6149, 6151, 6152, 6155, 6157, 6158, 6159, 6160, 6162, 6163, 6164, 6166, 6169, 6171, 6174, 6175, 6176, 6177, 6178, 6180, 6181, 6182, 6183, 6186, 6190, 6191, 6193, 6196, 6199, 6200, 6201, 6202, 6204, 6206, 6207, 6208, 6211, 6212, 6213, 6214, 6217, 6218, 6222, 6225, 6226, 6227, 6228, 6229, 6231, 6232, 6233, 6234, 6237, 6241, 6242, 6244, 6247, 6250, 6251, 6252, 6253, 6255, 6257, 6258, 6259, 6262, 6263, 6264, 6265, 6268, 6269, 6272, 6274, 6275, 6277, 6278, 6280, 6283, 6284, 6285, 6289, 6290, 6292, 6293, 6294, 6298, 6301, 6302, 6306, 6309, 6310, 6313, 6314, 6315, 6318, 6319, 6320, 6323, 6324, 6325, 6329, 6330, 6331, 6332, 6333, 6334, 6336, 6338, 6339, 6340, 6343, 6345, 6346, 6347, 6348, 6349, 6351, 6352, 6354, 6356, 6357, 6358, 6359, 6360, 6361, 6362, 6363, 6365, 6368, 6372, 6373, 6374, 6375, 6376, 6378, 6381, 6382, 6383, 6384, 6387, 6389, 6390, 6391, 6393, 6394, 6395, 6396, 6399, 6400, 6401, 6403, 6405, 6406, 6407, 6408, 6409, 6413, 6415, 6416, 6419, 6420, 6421, 6422, 6423, 6424, 6425, 6427, 6428, 6430, 6431, 6432, 6434, 6435, 6436, 6437, 6438, 6439, 6440, 6441, 6442, 6443, 6444, 6445, 6446, 6447, 6449, 6450, 6451, 6452, 6453, 6454, 6455, 6456, 6458, 6459, 6460, 6461, 6462, 6465, 6466, 6467, 6468, 6469, 6470, 6471, 6472, 6473, 6475, 6476, 6477, 6478, 6479, 6480, 6481, 6483, 6484, 6485, 6486, 6487, 6488, 6489, 6490, 6491, 6492, 6493, 6494, 6495, 6496, 6498, 6500, 6501, 6502, 6503, 6504, 6506, 6508, 6510, 6511, 6512, 6513, 6514, 6515, 6516, 6517, 6518, 6519, 6520, 6521, 6524, 6525, 6526, 6527, 6528, 6529, 6530, 6532, 6534, 6535, 6536, 6537, 6538, 6539, 6540, 6541, 6542, 6543, 6544, 6545, 6546, 6547, 6548, 6549, 6550, 6552, 6553, 6554, 6555, 6556, 6557, 6558, 6560, 6562, 6563, 6564, 6565, 6567, 6568, 6569, 6571, 6572, 6574, 6575, 6576, 6578, 6581, 6582, 6583, 6584, 6585, 6586, 6589, 6590, 6593, 6596, 6597, 6598, 6599, 6600, 6603, 6605, 6606, 6607, 6608, 6609, 6611, 6612, 6613, 6614, 6617, 6618, 6619, 6620, 6621, 6622, 6623, 6626, 6628, 6629, 6630, 6631, 6633, 6634, 6636, 6639, 6640, 6642, 6643, 6646, 6647, 6649, 6651, 6652, 6654, 6655, 6656, 6657, 6658, 6660, 6661, 6662, 6663, 6664, 6665, 6666, 6667, 6668, 6669, 6670, 6671, 6672, 6673, 6674, 6676, 6677, 6678, 6679, 6680, 6682, 6683, 6684, 6685, 6686, 6687, 6688, 6689, 6690, 6691, 6692, 6693, 6694, 6695, 6696, 6697, 6699, 6700, 6702, 6703, 6704, 6707, 6708, 6709, 6711, 6712, 6713, 6716, 6719, 6721, 6723, 6724, 6725, 6726, 6728, 6730, 6731, 6732, 6733, 6738, 6740, 6741, 6742, 6743, 6746, 6748, 6753, 6755, 6756, 6760, 6761, 6763, 6765, 6766, 6772, 6774, 6776, 6777, 6778, 6779, 6782, 6783, 6784, 6791, 6792, 6793, 6795, 6797, 6798, 6802, 6803, 6804, 6805, 6807, 6812, 6813, 6815, 6816, 6818, 6820, 6821, 6823, 6824, 6825, 6828, 6830, 6831, 6832, 6836, 6838, 6840, 6841, 6842, 6845, 6846, 6847, 6849, 6855, 6856, 6857, 6858, 6859, 6860, 6862, 6863, 6866, 6870, 6871, 6872, 6874, 6875, 6876, 6877, 6878, 6879, 6881, 6882, 6886, 6889, 6890, 6891, 6893, 6895, 6896, 6897, 6898, 6899, 6900, 6901, 6902, 6903, 6904, 6905, 6908, 6909, 6911, 6913, 6914, 6916, 6917, 6920, 6921, 6925, 6926, 6928, 6929, 6930, 6931, 6933, 6936, 6938, 6940, 6941, 6942, 6943, 6945, 6946, 6948, 6950, 6951, 6952, 6953, 6954, 6956, 6957, 6960, 6961, 6963, 6965, 6966, 6967, 6968, 6969, 6970, 6971, 6972, 6973, 6975, 6976, 6979, 6980, 6981, 6982, 6983, 6984, 6985, 6986, 6987, 6988, 6989, 6990, 6991, 6993, 6994, 6995, 6996, 6997, 6998, 6999, 7000, 7002, 7003, 7004, 7005, 7006, 7007, 7008, 7009, 7010, 7011, 7012, 7013, 7014, 7015, 7016, 7017, 7018, 7019, 7020, 7021, 7022, 7023, 7024, 7025, 7026, 7027, 7028, 7029, 7030, 7031, 7032, 7033, 7034, 7035, 7036, 7037, 7038, 7039, 7040, 7041, 7042, 7043, 7044, 7045, 7046, 7047, 7048, 7049], [2, 0, 6, 7, 15, 16, 17, 18, 26, 27, 29, 36, 39, 40, 41, 42, 43, 45, 47, 48, 49, 51, 53, 54, 55, 56, 57, 58, 59, 61, 63, 66, 67, 68, 69, 71, 72, 73, 74, 76, 78, 80, 81, 82, 83, 84, 97, 98, 99, 112, 113, 116, 117, 118, 119, 120, 121, 124, 125, 127, 128, 129, 140, 141, 143, 144, 145, 148, 149, 151, 152, 154, 159, 164, 166, 167, 177, 181, 187, 190, 194, 197, 198, 203, 208, 214, 217, 225, 228, 234, 238, 243, 281, 283, 292, 293, 295, 324, 332, 337, 343, 349, 355, 356, 361, 373, 376, 384, 390, 391, 395, 396, 397, 400, 410, 412, 413, 421, 425, 426, 427, 441, 442, 445, 450, 452, 458, 462, 467, 472, 473, 475, 480, 482, 484, 486, 491, 498, 509, 514, 562, 582, 583, 589, 591, 596, 605, 610, 618, 621, 623, 627, 629, 630, 631, 632, 634, 638, 647, 652, 655, 668, 672, 679, 692, 695, 702, 707, 714, 725, 726, 746, 753, 776, 792, 805, 807, 814, 817, 822, 825, 826, 831, 839, 840, 850, 852, 861, 862, 867, 868, 909, 910, 1072, 1075, 1077, 1081, 1088, 1092, 1096, 1097, 1100, 1101, 1103, 1120, 1156, 1162, 1167, 1174, 1179, 1191, 1204, 1207, 1208, 1213, 1218, 1254, 1281, 1285, 1298, 1299, 1312, 1313, 1316, 1318, 1319, 1320, 1329, 1330, 1334, 1335, 1336, 1339, 1341, 1344, 1347, 1348, 1350, 1361, 1362, 1366, 1382, 1384, 1392, 1399, 1404, 1405, 1406, 1407, 1410, 1413, 1417, 1418, 1419, 1420, 1424, 1426, 1427, 1429, 1430, 1431, 1444, 1476, 1477, 1485, 1490, 1496, 1499, 1500, 1501, 1516, 1536, 1608, 1614, 1633, 1638, 1639, 1640, 1642, 1645, 1649, 1650, 1686, 1687, 1703, 2637, 2643, 2653, 2659, 2660, 2669, 2676, 2716, 2717, 2723, 2730, 2744, 2746, 2761, 2782, 2796, 2800, 2825, 2827, 2835, 2844, 2859, 2862, 2876, 2892, 2901, 2904, 2906, 2912, 2919, 2923, 2932, 2960, 2966, 2975, 2982, 2987, 2993, 3000, 3001, 3016, 3034, 3038, 3044, 3047, 3048, 3078, 3082, 3084, 3089, 3090, 3093, 3100, 3106, 3110, 3116, 3118, 3152, 3154, 3164, 3166, 3167, 3168, 3169, 3175, 3176, 3179, 3188, 3195, 3198, 3203, 3206, 3210, 3214, 3218, 3220, 3226, 3228, 3232, 3235, 3241, 3244, 3246, 3250, 3253, 3256, 3260, 3264, 3291, 3293, 3295, 3297, 3300, 3304, 3323, 3326, 3331, 3334, 3338, 3348, 3350, 3351, 3355, 3356, 3358, 3382, 3385, 3389, 3391, 3392, 3399, 3402, 3407, 3409, 3426, 3428, 3433, 3437, 3442, 3445, 3452, 3462, 3463, 3470, 3474, 3485, 3488, 3498, 3501, 3503, 3512, 3513, 3518, 3520, 3522, 3524, 3529, 3530, 3532, 3533, 3535, 3538, 3539, 3543, 3550, 3551, 3553, 3555, 3558, 3561, 3566, 3567, 3568, 3578, 3588, 3589, 3595, 3598, 3602, 3606, 3608, 3613, 3614, 3615, 3624, 3627, 3630, 3635, 3636, 3638, 3643, 3644, 3645, 3649, 3650, 3652, 3654, 3656, 3661, 3667, 3669, 3674, 3686, 3694, 3697, 3704, 3708, 3715, 3747, 3847, 3848, 3850, 3851, 3853, 3854, 3855, 3856, 3857, 3858, 3859, 3860, 3862, 3863, 3864, 3865, 3866, 3867, 3868, 3870, 3871, 3872, 3873, 3874, 3875, 3876, 3878, 3880, 3881, 3882, 3884, 3885, 3886, 3887, 3890, 3891, 3892, 3894, 3895, 3896, 3897, 3898, 3900, 3904, 3905, 3906, 3907, 3909, 3923, 3934, 3942, 3972, 3973, 3977, 3978, 3981, 3984, 3985, 3987, 3988, 3989, 3990, 3992, 3993, 3994, 3996, 3998, 3999, 4000, 4001, 4004, 4005, 4006, 4008, 4010, 4011, 4013, 4015, 4016, 4020, 4152, 4154, 4260, 4279, 4280, 4284, 4286, 4295, 4298, 4301, 4304, 4308, 4312, 4315, 4322, 4326, 4328, 4330, 4338, 4433, 4436, 4439, 4443, 4448, 4451, 4452, 4453, 4459, 4467, 4471, 4474, 4477, 4478, 4479, 4481, 4482, 4483, 4484, 4485, 4486, 4487, 4488, 4489, 4490, 4491, 4492, 4493, 4494, 4495, 4496, 4497, 4498, 4499, 4500, 4501, 4502, 4503, 4504, 4505, 4506, 4507, 4508, 4509, 4510, 4511, 4512, 4513, 4514, 4515, 4516, 4517, 4518, 4519, 4520, 4521, 4522, 4523, 4524, 4525, 4526, 4527, 4528, 4529, 4530, 4532, 4533, 4534, 4535, 4536, 4537, 4538, 4539, 4540, 4541, 4542, 4543, 4544, 4545, 4546, 4548, 4549, 4550, 4551, 4552, 4553, 4555, 4556, 4557, 4558, 4559, 4562, 4564, 4565, 4566, 4567, 4568, 4569, 4570, 4571, 4573, 4574, 4575, 4576, 4577, 4579, 4580, 4581, 4582, 4583, 4585, 4587, 4588, 4590, 4591, 4597, 4598, 4599, 4600, 4601, 4604, 4605, 4607, 4608, 4609, 4610, 4611, 4612, 4613, 4617, 4619, 4620, 4622, 4623, 4624, 4634, 4636, 4637, 4640, 4641, 4642, 4643, 4644, 4645, 4647, 4648, 4649, 4656, 4660, 4661, 4662, 4667, 4668, 4669, 4670, 4671, 4672, 4673, 4674, 4675, 4678, 4680, 4682, 4683, 4684, 4686, 4732, 4742, 4747, 4752, 4766, 4776, 4786, 4793, 4803, 4812, 4824, 4831, 4842, 4844, 4853, 4860, 4868, 4879, 4884, 4894, 4912, 4923, 4937, 4947, 4964, 4973, 4980, 5001, 5015, 5021, 5052, 5066, 5077, 5089, 5095, 5114, 5116, 5117, 5118, 5121, 5122, 5123, 5126, 5129, 5131, 5133, 5137, 5138, 5141, 5143, 5144, 5147, 5148, 5149, 5152, 5153, 5157, 5161, 5162, 5166, 5169, 5170, 5171, 5172, 5173, 5175, 5176, 5177, 5179, 5181, 5184, 5185, 5186, 5188, 5190, 5193, 5195, 5196, 5198, 5199, 5201, 5202, 5203, 5205, 5208, 5209, 5211, 5212, 5213, 5214, 5215, 5217, 5220, 5221, 5223, 5224, 5225, 5226, 5229, 5230, 5231, 5232, 5233, 5234, 5238, 5240, 5243, 5244, 5246, 5248, 5250, 5252, 5254, 5257, 5260, 5262, 5263, 5265, 5266, 5268, 5270, 5272, 5273, 5274, 5276, 5278, 5282, 5283, 5285, 5286, 5287, 5288, 5289, 5290, 5291, 5292, 5294, 5296, 5299, 5301, 5304, 5305, 5308, 5310, 5313, 5315, 5316, 5317, 5318, 5320, 5321, 5324, 5325, 5327, 5329, 5331, 5332, 5334, 5335, 5336, 5337, 5341, 5342, 5345, 5346, 5349, 5351, 5353, 5354, 5355, 5357, 5358, 5359, 5361, 5362, 5364, 5366, 5368, 5371, 5373, 5374, 5377, 5378, 5379, 5380, 5382, 5384, 5385, 5387, 5388, 5389, 5390, 5392, 5396, 5398, 5401, 5402, 5405, 5407, 5409, 5410, 5414, 5415, 5416, 5419, 5422, 5423, 5426, 5429, 5433, 5436, 5439, 5444, 5447, 5451, 5452, 5454, 5458, 5460, 5461, 5462, 5464, 5465, 5466, 5467, 5471, 5475, 5476, 5478, 5479, 5481, 5482, 5483, 5484, 5486, 5488, 5490, 5493, 5496, 5497, 5498, 5499, 5500, 5502, 5503, 5504, 5505, 5506, 5508, 5511, 5512, 5517, 5520, 5522, 5525, 5527, 5529, 5531, 5532, 5534, 5535, 5537, 5538, 5539, 5541, 5542, 5544, 5548, 5549, 5551, 5555, 5558, 5561, 5562, 5565, 5566, 5568, 5570, 5571, 5573, 5577, 5578, 5580, 5583, 5586, 5587, 5589, 5592, 5594, 5597, 5600, 5602, 5603, 5607, 5608, 5611, 5612, 5616, 5624, 5630, 5636, 5641, 5645, 5652, 5663, 5670, 5678, 5683, 5691, 5694, 5699, 5705, 5709, 5713, 5716, 5722, 5727, 5730, 5733, 5740, 5745, 5753, 5758, 5763, 5770, 5776, 5784, 5786, 5788, 5789, 5794, 5798, 5802, 5807, 5810, 5814, 5820, 5823, 5826, 5832, 5836, 5840, 5843, 5846, 5850, 5856, 5860, 5862, 5865, 5867, 5870, 5871, 5874, 5879, 5882, 5884, 5887, 5891, 5892, 5894, 5896, 5900, 5904, 5907, 5909, 5912, 5913, 5916, 5919, 5921, 5924, 5926, 5930, 5933, 5936, 5939, 5944, 5948, 5950, 5955, 5960, 5967, 5971, 5976, 5978, 5982, 5984, 5985, 5989, 5995, 5999, 6000, 6002, 6006, 6007, 6011, 6015, 6018, 6022, 6025, 6028, 6031, 6035, 6039, 6043, 6046, 6048, 6050, 6055, 6057, 6060, 6062, 6065, 6069, 6073, 6075, 6080, 6083, 6085, 6086, 6088, 6090, 6093, 6096, 6098, 6101, 6105, 6108, 6109, 6113, 6116, 6122, 6124, 6125, 6128, 6132, 6137, 6138, 6143, 6146, 6150, 6153, 6154, 6156, 6161, 6165, 6167, 6168, 6170, 6172, 6173, 6179, 6184, 6185, 6187, 6188, 6189, 6192, 6194, 6195, 6197, 6198, 6203, 6205, 6209, 6210, 6215, 6216, 6219, 6220, 6221, 6223, 6224, 6230, 6235, 6236, 6238, 6239, 6240, 6243, 6245, 6246, 6248, 6249, 6254, 6256, 6260, 6261, 6266, 6267, 6270, 6271, 6273, 6276, 6279, 6281, 6282, 6286, 6287, 6288, 6291, 6295, 6296, 6297, 6299, 6300, 6303, 6304, 6305, 6307, 6308, 6311, 6312, 6316, 6317, 6321, 6322, 6326, 6327, 6328, 6335, 6337, 6341, 6342, 6344, 6350, 6353, 6355, 6364, 6366, 6367, 6369, 6370, 6371, 6377, 6379, 6380, 6385, 6386, 6388, 6392, 6397, 6398, 6402, 6404, 6410, 6411, 6412, 6414, 6417, 6418, 6426, 6429, 6433, 6448, 6457, 6463, 6464, 6474, 6482, 6497, 6499, 6505, 6507, 6509, 6522, 6523, 6531, 6533, 6551, 6559, 6561, 6566, 6570, 6573, 6577, 6579, 6580, 6587, 6588, 6591, 6592, 6594, 6595, 6601, 6602, 6604, 6610, 6615, 6616, 6624, 6625, 6627, 6632, 6635, 6637, 6638, 6641, 6644, 6645, 6648, 6650, 6653, 6659, 6675, 6681, 6698, 6701, 6705, 6706, 6710, 6714, 6715, 6717, 6718, 6720, 6722, 6727, 6729, 6734, 6735, 6736, 6737, 6739, 6744, 6745, 6747, 6749, 6750, 6751, 6752, 6754, 6757, 6758, 6759, 6762, 6764, 6767, 6768, 6769, 6770, 6771, 6773, 6775, 6780, 6781, 6785, 6786, 6787, 6788, 6789, 6790, 6794, 6796, 6799, 6800, 6801, 6806, 6808, 6809, 6810, 6811, 6814, 6817, 6819, 6822, 6826, 6827, 6829, 6833, 6834, 6835, 6837, 6839, 6843, 6844, 6848, 6850, 6851, 6852, 6853, 6854, 6861, 6864, 6865, 6867, 6868, 6869, 6873, 6880, 6883, 6884, 6885, 6887, 6888, 6892, 6894, 6906, 6907, 6910, 6912, 6915, 6918, 6919, 6922, 6923, 6924, 6927, 6932, 6934, 6935, 6937, 6939, 6944, 6947, 6949, 6955, 6958, 6959, 6962, 6964, 6974, 6977, 6978, 6992, 7001]]\n"
     ]
    },
    {
     "ename": "ValueError",
     "evalue": "The truth value of an array with more than one element is ambiguous. Use a.any() or a.all()",
     "output_type": "error",
     "traceback": [
      "\u001b[1;31m---------------------------------------------------------------------------\u001b[0m",
      "\u001b[1;31mValueError\u001b[0m                                Traceback (most recent call last)",
      "\u001b[1;32m<ipython-input-117-7b4fbaf9ee50>\u001b[0m in \u001b[0;36m<module>\u001b[1;34m\u001b[0m\n\u001b[0;32m     14\u001b[0m \u001b[0mvisualizer\u001b[0m \u001b[1;33m=\u001b[0m \u001b[0mcluster_visualizer_multidim\u001b[0m\u001b[1;33m(\u001b[0m\u001b[1;33m)\u001b[0m\u001b[1;33m\u001b[0m\u001b[1;33m\u001b[0m\u001b[0m\n\u001b[0;32m     15\u001b[0m \u001b[0mvisualizer\u001b[0m\u001b[1;33m.\u001b[0m\u001b[0mappend_clusters\u001b[0m\u001b[1;33m(\u001b[0m\u001b[0mclusters\u001b[0m\u001b[1;33m,\u001b[0m \u001b[0mdf\u001b[0m\u001b[1;33m.\u001b[0m\u001b[0mvalues\u001b[0m\u001b[1;33m)\u001b[0m\u001b[1;33m\u001b[0m\u001b[1;33m\u001b[0m\u001b[0m\n\u001b[1;32m---> 16\u001b[1;33m \u001b[0mvisualizer\u001b[0m\u001b[1;33m.\u001b[0m\u001b[0mshow\u001b[0m\u001b[1;33m(\u001b[0m\u001b[0mmax_row_size\u001b[0m\u001b[1;33m=\u001b[0m\u001b[1;36m3\u001b[0m\u001b[1;33m)\u001b[0m\u001b[1;33m\u001b[0m\u001b[1;33m\u001b[0m\u001b[0m\n\u001b[0m",
      "\u001b[1;32m~\\AppData\\Local\\Continuum\\anaconda3\\lib\\site-packages\\pyclustering\\cluster\\__init__.py\u001b[0m in \u001b[0;36mshow\u001b[1;34m(self, pair_filter, **kwargs)\u001b[0m\n\u001b[0;32m    194\u001b[0m             \u001b[1;32mraise\u001b[0m \u001b[0mValueError\u001b[0m\u001b[1;33m(\u001b[0m\u001b[1;34m\"There is no non-empty clusters for visualization.\"\u001b[0m\u001b[1;33m)\u001b[0m\u001b[1;33m\u001b[0m\u001b[1;33m\u001b[0m\u001b[0m\n\u001b[0;32m    195\u001b[0m \u001b[1;33m\u001b[0m\u001b[0m\n\u001b[1;32m--> 196\u001b[1;33m         \u001b[0mcluster_data\u001b[0m \u001b[1;33m=\u001b[0m \u001b[0mself\u001b[0m\u001b[1;33m.\u001b[0m\u001b[0m__clusters\u001b[0m\u001b[1;33m[\u001b[0m\u001b[1;36m0\u001b[0m\u001b[1;33m]\u001b[0m\u001b[1;33m.\u001b[0m\u001b[0mdata\u001b[0m \u001b[1;32mor\u001b[0m \u001b[0mself\u001b[0m\u001b[1;33m.\u001b[0m\u001b[0m__clusters\u001b[0m\u001b[1;33m[\u001b[0m\u001b[1;36m0\u001b[0m\u001b[1;33m]\u001b[0m\u001b[1;33m.\u001b[0m\u001b[0mcluster\u001b[0m\u001b[1;33m\u001b[0m\u001b[1;33m\u001b[0m\u001b[0m\n\u001b[0m\u001b[0;32m    197\u001b[0m         \u001b[0mdimension\u001b[0m \u001b[1;33m=\u001b[0m \u001b[0mlen\u001b[0m\u001b[1;33m(\u001b[0m\u001b[0mcluster_data\u001b[0m\u001b[1;33m[\u001b[0m\u001b[1;36m0\u001b[0m\u001b[1;33m]\u001b[0m\u001b[1;33m)\u001b[0m\u001b[1;33m\u001b[0m\u001b[1;33m\u001b[0m\u001b[0m\n\u001b[0;32m    198\u001b[0m \u001b[1;33m\u001b[0m\u001b[0m\n",
      "\u001b[1;31mValueError\u001b[0m: The truth value of an array with more than one element is ambiguous. Use a.any() or a.all()"
     ]
    }
   ],
   "source": [
    "from pyclustering.cluster.kmedoids import kmedoids\n",
    "from pyclustering.cluster import cluster_visualizer_multidim\n",
    "from pyclustering.utils import read_sample\n",
    "# Set random initial medoids.\n",
    "initial_medoids = [1, 500]\n",
    "# Create instance of K-Medoids algorithm.\n",
    "kmedoids_instance = kmedoids(df.values, initial_medoids)\n",
    "# Run cluster analysis and obtain results.\n",
    "kmedoids_instance.process()\n",
    "clusters = kmedoids_instance.get_clusters()\n",
    "# Show allocated clusters.\n",
    "print(clusters)\n",
    "# Display clusters.\n",
    "visualizer = cluster_visualizer_multidim()\n",
    "visualizer.append_clusters(clusters, df.values)\n",
    "visualizer.show(max_row_size=3)"
   ]
  },
  {
   "cell_type": "code",
   "execution_count": null,
   "metadata": {},
   "outputs": [],
   "source": []
  }
 ],
 "metadata": {
  "kernelspec": {
   "display_name": "Python 3",
   "language": "python",
   "name": "python3"
  },
  "language_info": {
   "codemirror_mode": {
    "name": "ipython",
    "version": 3
   },
   "file_extension": ".py",
   "mimetype": "text/x-python",
   "name": "python",
   "nbconvert_exporter": "python",
   "pygments_lexer": "ipython3",
   "version": "3.7.1"
  }
 },
 "nbformat": 4,
 "nbformat_minor": 2
}
